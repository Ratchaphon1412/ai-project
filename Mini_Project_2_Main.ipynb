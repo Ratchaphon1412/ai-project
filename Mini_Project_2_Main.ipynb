{
 "cells": [
  {
   "cell_type": "markdown",
   "id": "333eab63",
   "metadata": {},
   "source": [
    " # **01418462 Artificial Intelligence Mini Project 2**"
   ]
  },
  {
   "cell_type": "markdown",
   "id": "61207642",
   "metadata": {},
   "source": [
    "#### **สมาชิก**\n",
    "\n",
    "นางสาวปรริณ คงเจริญเขตร์ รหัสนิสิต 6410451156  \n",
    "นางสาวธนพร แซ่ลิ้ม รหัสนิสิต 6410450991\n",
    "นายรัชพล หินซุย รหัสนิสิต 6410450257\n",
    "\n",
    "**ประเทศที่เลือก** : สเปน"
   ]
  },
  {
   "cell_type": "markdown",
   "id": "ce2509fb",
   "metadata": {},
   "source": [
    " ###### Import Library"
   ]
  },
  {
   "cell_type": "markdown",
   "id": "91995878",
   "metadata": {},
   "source": [
    "##### **import library**\n",
    "- **pandas** *for data manipulation and analysis*\n",
    "- **seaborn** *for plot for creating statistical data visualizations*\n",
    "- **matplotlib.pyplot** *for creating statistical data visualizations*\n",
    "    "
   ]
  },
  {
   "cell_type": "code",
   "execution_count": 409,
   "id": "43ce784e",
   "metadata": {},
   "outputs": [],
   "source": [
    "import pandas as pd\n",
    "import numpy as np\n",
    "import seaborn as sns\n",
    "import matplotlib.pyplot as plt"
   ]
  },
  {
   "cell_type": "code",
   "execution_count": 410,
   "id": "d8bf3954",
   "metadata": {},
   "outputs": [],
   "source": [
    "df = pd.read_csv('Apple462.csv')"
   ]
  },
  {
   "cell_type": "code",
   "execution_count": 411,
   "id": "e77a57aa",
   "metadata": {
    "scrolled": true
   },
   "outputs": [
    {
     "data": {
      "text/html": [
       "<div>\n",
       "<style scoped>\n",
       "    .dataframe tbody tr th:only-of-type {\n",
       "        vertical-align: middle;\n",
       "    }\n",
       "\n",
       "    .dataframe tbody tr th {\n",
       "        vertical-align: top;\n",
       "    }\n",
       "\n",
       "    .dataframe thead th {\n",
       "        text-align: right;\n",
       "    }\n",
       "</style>\n",
       "<table border=\"1\" class=\"dataframe\">\n",
       "  <thead>\n",
       "    <tr style=\"text-align: right;\">\n",
       "      <th></th>\n",
       "      <th>Unnamed: 0</th>\n",
       "      <th>Date</th>\n",
       "      <th>Envi</th>\n",
       "      <th>Fuji</th>\n",
       "      <th>Gala</th>\n",
       "      <th>region</th>\n",
       "    </tr>\n",
       "  </thead>\n",
       "  <tbody>\n",
       "    <tr>\n",
       "      <th>0</th>\n",
       "      <td>0</td>\n",
       "      <td>27/12/2015</td>\n",
       "      <td>1037</td>\n",
       "      <td>54455</td>\n",
       "      <td>48</td>\n",
       "      <td>Spain</td>\n",
       "    </tr>\n",
       "    <tr>\n",
       "      <th>1</th>\n",
       "      <td>1</td>\n",
       "      <td>20/12/2015</td>\n",
       "      <td>674</td>\n",
       "      <td>44639</td>\n",
       "      <td>58</td>\n",
       "      <td>Spain</td>\n",
       "    </tr>\n",
       "    <tr>\n",
       "      <th>2</th>\n",
       "      <td>2</td>\n",
       "      <td>13/12/2015</td>\n",
       "      <td>795</td>\n",
       "      <td>109150</td>\n",
       "      <td>131</td>\n",
       "      <td>Spain</td>\n",
       "    </tr>\n",
       "    <tr>\n",
       "      <th>3</th>\n",
       "      <td>3</td>\n",
       "      <td>6/12/2015</td>\n",
       "      <td>1132</td>\n",
       "      <td>71976</td>\n",
       "      <td>73</td>\n",
       "      <td>Spain</td>\n",
       "    </tr>\n",
       "    <tr>\n",
       "      <th>4</th>\n",
       "      <td>4</td>\n",
       "      <td>29/11/2015</td>\n",
       "      <td>941</td>\n",
       "      <td>43838</td>\n",
       "      <td>76</td>\n",
       "      <td>Spain</td>\n",
       "    </tr>\n",
       "    <tr>\n",
       "      <th>...</th>\n",
       "      <td>...</td>\n",
       "      <td>...</td>\n",
       "      <td>...</td>\n",
       "      <td>...</td>\n",
       "      <td>...</td>\n",
       "      <td>...</td>\n",
       "    </tr>\n",
       "    <tr>\n",
       "      <th>3544</th>\n",
       "      <td>7</td>\n",
       "      <td>4/2/2018</td>\n",
       "      <td>96085</td>\n",
       "      <td>2250967</td>\n",
       "      <td>3253</td>\n",
       "      <td>Portugal</td>\n",
       "    </tr>\n",
       "    <tr>\n",
       "      <th>3545</th>\n",
       "      <td>8</td>\n",
       "      <td>28/1/2018</td>\n",
       "      <td>82653</td>\n",
       "      <td>1501055</td>\n",
       "      <td>746</td>\n",
       "      <td>Portugal</td>\n",
       "    </tr>\n",
       "    <tr>\n",
       "      <th>3546</th>\n",
       "      <td>9</td>\n",
       "      <td>21/1/2018</td>\n",
       "      <td>46444</td>\n",
       "      <td>1642533</td>\n",
       "      <td>1165</td>\n",
       "      <td>Portugal</td>\n",
       "    </tr>\n",
       "    <tr>\n",
       "      <th>3547</th>\n",
       "      <td>10</td>\n",
       "      <td>14/1/2018</td>\n",
       "      <td>39682</td>\n",
       "      <td>818052</td>\n",
       "      <td>1338</td>\n",
       "      <td>Portugal</td>\n",
       "    </tr>\n",
       "    <tr>\n",
       "      <th>3548</th>\n",
       "      <td>11</td>\n",
       "      <td>7/1/2018</td>\n",
       "      <td>39884</td>\n",
       "      <td>866953</td>\n",
       "      <td>574</td>\n",
       "      <td>Portugal</td>\n",
       "    </tr>\n",
       "  </tbody>\n",
       "</table>\n",
       "<p>3549 rows × 6 columns</p>\n",
       "</div>"
      ],
      "text/plain": [
       "      Unnamed: 0        Date   Envi     Fuji  Gala    region\n",
       "0              0  27/12/2015   1037    54455    48     Spain\n",
       "1              1  20/12/2015    674    44639    58     Spain\n",
       "2              2  13/12/2015    795   109150   131     Spain\n",
       "3              3   6/12/2015   1132    71976    73     Spain\n",
       "4              4  29/11/2015    941    43838    76     Spain\n",
       "...          ...         ...    ...      ...   ...       ...\n",
       "3544           7    4/2/2018  96085  2250967  3253  Portugal\n",
       "3545           8   28/1/2018  82653  1501055   746  Portugal\n",
       "3546           9   21/1/2018  46444  1642533  1165  Portugal\n",
       "3547          10   14/1/2018  39682   818052  1338  Portugal\n",
       "3548          11    7/1/2018  39884   866953   574  Portugal\n",
       "\n",
       "[3549 rows x 6 columns]"
      ]
     },
     "execution_count": 411,
     "metadata": {},
     "output_type": "execute_result"
    }
   ],
   "source": [
    "df"
   ]
  },
  {
   "cell_type": "markdown",
   "id": "57cb70c0",
   "metadata": {},
   "source": [
    "##### ตัดประเทศให้เหลือแค่สเปน"
   ]
  },
  {
   "cell_type": "code",
   "execution_count": 412,
   "id": "a54e253e",
   "metadata": {},
   "outputs": [],
   "source": [
    "df = df[df.region == \"Spain\"]"
   ]
  },
  {
   "cell_type": "markdown",
   "id": "85ef2132",
   "metadata": {},
   "source": [
    "## Clean Data"
   ]
  },
  {
   "cell_type": "markdown",
   "id": "88267bca",
   "metadata": {},
   "source": [
    "##### Drop column \"Unnamed: 0\", Reset Index, Change Date column to date type"
   ]
  },
  {
   "cell_type": "code",
   "execution_count": 413,
   "id": "bce8dfb9",
   "metadata": {
    "scrolled": true
   },
   "outputs": [
    {
     "data": {
      "text/html": [
       "<div>\n",
       "<style scoped>\n",
       "    .dataframe tbody tr th:only-of-type {\n",
       "        vertical-align: middle;\n",
       "    }\n",
       "\n",
       "    .dataframe tbody tr th {\n",
       "        vertical-align: top;\n",
       "    }\n",
       "\n",
       "    .dataframe thead th {\n",
       "        text-align: right;\n",
       "    }\n",
       "</style>\n",
       "<table border=\"1\" class=\"dataframe\">\n",
       "  <thead>\n",
       "    <tr style=\"text-align: right;\">\n",
       "      <th></th>\n",
       "      <th>Date</th>\n",
       "      <th>Envi</th>\n",
       "      <th>Fuji</th>\n",
       "      <th>Gala</th>\n",
       "    </tr>\n",
       "  </thead>\n",
       "  <tbody>\n",
       "    <tr>\n",
       "      <th>0</th>\n",
       "      <td>2015-12-27</td>\n",
       "      <td>1037</td>\n",
       "      <td>54455</td>\n",
       "      <td>48</td>\n",
       "    </tr>\n",
       "    <tr>\n",
       "      <th>1</th>\n",
       "      <td>2015-12-20</td>\n",
       "      <td>674</td>\n",
       "      <td>44639</td>\n",
       "      <td>58</td>\n",
       "    </tr>\n",
       "    <tr>\n",
       "      <th>2</th>\n",
       "      <td>2015-12-13</td>\n",
       "      <td>795</td>\n",
       "      <td>109150</td>\n",
       "      <td>131</td>\n",
       "    </tr>\n",
       "    <tr>\n",
       "      <th>3</th>\n",
       "      <td>2015-12-06</td>\n",
       "      <td>1132</td>\n",
       "      <td>71976</td>\n",
       "      <td>73</td>\n",
       "    </tr>\n",
       "    <tr>\n",
       "      <th>4</th>\n",
       "      <td>2015-11-29</td>\n",
       "      <td>941</td>\n",
       "      <td>43838</td>\n",
       "      <td>76</td>\n",
       "    </tr>\n",
       "    <tr>\n",
       "      <th>...</th>\n",
       "      <td>...</td>\n",
       "      <td>...</td>\n",
       "      <td>...</td>\n",
       "      <td>...</td>\n",
       "    </tr>\n",
       "    <tr>\n",
       "      <th>164</th>\n",
       "      <td>2018-02-04</td>\n",
       "      <td>7626</td>\n",
       "      <td>195725</td>\n",
       "      <td>144</td>\n",
       "    </tr>\n",
       "    <tr>\n",
       "      <th>165</th>\n",
       "      <td>2018-01-28</td>\n",
       "      <td>3101</td>\n",
       "      <td>74627</td>\n",
       "      <td>56</td>\n",
       "    </tr>\n",
       "    <tr>\n",
       "      <th>166</th>\n",
       "      <td>2018-01-21</td>\n",
       "      <td>3133</td>\n",
       "      <td>116521</td>\n",
       "      <td>89</td>\n",
       "    </tr>\n",
       "    <tr>\n",
       "      <th>167</th>\n",
       "      <td>2018-01-14</td>\n",
       "      <td>2897</td>\n",
       "      <td>76571</td>\n",
       "      <td>44</td>\n",
       "    </tr>\n",
       "    <tr>\n",
       "      <th>168</th>\n",
       "      <td>2018-01-07</td>\n",
       "      <td>2941</td>\n",
       "      <td>76193</td>\n",
       "      <td>43</td>\n",
       "    </tr>\n",
       "  </tbody>\n",
       "</table>\n",
       "<p>169 rows × 4 columns</p>\n",
       "</div>"
      ],
      "text/plain": [
       "          Date  Envi    Fuji Gala\n",
       "0   2015-12-27  1037   54455   48\n",
       "1   2015-12-20   674   44639   58\n",
       "2   2015-12-13   795  109150  131\n",
       "3   2015-12-06  1132   71976   73\n",
       "4   2015-11-29   941   43838   76\n",
       "..         ...   ...     ...  ...\n",
       "164 2018-02-04  7626  195725  144\n",
       "165 2018-01-28  3101   74627   56\n",
       "166 2018-01-21  3133  116521   89\n",
       "167 2018-01-14  2897   76571   44\n",
       "168 2018-01-07  2941   76193   43\n",
       "\n",
       "[169 rows x 4 columns]"
      ]
     },
     "execution_count": 413,
     "metadata": {},
     "output_type": "execute_result"
    }
   ],
   "source": [
    "df = df.drop(['Unnamed: 0','region'], axis=1)\n",
    "df = df.reset_index().drop('index',axis=1)\n",
    "df['Date'] = pd.to_datetime(df['Date'], format='%d/%m/%Y')\n",
    "df"
   ]
  },
  {
   "cell_type": "code",
   "execution_count": 414,
   "id": "25d61e1c",
   "metadata": {},
   "outputs": [],
   "source": [
    "df['Gala'] = pd.to_numeric(df['Gala'], errors='coerce')\n",
    "df['Envi'] = pd.to_numeric(df['Envi'], errors='coerce')\n",
    "df['Fuji'] = pd.to_numeric(df['Fuji'], errors='coerce')"
   ]
  },
  {
   "cell_type": "code",
   "execution_count": 415,
   "id": "5348c502",
   "metadata": {},
   "outputs": [
    {
     "name": "stderr",
     "output_type": "stream",
     "text": [
      "C:\\Users\\VICTUS\\AppData\\Local\\Temp\\ipykernel_17236\\1903680882.py:1: FutureWarning: A value is trying to be set on a copy of a DataFrame or Series through chained assignment using an inplace method.\n",
      "The behavior will change in pandas 3.0. This inplace method will never work because the intermediate object on which we are setting values always behaves as a copy.\n",
      "\n",
      "For example, when doing 'df[col].method(value, inplace=True)', try using 'df.method({col: value}, inplace=True)' or df[col] = df[col].method(value) instead, to perform the operation inplace on the original object.\n",
      "\n",
      "\n",
      "  df['Gala'].replace(' ', np.nan, inplace=True)\n",
      "C:\\Users\\VICTUS\\AppData\\Local\\Temp\\ipykernel_17236\\1903680882.py:2: FutureWarning: A value is trying to be set on a copy of a DataFrame or Series through chained assignment using an inplace method.\n",
      "The behavior will change in pandas 3.0. This inplace method will never work because the intermediate object on which we are setting values always behaves as a copy.\n",
      "\n",
      "For example, when doing 'df[col].method(value, inplace=True)', try using 'df.method({col: value}, inplace=True)' or df[col] = df[col].method(value) instead, to perform the operation inplace on the original object.\n",
      "\n",
      "\n",
      "  df['Fuji'].replace(' ', np.nan, inplace=True)\n",
      "C:\\Users\\VICTUS\\AppData\\Local\\Temp\\ipykernel_17236\\1903680882.py:3: FutureWarning: A value is trying to be set on a copy of a DataFrame or Series through chained assignment using an inplace method.\n",
      "The behavior will change in pandas 3.0. This inplace method will never work because the intermediate object on which we are setting values always behaves as a copy.\n",
      "\n",
      "For example, when doing 'df[col].method(value, inplace=True)', try using 'df.method({col: value}, inplace=True)' or df[col] = df[col].method(value) instead, to perform the operation inplace on the original object.\n",
      "\n",
      "\n",
      "  df['Envi'].replace(' ', np.nan, inplace=True)\n"
     ]
    }
   ],
   "source": [
    "df['Gala'].replace(' ', np.nan, inplace=True)\n",
    "df['Fuji'].replace(' ', np.nan, inplace=True)\n",
    "df['Envi'].replace(' ', np.nan, inplace=True)"
   ]
  },
  {
   "cell_type": "code",
   "execution_count": 416,
   "id": "7719596d",
   "metadata": {},
   "outputs": [],
   "source": [
    "df.Gala = df['Gala'].interpolate()\n",
    "df.Fuji = df['Fuji'].interpolate()\n",
    "df.Envi = df['Envi'].interpolate()"
   ]
  },
  {
   "cell_type": "markdown",
   "id": "c7e876c7",
   "metadata": {},
   "source": [
    "##### แยกสายพันธุ์"
   ]
  },
  {
   "cell_type": "code",
   "execution_count": 417,
   "id": "c1b53bb7",
   "metadata": {},
   "outputs": [],
   "source": [
    "envi = df.drop(['Fuji', 'Gala'], axis=1)\n",
    "fuji = df.drop(['Envi','Gala'],axis=1)\n",
    "gala = df.drop(['Envi','Fuji'],axis=1)"
   ]
  },
  {
   "cell_type": "markdown",
   "id": "44fa23fa-0817-4612-91a9-eea5780a14cf",
   "metadata": {},
   "source": [
    "# Gala"
   ]
  },
  {
   "cell_type": "code",
   "execution_count": 418,
   "id": "f57afeae-1df5-41a9-b43d-045bfbac6f51",
   "metadata": {},
   "outputs": [
    {
     "data": {
      "text/html": [
       "<div>\n",
       "<style scoped>\n",
       "    .dataframe tbody tr th:only-of-type {\n",
       "        vertical-align: middle;\n",
       "    }\n",
       "\n",
       "    .dataframe tbody tr th {\n",
       "        vertical-align: top;\n",
       "    }\n",
       "\n",
       "    .dataframe thead th {\n",
       "        text-align: right;\n",
       "    }\n",
       "</style>\n",
       "<table border=\"1\" class=\"dataframe\">\n",
       "  <thead>\n",
       "    <tr style=\"text-align: right;\">\n",
       "      <th></th>\n",
       "      <th>Date</th>\n",
       "      <th>Gala</th>\n",
       "    </tr>\n",
       "  </thead>\n",
       "  <tbody>\n",
       "    <tr>\n",
       "      <th>0</th>\n",
       "      <td>2015-12-27</td>\n",
       "      <td>48.0</td>\n",
       "    </tr>\n",
       "    <tr>\n",
       "      <th>1</th>\n",
       "      <td>2015-12-20</td>\n",
       "      <td>58.0</td>\n",
       "    </tr>\n",
       "    <tr>\n",
       "      <th>2</th>\n",
       "      <td>2015-12-13</td>\n",
       "      <td>131.0</td>\n",
       "    </tr>\n",
       "    <tr>\n",
       "      <th>3</th>\n",
       "      <td>2015-12-06</td>\n",
       "      <td>73.0</td>\n",
       "    </tr>\n",
       "    <tr>\n",
       "      <th>4</th>\n",
       "      <td>2015-11-29</td>\n",
       "      <td>76.0</td>\n",
       "    </tr>\n",
       "    <tr>\n",
       "      <th>...</th>\n",
       "      <td>...</td>\n",
       "      <td>...</td>\n",
       "    </tr>\n",
       "    <tr>\n",
       "      <th>164</th>\n",
       "      <td>2018-02-04</td>\n",
       "      <td>144.0</td>\n",
       "    </tr>\n",
       "    <tr>\n",
       "      <th>165</th>\n",
       "      <td>2018-01-28</td>\n",
       "      <td>56.0</td>\n",
       "    </tr>\n",
       "    <tr>\n",
       "      <th>166</th>\n",
       "      <td>2018-01-21</td>\n",
       "      <td>89.0</td>\n",
       "    </tr>\n",
       "    <tr>\n",
       "      <th>167</th>\n",
       "      <td>2018-01-14</td>\n",
       "      <td>44.0</td>\n",
       "    </tr>\n",
       "    <tr>\n",
       "      <th>168</th>\n",
       "      <td>2018-01-07</td>\n",
       "      <td>43.0</td>\n",
       "    </tr>\n",
       "  </tbody>\n",
       "</table>\n",
       "<p>169 rows × 2 columns</p>\n",
       "</div>"
      ],
      "text/plain": [
       "          Date   Gala\n",
       "0   2015-12-27   48.0\n",
       "1   2015-12-20   58.0\n",
       "2   2015-12-13  131.0\n",
       "3   2015-12-06   73.0\n",
       "4   2015-11-29   76.0\n",
       "..         ...    ...\n",
       "164 2018-02-04  144.0\n",
       "165 2018-01-28   56.0\n",
       "166 2018-01-21   89.0\n",
       "167 2018-01-14   44.0\n",
       "168 2018-01-07   43.0\n",
       "\n",
       "[169 rows x 2 columns]"
      ]
     },
     "execution_count": 418,
     "metadata": {},
     "output_type": "execute_result"
    }
   ],
   "source": [
    "#pd.set_option('display.max_rows', None)\n",
    "gala"
   ]
  },
  {
   "cell_type": "code",
   "execution_count": 419,
   "id": "b4d7d483-5d1d-41b9-a31b-8b50c2f49d18",
   "metadata": {
    "scrolled": true
   },
   "outputs": [
    {
     "data": {
      "text/html": [
       "<div>\n",
       "<style scoped>\n",
       "    .dataframe tbody tr th:only-of-type {\n",
       "        vertical-align: middle;\n",
       "    }\n",
       "\n",
       "    .dataframe tbody tr th {\n",
       "        vertical-align: top;\n",
       "    }\n",
       "\n",
       "    .dataframe thead th {\n",
       "        text-align: right;\n",
       "    }\n",
       "</style>\n",
       "<table border=\"1\" class=\"dataframe\">\n",
       "  <thead>\n",
       "    <tr style=\"text-align: right;\">\n",
       "      <th></th>\n",
       "      <th>Gala</th>\n",
       "    </tr>\n",
       "    <tr>\n",
       "      <th>Date</th>\n",
       "      <th></th>\n",
       "    </tr>\n",
       "  </thead>\n",
       "  <tbody>\n",
       "    <tr>\n",
       "      <th>2015-01-04</th>\n",
       "      <td>50.0</td>\n",
       "    </tr>\n",
       "    <tr>\n",
       "      <th>2015-01-11</th>\n",
       "      <td>127.0</td>\n",
       "    </tr>\n",
       "    <tr>\n",
       "      <th>2015-01-18</th>\n",
       "      <td>136.0</td>\n",
       "    </tr>\n",
       "    <tr>\n",
       "      <th>2015-01-25</th>\n",
       "      <td>164.0</td>\n",
       "    </tr>\n",
       "    <tr>\n",
       "      <th>2015-02-01</th>\n",
       "      <td>179.0</td>\n",
       "    </tr>\n",
       "    <tr>\n",
       "      <th>...</th>\n",
       "      <td>...</td>\n",
       "    </tr>\n",
       "    <tr>\n",
       "      <th>2018-02-25</th>\n",
       "      <td>48.0</td>\n",
       "    </tr>\n",
       "    <tr>\n",
       "      <th>2018-03-04</th>\n",
       "      <td>96.0</td>\n",
       "    </tr>\n",
       "    <tr>\n",
       "      <th>2018-03-11</th>\n",
       "      <td>70.0</td>\n",
       "    </tr>\n",
       "    <tr>\n",
       "      <th>2018-03-18</th>\n",
       "      <td>55.0</td>\n",
       "    </tr>\n",
       "    <tr>\n",
       "      <th>2018-03-25</th>\n",
       "      <td>65.0</td>\n",
       "    </tr>\n",
       "  </tbody>\n",
       "</table>\n",
       "<p>169 rows × 1 columns</p>\n",
       "</div>"
      ],
      "text/plain": [
       "             Gala\n",
       "Date             \n",
       "2015-01-04   50.0\n",
       "2015-01-11  127.0\n",
       "2015-01-18  136.0\n",
       "2015-01-25  164.0\n",
       "2015-02-01  179.0\n",
       "...           ...\n",
       "2018-02-25   48.0\n",
       "2018-03-04   96.0\n",
       "2018-03-11   70.0\n",
       "2018-03-18   55.0\n",
       "2018-03-25   65.0\n",
       "\n",
       "[169 rows x 1 columns]"
      ]
     },
     "execution_count": 419,
     "metadata": {},
     "output_type": "execute_result"
    }
   ],
   "source": [
    "gala = gala.set_index('Date')\n",
    "gala.sort_index(ascending=True)"
   ]
  },
  {
   "cell_type": "markdown",
   "id": "714ce3bc",
   "metadata": {},
   "source": [
    "#### Visualize"
   ]
  },
  {
   "cell_type": "code",
   "execution_count": 420,
   "id": "ab099e6e",
   "metadata": {
    "scrolled": true
   },
   "outputs": [
    {
     "data": {
      "text/plain": [
       "<Axes: xlabel='Date', ylabel='Gala'>"
      ]
     },
     "execution_count": 420,
     "metadata": {},
     "output_type": "execute_result"
    },
    {
     "data": {
      "image/png": "[encoded data removed]",
      "text/plain": [
       "<Figure size 1000x500 with 1 Axes>"
      ]
     },
     "metadata": {},
     "output_type": "display_data"
    }
   ],
   "source": [
    "plt.figure(figsize=(10, 5))\n",
    "sns.lineplot(data=gala, x='Date', y='Gala')"
   ]
  },
  {
   "cell_type": "code",
   "execution_count": 421,
   "id": "3653cdd8",
   "metadata": {},
   "outputs": [],
   "source": [
    "#gala.sort_index(ascending=True)"
   ]
  },
  {
   "cell_type": "code",
   "execution_count": 422,
   "id": "c4337e3a",
   "metadata": {},
   "outputs": [
    {
     "data": {
      "text/html": [
       "<div>\n",
       "<style scoped>\n",
       "    .dataframe tbody tr th:only-of-type {\n",
       "        vertical-align: middle;\n",
       "    }\n",
       "\n",
       "    .dataframe tbody tr th {\n",
       "        vertical-align: top;\n",
       "    }\n",
       "\n",
       "    .dataframe thead th {\n",
       "        text-align: right;\n",
       "    }\n",
       "</style>\n",
       "<table border=\"1\" class=\"dataframe\">\n",
       "  <thead>\n",
       "    <tr style=\"text-align: right;\">\n",
       "      <th></th>\n",
       "      <th>Gala</th>\n",
       "      <th>y</th>\n",
       "    </tr>\n",
       "    <tr>\n",
       "      <th>Date</th>\n",
       "      <th></th>\n",
       "      <th></th>\n",
       "    </tr>\n",
       "  </thead>\n",
       "  <tbody>\n",
       "    <tr>\n",
       "      <th>2015-12-27</th>\n",
       "      <td>48.0</td>\n",
       "      <td>58.0</td>\n",
       "    </tr>\n",
       "    <tr>\n",
       "      <th>2015-12-20</th>\n",
       "      <td>58.0</td>\n",
       "      <td>131.0</td>\n",
       "    </tr>\n",
       "    <tr>\n",
       "      <th>2015-12-13</th>\n",
       "      <td>131.0</td>\n",
       "      <td>73.0</td>\n",
       "    </tr>\n",
       "    <tr>\n",
       "      <th>2015-12-06</th>\n",
       "      <td>73.0</td>\n",
       "      <td>76.0</td>\n",
       "    </tr>\n",
       "    <tr>\n",
       "      <th>2015-11-29</th>\n",
       "      <td>76.0</td>\n",
       "      <td>44.0</td>\n",
       "    </tr>\n",
       "    <tr>\n",
       "      <th>...</th>\n",
       "      <td>...</td>\n",
       "      <td>...</td>\n",
       "    </tr>\n",
       "    <tr>\n",
       "      <th>2018-02-11</th>\n",
       "      <td>61.0</td>\n",
       "      <td>144.0</td>\n",
       "    </tr>\n",
       "    <tr>\n",
       "      <th>2018-02-04</th>\n",
       "      <td>144.0</td>\n",
       "      <td>56.0</td>\n",
       "    </tr>\n",
       "    <tr>\n",
       "      <th>2018-01-28</th>\n",
       "      <td>56.0</td>\n",
       "      <td>89.0</td>\n",
       "    </tr>\n",
       "    <tr>\n",
       "      <th>2018-01-21</th>\n",
       "      <td>89.0</td>\n",
       "      <td>44.0</td>\n",
       "    </tr>\n",
       "    <tr>\n",
       "      <th>2018-01-14</th>\n",
       "      <td>44.0</td>\n",
       "      <td>43.0</td>\n",
       "    </tr>\n",
       "  </tbody>\n",
       "</table>\n",
       "<p>168 rows × 2 columns</p>\n",
       "</div>"
      ],
      "text/plain": [
       "             Gala      y\n",
       "Date                    \n",
       "2015-12-27   48.0   58.0\n",
       "2015-12-20   58.0  131.0\n",
       "2015-12-13  131.0   73.0\n",
       "2015-12-06   73.0   76.0\n",
       "2015-11-29   76.0   44.0\n",
       "...           ...    ...\n",
       "2018-02-11   61.0  144.0\n",
       "2018-02-04  144.0   56.0\n",
       "2018-01-28   56.0   89.0\n",
       "2018-01-21   89.0   44.0\n",
       "2018-01-14   44.0   43.0\n",
       "\n",
       "[168 rows x 2 columns]"
      ]
     },
     "execution_count": 422,
     "metadata": {},
     "output_type": "execute_result"
    }
   ],
   "source": [
    "gala['y'] = gala['Gala'].shift(-1)\n",
    "gala = gala.drop(gala.tail(1).index)\n",
    "gala"
   ]
  },
  {
   "cell_type": "markdown",
   "id": "161ee366-9c79-4bc8-911c-145e3473d7b9",
   "metadata": {},
   "source": [
    "#### Baseline_pred"
   ]
  },
  {
   "cell_type": "code",
   "execution_count": 423,
   "id": "e152f4e9-f883-4911-b4a6-c05fc83fc748",
   "metadata": {},
   "outputs": [],
   "source": [
    "gala['baseline_pred'] = gala['Gala']"
   ]
  },
  {
   "cell_type": "markdown",
   "id": "bcfe71be-9f37-4878-8ddc-ea39fd8bb1dc",
   "metadata": {},
   "source": [
    "#### Decision Tree Regressor"
   ]
  },
  {
   "cell_type": "code",
   "execution_count": 424,
   "id": "17ac9ec1",
   "metadata": {},
   "outputs": [],
   "source": [
    "from sklearn.tree import DecisionTreeRegressor\n",
    "\n",
    "X_train = gala['Gala'].values.reshape(-1, 1)\n",
    "y_train = gala['y'].values.reshape(-1, 1)\n",
    "X_test = gala['Gala'].values.reshape(-1, 1)\n",
    "\n",
    "\n",
    "dt_reg = DecisionTreeRegressor(random_state=320)\n",
    "dt_reg.fit(X_train, y_train)\n",
    "\n",
    "dt_pred = dt_reg.predict(X_test)\n",
    "\n",
    "gala['dt_pred'] = dt_pred"
   ]
  },
  {
   "cell_type": "code",
   "execution_count": 425,
   "id": "4c0bd4b1",
   "metadata": {},
   "outputs": [
    {
     "data": {
      "text/html": [
       "<div>\n",
       "<style scoped>\n",
       "    .dataframe tbody tr th:only-of-type {\n",
       "        vertical-align: middle;\n",
       "    }\n",
       "\n",
       "    .dataframe tbody tr th {\n",
       "        vertical-align: top;\n",
       "    }\n",
       "\n",
       "    .dataframe thead th {\n",
       "        text-align: right;\n",
       "    }\n",
       "</style>\n",
       "<table border=\"1\" class=\"dataframe\">\n",
       "  <thead>\n",
       "    <tr style=\"text-align: right;\">\n",
       "      <th></th>\n",
       "      <th>Gala</th>\n",
       "      <th>y</th>\n",
       "      <th>baseline_pred</th>\n",
       "      <th>dt_pred</th>\n",
       "    </tr>\n",
       "    <tr>\n",
       "      <th>Date</th>\n",
       "      <th></th>\n",
       "      <th></th>\n",
       "      <th></th>\n",
       "      <th></th>\n",
       "    </tr>\n",
       "  </thead>\n",
       "  <tbody>\n",
       "    <tr>\n",
       "      <th>2015-12-27</th>\n",
       "      <td>48.0</td>\n",
       "      <td>58.0</td>\n",
       "      <td>48.0</td>\n",
       "      <td>66.500000</td>\n",
       "    </tr>\n",
       "    <tr>\n",
       "      <th>2015-12-20</th>\n",
       "      <td>58.0</td>\n",
       "      <td>131.0</td>\n",
       "      <td>58.0</td>\n",
       "      <td>79.000000</td>\n",
       "    </tr>\n",
       "    <tr>\n",
       "      <th>2015-12-13</th>\n",
       "      <td>131.0</td>\n",
       "      <td>73.0</td>\n",
       "      <td>131.0</td>\n",
       "      <td>73.000000</td>\n",
       "    </tr>\n",
       "    <tr>\n",
       "      <th>2015-12-06</th>\n",
       "      <td>73.0</td>\n",
       "      <td>76.0</td>\n",
       "      <td>73.0</td>\n",
       "      <td>76.000000</td>\n",
       "    </tr>\n",
       "    <tr>\n",
       "      <th>2015-11-29</th>\n",
       "      <td>76.0</td>\n",
       "      <td>44.0</td>\n",
       "      <td>76.0</td>\n",
       "      <td>44.000000</td>\n",
       "    </tr>\n",
       "    <tr>\n",
       "      <th>...</th>\n",
       "      <td>...</td>\n",
       "      <td>...</td>\n",
       "      <td>...</td>\n",
       "      <td>...</td>\n",
       "    </tr>\n",
       "    <tr>\n",
       "      <th>2018-02-11</th>\n",
       "      <td>61.0</td>\n",
       "      <td>144.0</td>\n",
       "      <td>61.0</td>\n",
       "      <td>100.000000</td>\n",
       "    </tr>\n",
       "    <tr>\n",
       "      <th>2018-02-04</th>\n",
       "      <td>144.0</td>\n",
       "      <td>56.0</td>\n",
       "      <td>144.0</td>\n",
       "      <td>56.000000</td>\n",
       "    </tr>\n",
       "    <tr>\n",
       "      <th>2018-01-28</th>\n",
       "      <td>56.0</td>\n",
       "      <td>89.0</td>\n",
       "      <td>56.0</td>\n",
       "      <td>76.000000</td>\n",
       "    </tr>\n",
       "    <tr>\n",
       "      <th>2018-01-21</th>\n",
       "      <td>89.0</td>\n",
       "      <td>44.0</td>\n",
       "      <td>89.0</td>\n",
       "      <td>51.000000</td>\n",
       "    </tr>\n",
       "    <tr>\n",
       "      <th>2018-01-14</th>\n",
       "      <td>44.0</td>\n",
       "      <td>43.0</td>\n",
       "      <td>44.0</td>\n",
       "      <td>77.666667</td>\n",
       "    </tr>\n",
       "  </tbody>\n",
       "</table>\n",
       "<p>168 rows × 4 columns</p>\n",
       "</div>"
      ],
      "text/plain": [
       "             Gala      y  baseline_pred     dt_pred\n",
       "Date                                               \n",
       "2015-12-27   48.0   58.0           48.0   66.500000\n",
       "2015-12-20   58.0  131.0           58.0   79.000000\n",
       "2015-12-13  131.0   73.0          131.0   73.000000\n",
       "2015-12-06   73.0   76.0           73.0   76.000000\n",
       "2015-11-29   76.0   44.0           76.0   44.000000\n",
       "...           ...    ...            ...         ...\n",
       "2018-02-11   61.0  144.0           61.0  100.000000\n",
       "2018-02-04  144.0   56.0          144.0   56.000000\n",
       "2018-01-28   56.0   89.0           56.0   76.000000\n",
       "2018-01-21   89.0   44.0           89.0   51.000000\n",
       "2018-01-14   44.0   43.0           44.0   77.666667\n",
       "\n",
       "[168 rows x 4 columns]"
      ]
     },
     "execution_count": 425,
     "metadata": {},
     "output_type": "execute_result"
    }
   ],
   "source": [
    "gala"
   ]
  },
  {
   "cell_type": "markdown",
   "id": "1c105bb6-fb34-4924-92d8-3213c8c4de56",
   "metadata": {},
   "source": [
    "#### Gradient Boosting"
   ]
  },
  {
   "cell_type": "code",
   "execution_count": 426,
   "id": "bb5d4445",
   "metadata": {},
   "outputs": [
    {
     "data": {
      "text/html": [
       "<div>\n",
       "<style scoped>\n",
       "    .dataframe tbody tr th:only-of-type {\n",
       "        vertical-align: middle;\n",
       "    }\n",
       "\n",
       "    .dataframe tbody tr th {\n",
       "        vertical-align: top;\n",
       "    }\n",
       "\n",
       "    .dataframe thead th {\n",
       "        text-align: right;\n",
       "    }\n",
       "</style>\n",
       "<table border=\"1\" class=\"dataframe\">\n",
       "  <thead>\n",
       "    <tr style=\"text-align: right;\">\n",
       "      <th></th>\n",
       "      <th>Gala</th>\n",
       "      <th>y</th>\n",
       "      <th>baseline_pred</th>\n",
       "      <th>dt_pred</th>\n",
       "      <th>gbr_pred</th>\n",
       "    </tr>\n",
       "    <tr>\n",
       "      <th>Date</th>\n",
       "      <th></th>\n",
       "      <th></th>\n",
       "      <th></th>\n",
       "      <th></th>\n",
       "      <th></th>\n",
       "    </tr>\n",
       "  </thead>\n",
       "  <tbody>\n",
       "    <tr>\n",
       "      <th>2015-12-27</th>\n",
       "      <td>48.0</td>\n",
       "      <td>58.0</td>\n",
       "      <td>48.0</td>\n",
       "      <td>66.500000</td>\n",
       "      <td>77.949802</td>\n",
       "    </tr>\n",
       "    <tr>\n",
       "      <th>2015-12-20</th>\n",
       "      <td>58.0</td>\n",
       "      <td>131.0</td>\n",
       "      <td>58.0</td>\n",
       "      <td>79.000000</td>\n",
       "      <td>83.200528</td>\n",
       "    </tr>\n",
       "    <tr>\n",
       "      <th>2015-12-13</th>\n",
       "      <td>131.0</td>\n",
       "      <td>73.0</td>\n",
       "      <td>131.0</td>\n",
       "      <td>73.000000</td>\n",
       "      <td>108.159524</td>\n",
       "    </tr>\n",
       "    <tr>\n",
       "      <th>2015-12-06</th>\n",
       "      <td>73.0</td>\n",
       "      <td>76.0</td>\n",
       "      <td>73.0</td>\n",
       "      <td>76.000000</td>\n",
       "      <td>80.693828</td>\n",
       "    </tr>\n",
       "    <tr>\n",
       "      <th>2015-11-29</th>\n",
       "      <td>76.0</td>\n",
       "      <td>44.0</td>\n",
       "      <td>76.0</td>\n",
       "      <td>44.000000</td>\n",
       "      <td>80.693828</td>\n",
       "    </tr>\n",
       "    <tr>\n",
       "      <th>...</th>\n",
       "      <td>...</td>\n",
       "      <td>...</td>\n",
       "      <td>...</td>\n",
       "      <td>...</td>\n",
       "      <td>...</td>\n",
       "    </tr>\n",
       "    <tr>\n",
       "      <th>2018-02-11</th>\n",
       "      <td>61.0</td>\n",
       "      <td>144.0</td>\n",
       "      <td>61.0</td>\n",
       "      <td>100.000000</td>\n",
       "      <td>83.200528</td>\n",
       "    </tr>\n",
       "    <tr>\n",
       "      <th>2018-02-04</th>\n",
       "      <td>144.0</td>\n",
       "      <td>56.0</td>\n",
       "      <td>144.0</td>\n",
       "      <td>56.000000</td>\n",
       "      <td>102.287930</td>\n",
       "    </tr>\n",
       "    <tr>\n",
       "      <th>2018-01-28</th>\n",
       "      <td>56.0</td>\n",
       "      <td>89.0</td>\n",
       "      <td>56.0</td>\n",
       "      <td>76.000000</td>\n",
       "      <td>83.200528</td>\n",
       "    </tr>\n",
       "    <tr>\n",
       "      <th>2018-01-21</th>\n",
       "      <td>89.0</td>\n",
       "      <td>44.0</td>\n",
       "      <td>89.0</td>\n",
       "      <td>51.000000</td>\n",
       "      <td>80.693828</td>\n",
       "    </tr>\n",
       "    <tr>\n",
       "      <th>2018-01-14</th>\n",
       "      <td>44.0</td>\n",
       "      <td>43.0</td>\n",
       "      <td>44.0</td>\n",
       "      <td>77.666667</td>\n",
       "      <td>82.986888</td>\n",
       "    </tr>\n",
       "  </tbody>\n",
       "</table>\n",
       "<p>168 rows × 5 columns</p>\n",
       "</div>"
      ],
      "text/plain": [
       "             Gala      y  baseline_pred     dt_pred    gbr_pred\n",
       "Date                                                           \n",
       "2015-12-27   48.0   58.0           48.0   66.500000   77.949802\n",
       "2015-12-20   58.0  131.0           58.0   79.000000   83.200528\n",
       "2015-12-13  131.0   73.0          131.0   73.000000  108.159524\n",
       "2015-12-06   73.0   76.0           73.0   76.000000   80.693828\n",
       "2015-11-29   76.0   44.0           76.0   44.000000   80.693828\n",
       "...           ...    ...            ...         ...         ...\n",
       "2018-02-11   61.0  144.0           61.0  100.000000   83.200528\n",
       "2018-02-04  144.0   56.0          144.0   56.000000  102.287930\n",
       "2018-01-28   56.0   89.0           56.0   76.000000   83.200528\n",
       "2018-01-21   89.0   44.0           89.0   51.000000   80.693828\n",
       "2018-01-14   44.0   43.0           44.0   77.666667   82.986888\n",
       "\n",
       "[168 rows x 5 columns]"
      ]
     },
     "execution_count": 426,
     "metadata": {},
     "output_type": "execute_result"
    }
   ],
   "source": [
    "from sklearn.ensemble import GradientBoostingRegressor\n",
    "gbr = GradientBoostingRegressor(random_state=320)\n",
    "gbr.fit(X_train, y=y_train.ravel())\n",
    "gbr_pred = gbr.predict(X_test)\n",
    "gala['gbr_pred'] = gbr_pred\n",
    "gala"
   ]
  },
  {
   "cell_type": "markdown",
   "id": "cd70c482",
   "metadata": {},
   "source": [
    "### MAPE "
   ]
  },
  {
   "cell_type": "code",
   "execution_count": 427,
   "id": "4de6ffdf",
   "metadata": {},
   "outputs": [],
   "source": [
    "def mape(y_true, y_pred):\n",
    "    y_true, y_pred = np.array(y_true), np.array(y_pred)\n",
    "    \n",
    "    # Calculate the absolute percentage error for each data point\n",
    "    absolute_percentage_error = np.abs((y_true - y_pred) / y_true)\n",
    "    \n",
    "    # Compute the mean of the absolute percentage errors\n",
    "    mean_absolute_percentage_error = np.mean(absolute_percentage_error)\n",
    "    \n",
    "    # Convert the mean absolute percentage error to percentage and round to 2 decimal places\n",
    "    return round(mean_absolute_percentage_error *100, 2)\n"
   ]
  },
  {
   "cell_type": "code",
   "execution_count": 428,
   "id": "5793bc0c",
   "metadata": {},
   "outputs": [],
   "source": [
    "#def mape(y_true, y_pred):\n",
    " #   return round(np.mean(np.abs((y_true - y_pred) / y_true)) * 100, 2)"
   ]
  },
  {
   "cell_type": "code",
   "execution_count": 429,
   "id": "3ebb3dcb",
   "metadata": {
    "scrolled": true
   },
   "outputs": [
    {
     "data": {
      "image/png": "[encoded data removed]",
      "text/plain": [
       "<Figure size 1000x500 with 1 Axes>"
      ]
     },
     "metadata": {},
     "output_type": "display_data"
    }
   ],
   "source": [
    "baseline_mape = mape(gala['y'], gala['baseline_pred']) \n",
    "dt_mape = mape(gala['y'], gala['dt_pred']) \n",
    "gbr_mape = mape(gala['Gala'], gala['gbr_pred']) \n",
    "\n",
    "# Bar plot data\n",
    "x = ['Baseline', 'Decision Tree', 'Gradient Boosting']\n",
    "y = [baseline_mape, dt_mape, gbr_mape]\n",
    "\n",
    "# Create a bar plot\n",
    "fig, ax = plt.subplots(figsize=(10, 5))\n",
    "\n",
    "ax.bar(x, y, width=0.4)\n",
    "ax.set_xlabel('Regressor models')\n",
    "ax.set_ylabel('MAPE (%)')\n",
    "ax.set_ylim(0, 100)\n",
    "\n",
    "# Adding text labels to each bar\n",
    "for index, value in enumerate(y):\n",
    "    plt.text(x=index, y=value + 0.02, s=str(value), ha='center')\n",
    "\n",
    "# Adjust layout\n",
    "plt.tight_layout()\n",
    "\n",
    "# Show the plot\n",
    "plt.show()\n"
   ]
  },
  {
   "cell_type": "markdown",
   "id": "c45705bf",
   "metadata": {},
   "source": [
    "#### Predict the next time step using a sequence of past observations"
   ]
  },
  {
   "cell_type": "code",
   "execution_count": 430,
   "id": "41e1082d",
   "metadata": {},
   "outputs": [],
   "source": [
    "def window_input(window_length: int, data: pd.DataFrame) ->pd.DataFrame:\n",
    "    df= data.copy()\n",
    "    i = 1\n",
    "    while i < window_length:\n",
    "        df[f'x_{i}'] = df['Gala'].shift(-i)\n",
    "        i = i + 1\n",
    "    if i == window_length:\n",
    "        df['y'] = df['Gala'].shift(-i)\n",
    "# Drop rows where there is a NaN \n",
    "    df= df.dropna(axis=0)\n",
    "    return df"
   ]
  },
  {
   "cell_type": "code",
   "execution_count": 431,
   "id": "5172ffe8",
   "metadata": {},
   "outputs": [],
   "source": [
    "df_gala = df.drop(['Envi','Fuji'],axis=1)"
   ]
  },
  {
   "cell_type": "code",
   "execution_count": 432,
   "id": "5eee7388",
   "metadata": {},
   "outputs": [],
   "source": [
    "new_gala = window_input(5, df_gala)"
   ]
  },
  {
   "cell_type": "code",
   "execution_count": 433,
   "id": "5267b55a",
   "metadata": {},
   "outputs": [
    {
     "data": {
      "text/html": [
       "<div>\n",
       "<style scoped>\n",
       "    .dataframe tbody tr th:only-of-type {\n",
       "        vertical-align: middle;\n",
       "    }\n",
       "\n",
       "    .dataframe tbody tr th {\n",
       "        vertical-align: top;\n",
       "    }\n",
       "\n",
       "    .dataframe thead th {\n",
       "        text-align: right;\n",
       "    }\n",
       "</style>\n",
       "<table border=\"1\" class=\"dataframe\">\n",
       "  <thead>\n",
       "    <tr style=\"text-align: right;\">\n",
       "      <th></th>\n",
       "      <th>Date</th>\n",
       "      <th>Gala</th>\n",
       "      <th>x_1</th>\n",
       "      <th>x_2</th>\n",
       "      <th>x_3</th>\n",
       "      <th>x_4</th>\n",
       "      <th>y</th>\n",
       "    </tr>\n",
       "  </thead>\n",
       "  <tbody>\n",
       "    <tr>\n",
       "      <th>0</th>\n",
       "      <td>2015-12-27</td>\n",
       "      <td>48.0</td>\n",
       "      <td>58.0</td>\n",
       "      <td>131.0</td>\n",
       "      <td>73.0</td>\n",
       "      <td>76.0</td>\n",
       "      <td>44.0</td>\n",
       "    </tr>\n",
       "    <tr>\n",
       "      <th>1</th>\n",
       "      <td>2015-12-20</td>\n",
       "      <td>58.0</td>\n",
       "      <td>131.0</td>\n",
       "      <td>73.0</td>\n",
       "      <td>76.0</td>\n",
       "      <td>44.0</td>\n",
       "      <td>93.0</td>\n",
       "    </tr>\n",
       "    <tr>\n",
       "      <th>2</th>\n",
       "      <td>2015-12-13</td>\n",
       "      <td>131.0</td>\n",
       "      <td>73.0</td>\n",
       "      <td>76.0</td>\n",
       "      <td>44.0</td>\n",
       "      <td>93.0</td>\n",
       "      <td>80.0</td>\n",
       "    </tr>\n",
       "    <tr>\n",
       "      <th>3</th>\n",
       "      <td>2015-12-06</td>\n",
       "      <td>73.0</td>\n",
       "      <td>76.0</td>\n",
       "      <td>44.0</td>\n",
       "      <td>93.0</td>\n",
       "      <td>80.0</td>\n",
       "      <td>85.0</td>\n",
       "    </tr>\n",
       "    <tr>\n",
       "      <th>4</th>\n",
       "      <td>2015-11-29</td>\n",
       "      <td>76.0</td>\n",
       "      <td>44.0</td>\n",
       "      <td>93.0</td>\n",
       "      <td>80.0</td>\n",
       "      <td>85.0</td>\n",
       "      <td>113.0</td>\n",
       "    </tr>\n",
       "    <tr>\n",
       "      <th>...</th>\n",
       "      <td>...</td>\n",
       "      <td>...</td>\n",
       "      <td>...</td>\n",
       "      <td>...</td>\n",
       "      <td>...</td>\n",
       "      <td>...</td>\n",
       "      <td>...</td>\n",
       "    </tr>\n",
       "    <tr>\n",
       "      <th>159</th>\n",
       "      <td>2018-03-11</td>\n",
       "      <td>70.0</td>\n",
       "      <td>96.0</td>\n",
       "      <td>48.0</td>\n",
       "      <td>75.0</td>\n",
       "      <td>61.0</td>\n",
       "      <td>144.0</td>\n",
       "    </tr>\n",
       "    <tr>\n",
       "      <th>160</th>\n",
       "      <td>2018-03-04</td>\n",
       "      <td>96.0</td>\n",
       "      <td>48.0</td>\n",
       "      <td>75.0</td>\n",
       "      <td>61.0</td>\n",
       "      <td>144.0</td>\n",
       "      <td>56.0</td>\n",
       "    </tr>\n",
       "    <tr>\n",
       "      <th>161</th>\n",
       "      <td>2018-02-25</td>\n",
       "      <td>48.0</td>\n",
       "      <td>75.0</td>\n",
       "      <td>61.0</td>\n",
       "      <td>144.0</td>\n",
       "      <td>56.0</td>\n",
       "      <td>89.0</td>\n",
       "    </tr>\n",
       "    <tr>\n",
       "      <th>162</th>\n",
       "      <td>2018-02-18</td>\n",
       "      <td>75.0</td>\n",
       "      <td>61.0</td>\n",
       "      <td>144.0</td>\n",
       "      <td>56.0</td>\n",
       "      <td>89.0</td>\n",
       "      <td>44.0</td>\n",
       "    </tr>\n",
       "    <tr>\n",
       "      <th>163</th>\n",
       "      <td>2018-02-11</td>\n",
       "      <td>61.0</td>\n",
       "      <td>144.0</td>\n",
       "      <td>56.0</td>\n",
       "      <td>89.0</td>\n",
       "      <td>44.0</td>\n",
       "      <td>43.0</td>\n",
       "    </tr>\n",
       "  </tbody>\n",
       "</table>\n",
       "<p>164 rows × 7 columns</p>\n",
       "</div>"
      ],
      "text/plain": [
       "          Date   Gala    x_1    x_2    x_3    x_4      y\n",
       "0   2015-12-27   48.0   58.0  131.0   73.0   76.0   44.0\n",
       "1   2015-12-20   58.0  131.0   73.0   76.0   44.0   93.0\n",
       "2   2015-12-13  131.0   73.0   76.0   44.0   93.0   80.0\n",
       "3   2015-12-06   73.0   76.0   44.0   93.0   80.0   85.0\n",
       "4   2015-11-29   76.0   44.0   93.0   80.0   85.0  113.0\n",
       "..         ...    ...    ...    ...    ...    ...    ...\n",
       "159 2018-03-11   70.0   96.0   48.0   75.0   61.0  144.0\n",
       "160 2018-03-04   96.0   48.0   75.0   61.0  144.0   56.0\n",
       "161 2018-02-25   48.0   75.0   61.0  144.0   56.0   89.0\n",
       "162 2018-02-18   75.0   61.0  144.0   56.0   89.0   44.0\n",
       "163 2018-02-11   61.0  144.0   56.0   89.0   44.0   43.0\n",
       "\n",
       "[164 rows x 7 columns]"
      ]
     },
     "execution_count": 433,
     "metadata": {},
     "output_type": "execute_result"
    }
   ],
   "source": [
    "new_gala"
   ]
  },
  {
   "cell_type": "markdown",
   "id": "6648fb64",
   "metadata": {},
   "source": [
    "##### Spilt the data into a traininig and a test set"
   ]
  },
  {
   "cell_type": "code",
   "execution_count": 434,
   "id": "337d9618",
   "metadata": {},
   "outputs": [],
   "source": [
    "from sklearn.model_selection import train_test_split\n",
    "\n",
    "X = new_gala[['Gala', 'x_1', 'x_2', 'x_3', 'x_4']].values\n",
    "y = new_gala['y'].values\n",
    "\n",
    "X_train,  X_test, y_train, y_test = train_test_split(X, y, test_size=0.3, random_state=320, shuffle=False)"
   ]
  },
  {
   "cell_type": "code",
   "execution_count": 435,
   "id": "95a9fd7a",
   "metadata": {},
   "outputs": [],
   "source": [
    "baseline_pred = []\n",
    "\n",
    "for row in X_test:\n",
    "    baseline_pred.append(np.mean(row))"
   ]
  },
  {
   "cell_type": "markdown",
   "id": "357dde36",
   "metadata": {},
   "source": [
    "Decision Tree Regressor"
   ]
  },
  {
   "cell_type": "code",
   "execution_count": 436,
   "id": "505b4988",
   "metadata": {},
   "outputs": [],
   "source": [
    "dt_reg_5 = DecisionTreeRegressor(random_state=320)\n",
    "dt_reg_5.fit(X_train, y_train)\n",
    "dt_reg_5_pred = dt_reg_5.predict(X_test)"
   ]
  },
  {
   "cell_type": "markdown",
   "id": "e76fe0a4",
   "metadata": {},
   "source": [
    "Gredient Boosting"
   ]
  },
  {
   "cell_type": "code",
   "execution_count": 437,
   "id": "41a5984a",
   "metadata": {},
   "outputs": [],
   "source": [
    "gbr_5 = GradientBoostingRegressor(random_state=320)\n",
    "gbr_5.fit(X_train, y_train.ravel())\n",
    "gbr_5_pred = gbr_5.predict(X_test)\n"
   ]
  },
  {
   "cell_type": "markdown",
   "id": "3d1f6358",
   "metadata": {},
   "source": [
    "Evaluation"
   ]
  },
  {
   "cell_type": "code",
   "execution_count": 438,
   "id": "8526b964",
   "metadata": {},
   "outputs": [
    {
     "data": {
      "image/png": "[encoded data removed]",
      "text/plain": [
       "<Figure size 1000x500 with 1 Axes>"
      ]
     },
     "metadata": {},
     "output_type": "display_data"
    }
   ],
   "source": [
    "from sklearn.metrics import mean_squared_error, accuracy_score, mean_absolute_percentage_error\n",
    "# baseline_mape = mean_absolute_percentage_error(y_test, baseline_pred) \n",
    "# dt_5_mape = mean_absolute_percentage_error(y_test, dt_reg_5_pred) \n",
    "# gbr_5_mape = mean_absolute_percentage_error(y_test, gbr_5_pred) \n",
    "\n",
    "baseline_mape = mape(y_test, baseline_pred) \n",
    "dt_5_mape = mape(y_test, dt_reg_5_pred) \n",
    "gbr_5_mape = mape(y_test, gbr_5_pred) \n",
    "\n",
    "x = ['Baseline', 'Decision Tree', 'Gradient Boosting']\n",
    "y = [baseline_mape, dt_5_mape, gbr_5_mape]\n",
    "\n",
    "fig, ax = plt.subplots(figsize=(10, 5))\n",
    "\n",
    "ax.bar(x, y, width=0.8)\n",
    "ax.set_xlabel('Regressor models')\n",
    "ax.set_ylabel('MAPE (%)')\n",
    "ax.set_ylim(0, 200)\n",
    "\n",
    "for index, value in enumerate(y):\n",
    "    plt.text(x=index, y=value + 0.1, s=str(value), ha='center')\n",
    "\n",
    "plt.tight_layout()\n",
    "\n",
    "plt.show()"
   ]
  },
  {
   "cell_type": "markdown",
   "id": "9d9b9248",
   "metadata": {},
   "source": [
    "Format the dataset"
   ]
  },
  {
   "cell_type": "code",
   "execution_count": 439,
   "id": "449d7f2b",
   "metadata": {},
   "outputs": [],
   "source": [
    "def window_input_output(input_length: int, output_length: int, data: pd.DataFrame) -> pd.DataFrame:\n",
    "    df = data.copy()\n",
    "    i = 1\n",
    "    while i<input_length:\n",
    "        df[f'x_{i}'] = df['Gala'].shift(-i) \n",
    "        i = i + 1\n",
    "    j = 0\n",
    "    while j < output_length:\n",
    "        df[f'y_{j}']=df['Gala'].shift(-output_length-j)\n",
    "        j = j+1\n",
    "    df = df.dropna (axis=0)\n",
    "    return df"
   ]
  },
  {
   "cell_type": "code",
   "execution_count": 440,
   "id": "9147b6ac",
   "metadata": {
    "scrolled": true
   },
   "outputs": [
    {
     "data": {
      "text/html": [
       "<div>\n",
       "<style scoped>\n",
       "    .dataframe tbody tr th:only-of-type {\n",
       "        vertical-align: middle;\n",
       "    }\n",
       "\n",
       "    .dataframe tbody tr th {\n",
       "        vertical-align: top;\n",
       "    }\n",
       "\n",
       "    .dataframe thead th {\n",
       "        text-align: right;\n",
       "    }\n",
       "</style>\n",
       "<table border=\"1\" class=\"dataframe\">\n",
       "  <thead>\n",
       "    <tr style=\"text-align: right;\">\n",
       "      <th></th>\n",
       "      <th>Date</th>\n",
       "      <th>Gala</th>\n",
       "      <th>x_1</th>\n",
       "      <th>x_2</th>\n",
       "      <th>x_3</th>\n",
       "      <th>x_4</th>\n",
       "      <th>y</th>\n",
       "      <th>x_5</th>\n",
       "      <th>x_6</th>\n",
       "      <th>x_7</th>\n",
       "      <th>...</th>\n",
       "      <th>y_16</th>\n",
       "      <th>y_17</th>\n",
       "      <th>y_18</th>\n",
       "      <th>y_19</th>\n",
       "      <th>y_20</th>\n",
       "      <th>y_21</th>\n",
       "      <th>y_22</th>\n",
       "      <th>y_23</th>\n",
       "      <th>y_24</th>\n",
       "      <th>y_25</th>\n",
       "    </tr>\n",
       "  </thead>\n",
       "  <tbody>\n",
       "    <tr>\n",
       "      <th>0</th>\n",
       "      <td>2015-12-27</td>\n",
       "      <td>48.0</td>\n",
       "      <td>58.0</td>\n",
       "      <td>131.0</td>\n",
       "      <td>73.0</td>\n",
       "      <td>76.0</td>\n",
       "      <td>44.0</td>\n",
       "      <td>44.0</td>\n",
       "      <td>93.0</td>\n",
       "      <td>80.0</td>\n",
       "      <td>...</td>\n",
       "      <td>159.0</td>\n",
       "      <td>181.0</td>\n",
       "      <td>151.0</td>\n",
       "      <td>222.0</td>\n",
       "      <td>163.0</td>\n",
       "      <td>179.0</td>\n",
       "      <td>164.0</td>\n",
       "      <td>136.0</td>\n",
       "      <td>127.0</td>\n",
       "      <td>50.0</td>\n",
       "    </tr>\n",
       "    <tr>\n",
       "      <th>1</th>\n",
       "      <td>2015-12-20</td>\n",
       "      <td>58.0</td>\n",
       "      <td>131.0</td>\n",
       "      <td>73.0</td>\n",
       "      <td>76.0</td>\n",
       "      <td>44.0</td>\n",
       "      <td>93.0</td>\n",
       "      <td>93.0</td>\n",
       "      <td>80.0</td>\n",
       "      <td>85.0</td>\n",
       "      <td>...</td>\n",
       "      <td>181.0</td>\n",
       "      <td>151.0</td>\n",
       "      <td>222.0</td>\n",
       "      <td>163.0</td>\n",
       "      <td>179.0</td>\n",
       "      <td>164.0</td>\n",
       "      <td>136.0</td>\n",
       "      <td>127.0</td>\n",
       "      <td>50.0</td>\n",
       "      <td>427.0</td>\n",
       "    </tr>\n",
       "    <tr>\n",
       "      <th>2</th>\n",
       "      <td>2015-12-13</td>\n",
       "      <td>131.0</td>\n",
       "      <td>73.0</td>\n",
       "      <td>76.0</td>\n",
       "      <td>44.0</td>\n",
       "      <td>93.0</td>\n",
       "      <td>80.0</td>\n",
       "      <td>80.0</td>\n",
       "      <td>85.0</td>\n",
       "      <td>113.0</td>\n",
       "      <td>...</td>\n",
       "      <td>151.0</td>\n",
       "      <td>222.0</td>\n",
       "      <td>163.0</td>\n",
       "      <td>179.0</td>\n",
       "      <td>164.0</td>\n",
       "      <td>136.0</td>\n",
       "      <td>127.0</td>\n",
       "      <td>50.0</td>\n",
       "      <td>427.0</td>\n",
       "      <td>139.0</td>\n",
       "    </tr>\n",
       "    <tr>\n",
       "      <th>3</th>\n",
       "      <td>2015-12-06</td>\n",
       "      <td>73.0</td>\n",
       "      <td>76.0</td>\n",
       "      <td>44.0</td>\n",
       "      <td>93.0</td>\n",
       "      <td>80.0</td>\n",
       "      <td>85.0</td>\n",
       "      <td>85.0</td>\n",
       "      <td>113.0</td>\n",
       "      <td>117.0</td>\n",
       "      <td>...</td>\n",
       "      <td>222.0</td>\n",
       "      <td>163.0</td>\n",
       "      <td>179.0</td>\n",
       "      <td>164.0</td>\n",
       "      <td>136.0</td>\n",
       "      <td>127.0</td>\n",
       "      <td>50.0</td>\n",
       "      <td>427.0</td>\n",
       "      <td>139.0</td>\n",
       "      <td>87.0</td>\n",
       "    </tr>\n",
       "    <tr>\n",
       "      <th>4</th>\n",
       "      <td>2015-11-29</td>\n",
       "      <td>76.0</td>\n",
       "      <td>44.0</td>\n",
       "      <td>93.0</td>\n",
       "      <td>80.0</td>\n",
       "      <td>85.0</td>\n",
       "      <td>113.0</td>\n",
       "      <td>113.0</td>\n",
       "      <td>117.0</td>\n",
       "      <td>105.0</td>\n",
       "      <td>...</td>\n",
       "      <td>163.0</td>\n",
       "      <td>179.0</td>\n",
       "      <td>164.0</td>\n",
       "      <td>136.0</td>\n",
       "      <td>127.0</td>\n",
       "      <td>50.0</td>\n",
       "      <td>427.0</td>\n",
       "      <td>139.0</td>\n",
       "      <td>87.0</td>\n",
       "      <td>51.0</td>\n",
       "    </tr>\n",
       "    <tr>\n",
       "      <th>...</th>\n",
       "      <td>...</td>\n",
       "      <td>...</td>\n",
       "      <td>...</td>\n",
       "      <td>...</td>\n",
       "      <td>...</td>\n",
       "      <td>...</td>\n",
       "      <td>...</td>\n",
       "      <td>...</td>\n",
       "      <td>...</td>\n",
       "      <td>...</td>\n",
       "      <td>...</td>\n",
       "      <td>...</td>\n",
       "      <td>...</td>\n",
       "      <td>...</td>\n",
       "      <td>...</td>\n",
       "      <td>...</td>\n",
       "      <td>...</td>\n",
       "      <td>...</td>\n",
       "      <td>...</td>\n",
       "      <td>...</td>\n",
       "      <td>...</td>\n",
       "    </tr>\n",
       "    <tr>\n",
       "      <th>108</th>\n",
       "      <td>2017-12-03</td>\n",
       "      <td>136.0</td>\n",
       "      <td>62.0</td>\n",
       "      <td>43.0</td>\n",
       "      <td>213.0</td>\n",
       "      <td>34.0</td>\n",
       "      <td>58.0</td>\n",
       "      <td>58.0</td>\n",
       "      <td>35.0</td>\n",
       "      <td>62.0</td>\n",
       "      <td>...</td>\n",
       "      <td>176.0</td>\n",
       "      <td>2119.0</td>\n",
       "      <td>485.0</td>\n",
       "      <td>2192.0</td>\n",
       "      <td>607.0</td>\n",
       "      <td>57.0</td>\n",
       "      <td>200.0</td>\n",
       "      <td>65.0</td>\n",
       "      <td>55.0</td>\n",
       "      <td>70.0</td>\n",
       "    </tr>\n",
       "    <tr>\n",
       "      <th>109</th>\n",
       "      <td>2017-11-26</td>\n",
       "      <td>62.0</td>\n",
       "      <td>43.0</td>\n",
       "      <td>213.0</td>\n",
       "      <td>34.0</td>\n",
       "      <td>58.0</td>\n",
       "      <td>35.0</td>\n",
       "      <td>35.0</td>\n",
       "      <td>62.0</td>\n",
       "      <td>43.0</td>\n",
       "      <td>...</td>\n",
       "      <td>2119.0</td>\n",
       "      <td>485.0</td>\n",
       "      <td>2192.0</td>\n",
       "      <td>607.0</td>\n",
       "      <td>57.0</td>\n",
       "      <td>200.0</td>\n",
       "      <td>65.0</td>\n",
       "      <td>55.0</td>\n",
       "      <td>70.0</td>\n",
       "      <td>96.0</td>\n",
       "    </tr>\n",
       "    <tr>\n",
       "      <th>110</th>\n",
       "      <td>2017-11-19</td>\n",
       "      <td>43.0</td>\n",
       "      <td>213.0</td>\n",
       "      <td>34.0</td>\n",
       "      <td>58.0</td>\n",
       "      <td>35.0</td>\n",
       "      <td>62.0</td>\n",
       "      <td>62.0</td>\n",
       "      <td>43.0</td>\n",
       "      <td>78.0</td>\n",
       "      <td>...</td>\n",
       "      <td>485.0</td>\n",
       "      <td>2192.0</td>\n",
       "      <td>607.0</td>\n",
       "      <td>57.0</td>\n",
       "      <td>200.0</td>\n",
       "      <td>65.0</td>\n",
       "      <td>55.0</td>\n",
       "      <td>70.0</td>\n",
       "      <td>96.0</td>\n",
       "      <td>48.0</td>\n",
       "    </tr>\n",
       "    <tr>\n",
       "      <th>111</th>\n",
       "      <td>2017-11-12</td>\n",
       "      <td>213.0</td>\n",
       "      <td>34.0</td>\n",
       "      <td>58.0</td>\n",
       "      <td>35.0</td>\n",
       "      <td>62.0</td>\n",
       "      <td>43.0</td>\n",
       "      <td>43.0</td>\n",
       "      <td>78.0</td>\n",
       "      <td>75.0</td>\n",
       "      <td>...</td>\n",
       "      <td>2192.0</td>\n",
       "      <td>607.0</td>\n",
       "      <td>57.0</td>\n",
       "      <td>200.0</td>\n",
       "      <td>65.0</td>\n",
       "      <td>55.0</td>\n",
       "      <td>70.0</td>\n",
       "      <td>96.0</td>\n",
       "      <td>48.0</td>\n",
       "      <td>75.0</td>\n",
       "    </tr>\n",
       "    <tr>\n",
       "      <th>112</th>\n",
       "      <td>2017-11-05</td>\n",
       "      <td>34.0</td>\n",
       "      <td>58.0</td>\n",
       "      <td>35.0</td>\n",
       "      <td>62.0</td>\n",
       "      <td>43.0</td>\n",
       "      <td>78.0</td>\n",
       "      <td>78.0</td>\n",
       "      <td>75.0</td>\n",
       "      <td>34.0</td>\n",
       "      <td>...</td>\n",
       "      <td>607.0</td>\n",
       "      <td>57.0</td>\n",
       "      <td>200.0</td>\n",
       "      <td>65.0</td>\n",
       "      <td>55.0</td>\n",
       "      <td>70.0</td>\n",
       "      <td>96.0</td>\n",
       "      <td>48.0</td>\n",
       "      <td>75.0</td>\n",
       "      <td>61.0</td>\n",
       "    </tr>\n",
       "  </tbody>\n",
       "</table>\n",
       "<p>113 rows × 54 columns</p>\n",
       "</div>"
      ],
      "text/plain": [
       "          Date   Gala    x_1    x_2    x_3   x_4      y    x_5    x_6    x_7  \\\n",
       "0   2015-12-27   48.0   58.0  131.0   73.0  76.0   44.0   44.0   93.0   80.0   \n",
       "1   2015-12-20   58.0  131.0   73.0   76.0  44.0   93.0   93.0   80.0   85.0   \n",
       "2   2015-12-13  131.0   73.0   76.0   44.0  93.0   80.0   80.0   85.0  113.0   \n",
       "3   2015-12-06   73.0   76.0   44.0   93.0  80.0   85.0   85.0  113.0  117.0   \n",
       "4   2015-11-29   76.0   44.0   93.0   80.0  85.0  113.0  113.0  117.0  105.0   \n",
       "..         ...    ...    ...    ...    ...   ...    ...    ...    ...    ...   \n",
       "108 2017-12-03  136.0   62.0   43.0  213.0  34.0   58.0   58.0   35.0   62.0   \n",
       "109 2017-11-26   62.0   43.0  213.0   34.0  58.0   35.0   35.0   62.0   43.0   \n",
       "110 2017-11-19   43.0  213.0   34.0   58.0  35.0   62.0   62.0   43.0   78.0   \n",
       "111 2017-11-12  213.0   34.0   58.0   35.0  62.0   43.0   43.0   78.0   75.0   \n",
       "112 2017-11-05   34.0   58.0   35.0   62.0  43.0   78.0   78.0   75.0   34.0   \n",
       "\n",
       "     ...    y_16    y_17    y_18    y_19   y_20   y_21   y_22   y_23   y_24  \\\n",
       "0    ...   159.0   181.0   151.0   222.0  163.0  179.0  164.0  136.0  127.0   \n",
       "1    ...   181.0   151.0   222.0   163.0  179.0  164.0  136.0  127.0   50.0   \n",
       "2    ...   151.0   222.0   163.0   179.0  164.0  136.0  127.0   50.0  427.0   \n",
       "3    ...   222.0   163.0   179.0   164.0  136.0  127.0   50.0  427.0  139.0   \n",
       "4    ...   163.0   179.0   164.0   136.0  127.0   50.0  427.0  139.0   87.0   \n",
       "..   ...     ...     ...     ...     ...    ...    ...    ...    ...    ...   \n",
       "108  ...   176.0  2119.0   485.0  2192.0  607.0   57.0  200.0   65.0   55.0   \n",
       "109  ...  2119.0   485.0  2192.0   607.0   57.0  200.0   65.0   55.0   70.0   \n",
       "110  ...   485.0  2192.0   607.0    57.0  200.0   65.0   55.0   70.0   96.0   \n",
       "111  ...  2192.0   607.0    57.0   200.0   65.0   55.0   70.0   96.0   48.0   \n",
       "112  ...   607.0    57.0   200.0    65.0   55.0   70.0   96.0   48.0   75.0   \n",
       "\n",
       "      y_25  \n",
       "0     50.0  \n",
       "1    427.0  \n",
       "2    139.0  \n",
       "3     87.0  \n",
       "4     51.0  \n",
       "..     ...  \n",
       "108   70.0  \n",
       "109   96.0  \n",
       "110   48.0  \n",
       "111   75.0  \n",
       "112   61.0  \n",
       "\n",
       "[113 rows x 54 columns]"
      ]
     },
     "execution_count": 440,
     "metadata": {},
     "output_type": "execute_result"
    }
   ],
   "source": [
    "seq_gala = window_input_output(26, 26, new_gala)\n",
    "seq_gala"
   ]
  },
  {
   "cell_type": "code",
   "execution_count": 441,
   "id": "528e2fda",
   "metadata": {},
   "outputs": [],
   "source": [
    "from sklearn.model_selection import train_test_split\n",
    "\n",
    "X_cols = [col for col in seq_gala.columns if col.startswith('x')]\n",
    "X_cols.insert(0, 'Gala')\n",
    "y_cols = [col for col in seq_gala.columns if col.startswith('y')]\n",
    "\n",
    "X = seq_gala[X_cols].values\n",
    "y = seq_gala[y_cols].values\n",
    "\n",
    "# Split the data into training and testing sets\n",
    "X_train, X_test, y_train, y_test = train_test_split(X, y, test_size=0.2, random_state=42)\n"
   ]
  },
  {
   "cell_type": "markdown",
   "id": "1aa2f2b5",
   "metadata": {},
   "source": [
    "Decision Tree"
   ]
  },
  {
   "cell_type": "code",
   "execution_count": 442,
   "id": "ef33acea",
   "metadata": {},
   "outputs": [],
   "source": [
    "dt_seq= DecisionTreeRegressor (random_state=42)\n",
    "dt_seq.fit(X_train, y_train)\n",
    "dt_seq_preds = dt_seq.predict(X_test)"
   ]
  },
  {
   "cell_type": "markdown",
   "id": "be4c9c06",
   "metadata": {},
   "source": [
    "Regressor Chain"
   ]
  },
  {
   "cell_type": "code",
   "execution_count": 443,
   "id": "1275fbdf",
   "metadata": {},
   "outputs": [],
   "source": [
    "from sklearn.multioutput import RegressorChain\n",
    "gbr_seq= GradientBoostingRegressor (random_state=42)\n",
    "chained_gbr = RegressorChain (gbr_seq)\n",
    "chained_gbr.fit(X_train, y_train)\n",
    "gbr_seq_preds = chained_gbr.predict(X_test)"
   ]
  },
  {
   "cell_type": "markdown",
   "id": "001f1e8f",
   "metadata": {},
   "source": [
    "Evaluation"
   ]
  },
  {
   "cell_type": "code",
   "execution_count": 444,
   "id": "17bf1da9",
   "metadata": {
    "scrolled": false
   },
   "outputs": [],
   "source": [
    "mape_dt_seq= mape(dt_seq_preds.reshape(1, -1), y_test.reshape(1,-1))\n",
    "mape_gbr_seq= mape(gbr_seq_preds.reshape(1, -1), y_test.reshape(1,-1))\n",
    "y_test = y_test[:, 1:]\n",
    "mape_baseline = mape(X_test.reshape(1, -1), y_test.reshape(1, -1)) "
   ]
  },
  {
   "cell_type": "code",
   "execution_count": 445,
   "id": "e97e85c6",
   "metadata": {},
   "outputs": [
    {
     "data": {
      "image/png": "[encoded data removed]",
      "text/plain": [
       "<Figure size 640x480 with 1 Axes>"
      ]
     },
     "metadata": {},
     "output_type": "display_data"
    }
   ],
   "source": [
    "# Generate the bar plot\n",
    "fig, ax = plt.subplots()\n",
    "x = ['Baseline', 'Decision Tree', 'Gradient Boosting'] \n",
    "y = [mape_baseline, mape_dt_seq, mape_gbr_seq]\n",
    "ax.bar(x, y, width=0.4) \n",
    "ax.set_xlabel('Regressor models')\n",
    "ax.set_ylabel('MAPE (%)')\n",
    "ax.set_ylim(0, 300)\n",
    "\n",
    "for index, value in enumerate(y): \n",
    "    plt.text(x=index, y=value + 0.05, s=str(value), ha='center')\n",
    "    \n",
    "plt.tight_layout()"
   ]
  },
  {
   "cell_type": "markdown",
   "id": "82d5ece4",
   "metadata": {},
   "source": [
    "Visualize"
   ]
  },
  {
   "cell_type": "code",
   "execution_count": 446,
   "id": "26f8818b",
   "metadata": {
    "scrolled": true
   },
   "outputs": [
    {
     "data": {
      "image/png": "[encoded data removed]",
      "text/plain": [
       "<Figure size 1600x1100 with 1 Axes>"
      ]
     },
     "metadata": {},
     "output_type": "display_data"
    }
   ],
   "source": [
    "fig, ax = plt.subplots(figsize=(16, 11))\n",
    "ax.plot(np.arange(0, 26, 1), X_test[1], 'b-', label='input') \n",
    "ax.plot(np.arange(26, 52, 1), y_test[1], marker='.', color='blue', label='Actual')\n",
    "ax.plot(np.arange(26, 52, 1), X_test[1], marker='o', color='red', label='Baseline')\n",
    "ax.plot(np.arange(25, 52, 1), dt_seq_preds[1], marker='^',color='green', label='Decision Tree')\n",
    "ax.plot(np.arange(25, 52, 1), gbr_seq_preds [1], marker='P',color='black', label='Gradient Boosting')\n",
    "\n",
    "#plt.xticks(np.arange(1, 104, 52), np.arange(2000, 2002, 1))\n",
    "plt.legend (loc=2)\n",
    "fig.autofmt_xdate()\n",
    "plt.tight_layout()"
   ]
  },
  {
   "cell_type": "markdown",
   "id": "af0102b6",
   "metadata": {},
   "source": [
    "# Prediction Modal Envi Apple"
   ]
  },
  {
   "cell_type": "code",
   "execution_count": 447,
   "id": "f2677e57",
   "metadata": {},
   "outputs": [
    {
     "data": {
      "text/html": [
       "<div>\n",
       "<style scoped>\n",
       "    .dataframe tbody tr th:only-of-type {\n",
       "        vertical-align: middle;\n",
       "    }\n",
       "\n",
       "    .dataframe tbody tr th {\n",
       "        vertical-align: top;\n",
       "    }\n",
       "\n",
       "    .dataframe thead th {\n",
       "        text-align: right;\n",
       "    }\n",
       "</style>\n",
       "<table border=\"1\" class=\"dataframe\">\n",
       "  <thead>\n",
       "    <tr style=\"text-align: right;\">\n",
       "      <th></th>\n",
       "      <th>Date</th>\n",
       "      <th>Envi</th>\n",
       "    </tr>\n",
       "  </thead>\n",
       "  <tbody>\n",
       "    <tr>\n",
       "      <th>0</th>\n",
       "      <td>2015-12-27</td>\n",
       "      <td>1037.0</td>\n",
       "    </tr>\n",
       "    <tr>\n",
       "      <th>1</th>\n",
       "      <td>2015-12-20</td>\n",
       "      <td>674.0</td>\n",
       "    </tr>\n",
       "    <tr>\n",
       "      <th>2</th>\n",
       "      <td>2015-12-13</td>\n",
       "      <td>795.0</td>\n",
       "    </tr>\n",
       "    <tr>\n",
       "      <th>3</th>\n",
       "      <td>2015-12-06</td>\n",
       "      <td>1132.0</td>\n",
       "    </tr>\n",
       "    <tr>\n",
       "      <th>4</th>\n",
       "      <td>2015-11-29</td>\n",
       "      <td>941.0</td>\n",
       "    </tr>\n",
       "    <tr>\n",
       "      <th>...</th>\n",
       "      <td>...</td>\n",
       "      <td>...</td>\n",
       "    </tr>\n",
       "    <tr>\n",
       "      <th>164</th>\n",
       "      <td>2018-02-04</td>\n",
       "      <td>7626.0</td>\n",
       "    </tr>\n",
       "    <tr>\n",
       "      <th>165</th>\n",
       "      <td>2018-01-28</td>\n",
       "      <td>3101.0</td>\n",
       "    </tr>\n",
       "    <tr>\n",
       "      <th>166</th>\n",
       "      <td>2018-01-21</td>\n",
       "      <td>3133.0</td>\n",
       "    </tr>\n",
       "    <tr>\n",
       "      <th>167</th>\n",
       "      <td>2018-01-14</td>\n",
       "      <td>2897.0</td>\n",
       "    </tr>\n",
       "    <tr>\n",
       "      <th>168</th>\n",
       "      <td>2018-01-07</td>\n",
       "      <td>2941.0</td>\n",
       "    </tr>\n",
       "  </tbody>\n",
       "</table>\n",
       "<p>169 rows × 2 columns</p>\n",
       "</div>"
      ],
      "text/plain": [
       "          Date    Envi\n",
       "0   2015-12-27  1037.0\n",
       "1   2015-12-20   674.0\n",
       "2   2015-12-13   795.0\n",
       "3   2015-12-06  1132.0\n",
       "4   2015-11-29   941.0\n",
       "..         ...     ...\n",
       "164 2018-02-04  7626.0\n",
       "165 2018-01-28  3101.0\n",
       "166 2018-01-21  3133.0\n",
       "167 2018-01-14  2897.0\n",
       "168 2018-01-07  2941.0\n",
       "\n",
       "[169 rows x 2 columns]"
      ]
     },
     "execution_count": 447,
     "metadata": {},
     "output_type": "execute_result"
    }
   ],
   "source": [
    "envi"
   ]
  },
  {
   "cell_type": "markdown",
   "metadata": {},
   "source": [
    "### Visualize"
   ]
  },
  {
   "cell_type": "code",
   "execution_count": 448,
   "id": "0d6469db",
   "metadata": {},
   "outputs": [
    {
     "data": {
      "text/plain": [
       "<Axes: xlabel='Date', ylabel='Envi'>"
      ]
     },
     "execution_count": 448,
     "metadata": {},
     "output_type": "execute_result"
    },
    {
     "data": {
      "image/png": "[encoded data removed]",
      "text/plain": [
       "<Figure size 1000x500 with 1 Axes>"
      ]
     },
     "metadata": {},
     "output_type": "display_data"
    }
   ],
   "source": [
    "plt.figure(figsize=(10, 5))\n",
    "sns.lineplot(data=envi, x='Date', y='Envi')"
   ]
  },
  {
   "cell_type": "markdown",
   "id": "395687e8",
   "metadata": {},
   "source": [
    "### Change Date to toordinal and Sort Date\n"
   ]
  },
  {
   "cell_type": "code",
   "execution_count": 449,
   "id": "35ae154d",
   "metadata": {},
   "outputs": [
    {
     "data": {
      "text/html": [
       "<div>\n",
       "<style scoped>\n",
       "    .dataframe tbody tr th:only-of-type {\n",
       "        vertical-align: middle;\n",
       "    }\n",
       "\n",
       "    .dataframe tbody tr th {\n",
       "        vertical-align: top;\n",
       "    }\n",
       "\n",
       "    .dataframe thead th {\n",
       "        text-align: right;\n",
       "    }\n",
       "</style>\n",
       "<table border=\"1\" class=\"dataframe\">\n",
       "  <thead>\n",
       "    <tr style=\"text-align: right;\">\n",
       "      <th></th>\n",
       "      <th>Envi</th>\n",
       "    </tr>\n",
       "    <tr>\n",
       "      <th>Date</th>\n",
       "      <th></th>\n",
       "    </tr>\n",
       "  </thead>\n",
       "  <tbody>\n",
       "    <tr>\n",
       "      <th>2015-12-27</th>\n",
       "      <td>1037.0</td>\n",
       "    </tr>\n",
       "    <tr>\n",
       "      <th>2015-12-20</th>\n",
       "      <td>674.0</td>\n",
       "    </tr>\n",
       "    <tr>\n",
       "      <th>2015-12-13</th>\n",
       "      <td>795.0</td>\n",
       "    </tr>\n",
       "    <tr>\n",
       "      <th>2015-12-06</th>\n",
       "      <td>1132.0</td>\n",
       "    </tr>\n",
       "    <tr>\n",
       "      <th>2015-11-29</th>\n",
       "      <td>941.0</td>\n",
       "    </tr>\n",
       "    <tr>\n",
       "      <th>...</th>\n",
       "      <td>...</td>\n",
       "    </tr>\n",
       "    <tr>\n",
       "      <th>2018-02-04</th>\n",
       "      <td>7626.0</td>\n",
       "    </tr>\n",
       "    <tr>\n",
       "      <th>2018-01-28</th>\n",
       "      <td>3101.0</td>\n",
       "    </tr>\n",
       "    <tr>\n",
       "      <th>2018-01-21</th>\n",
       "      <td>3133.0</td>\n",
       "    </tr>\n",
       "    <tr>\n",
       "      <th>2018-01-14</th>\n",
       "      <td>2897.0</td>\n",
       "    </tr>\n",
       "    <tr>\n",
       "      <th>2018-01-07</th>\n",
       "      <td>2941.0</td>\n",
       "    </tr>\n",
       "  </tbody>\n",
       "</table>\n",
       "<p>169 rows × 1 columns</p>\n",
       "</div>"
      ],
      "text/plain": [
       "              Envi\n",
       "Date              \n",
       "2015-12-27  1037.0\n",
       "2015-12-20   674.0\n",
       "2015-12-13   795.0\n",
       "2015-12-06  1132.0\n",
       "2015-11-29   941.0\n",
       "...            ...\n",
       "2018-02-04  7626.0\n",
       "2018-01-28  3101.0\n",
       "2018-01-21  3133.0\n",
       "2018-01-14  2897.0\n",
       "2018-01-07  2941.0\n",
       "\n",
       "[169 rows x 1 columns]"
      ]
     },
     "execution_count": 449,
     "metadata": {},
     "output_type": "execute_result"
    }
   ],
   "source": [
    "\n",
    "\n",
    "# envi['Date'] = envi['Date'].map(dt.datetime.toordinal)\n",
    "\n",
    "# envi\n",
    "\n",
    "envi.set_index('Date', inplace=True)\n",
    "envi.sort_index(ascending=True)\n",
    "envi"
   ]
  },
  {
   "cell_type": "code",
   "execution_count": 450,
   "id": "911d9b92",
   "metadata": {},
   "outputs": [
    {
     "data": {
      "text/html": [
       "<div>\n",
       "<style scoped>\n",
       "    .dataframe tbody tr th:only-of-type {\n",
       "        vertical-align: middle;\n",
       "    }\n",
       "\n",
       "    .dataframe tbody tr th {\n",
       "        vertical-align: top;\n",
       "    }\n",
       "\n",
       "    .dataframe thead th {\n",
       "        text-align: right;\n",
       "    }\n",
       "</style>\n",
       "<table border=\"1\" class=\"dataframe\">\n",
       "  <thead>\n",
       "    <tr style=\"text-align: right;\">\n",
       "      <th></th>\n",
       "      <th>Date</th>\n",
       "      <th>Envi</th>\n",
       "    </tr>\n",
       "  </thead>\n",
       "  <tbody>\n",
       "    <tr>\n",
       "      <th>0</th>\n",
       "      <td>735959</td>\n",
       "      <td>1037.0</td>\n",
       "    </tr>\n",
       "    <tr>\n",
       "      <th>1</th>\n",
       "      <td>735952</td>\n",
       "      <td>674.0</td>\n",
       "    </tr>\n",
       "    <tr>\n",
       "      <th>2</th>\n",
       "      <td>735945</td>\n",
       "      <td>795.0</td>\n",
       "    </tr>\n",
       "    <tr>\n",
       "      <th>3</th>\n",
       "      <td>735938</td>\n",
       "      <td>1132.0</td>\n",
       "    </tr>\n",
       "    <tr>\n",
       "      <th>4</th>\n",
       "      <td>735931</td>\n",
       "      <td>941.0</td>\n",
       "    </tr>\n",
       "    <tr>\n",
       "      <th>...</th>\n",
       "      <td>...</td>\n",
       "      <td>...</td>\n",
       "    </tr>\n",
       "    <tr>\n",
       "      <th>164</th>\n",
       "      <td>736729</td>\n",
       "      <td>7626.0</td>\n",
       "    </tr>\n",
       "    <tr>\n",
       "      <th>165</th>\n",
       "      <td>736722</td>\n",
       "      <td>3101.0</td>\n",
       "    </tr>\n",
       "    <tr>\n",
       "      <th>166</th>\n",
       "      <td>736715</td>\n",
       "      <td>3133.0</td>\n",
       "    </tr>\n",
       "    <tr>\n",
       "      <th>167</th>\n",
       "      <td>736708</td>\n",
       "      <td>2897.0</td>\n",
       "    </tr>\n",
       "    <tr>\n",
       "      <th>168</th>\n",
       "      <td>736701</td>\n",
       "      <td>2941.0</td>\n",
       "    </tr>\n",
       "  </tbody>\n",
       "</table>\n",
       "<p>169 rows × 2 columns</p>\n",
       "</div>"
      ],
      "text/plain": [
       "       Date    Envi\n",
       "0    735959  1037.0\n",
       "1    735952   674.0\n",
       "2    735945   795.0\n",
       "3    735938  1132.0\n",
       "4    735931   941.0\n",
       "..      ...     ...\n",
       "164  736729  7626.0\n",
       "165  736722  3101.0\n",
       "166  736715  3133.0\n",
       "167  736708  2897.0\n",
       "168  736701  2941.0\n",
       "\n",
       "[169 rows x 2 columns]"
      ]
     },
     "execution_count": 450,
     "metadata": {},
     "output_type": "execute_result"
    }
   ],
   "source": [
    "import datetime as dt\n",
    "\n",
    "envi.index = envi.index.map(dt.datetime.toordinal)\n",
    "envi.reset_index(inplace=True)\n",
    "envi.rename(columns={'index': 'Date'}, inplace=True)\n",
    "envi\n"
   ]
  },
  {
   "cell_type": "markdown",
   "id": "f72664e4",
   "metadata": {},
   "source": [
    "### Prepare Train and Test Data"
   ]
  },
  {
   "cell_type": "code",
   "execution_count": 451,
   "id": "960529b0",
   "metadata": {},
   "outputs": [],
   "source": [
    "# Split the data into features (X) and target variable (y)\n",
    "\n",
    "\n",
    "X = envi[['Date']]  # Replace 'feature1', 'feature2', ... with actual feature names\n",
    "y = envi['Envi']  # Replace 'Envi' with actual target variable name\n",
    "\n",
    "# Split the data into training and testing sets\n",
    "X_train, X_test, y_train, y_test = train_test_split(X, y, test_size=0.3, random_state=320)"
   ]
  },
  {
   "cell_type": "markdown",
   "id": "79a93839",
   "metadata": {},
   "source": [
    "### Decision Tree Regressor\n"
   ]
  },
  {
   "cell_type": "code",
   "execution_count": 452,
   "id": "17fed5ad",
   "metadata": {},
   "outputs": [],
   "source": [
    "# Create the Decision Tree Regressor model\n",
    "model_decision = DecisionTreeRegressor(max_depth=7,min_samples_split=3,min_samples_leaf=3)\n",
    "\n",
    "# Fit the model to the training data\n",
    "model_decision.fit(X_train, y_train)\n",
    "\n",
    "# Make predictions on the test data\n",
    "y_pred = model_decision.predict(X_test)"
   ]
  },
  {
   "cell_type": "markdown",
   "id": "5a8bb703",
   "metadata": {},
   "source": [
    "### Gradient Boosting"
   ]
  },
  {
   "cell_type": "code",
   "execution_count": 453,
   "id": "ba511217",
   "metadata": {},
   "outputs": [],
   "source": [
    "model_gradient = GradientBoostingRegressor(n_estimators=100, learning_rate=0.8, max_depth=1, random_state=320)\n",
    "model_gradient.fit(X_train, y_train)\n",
    "\n",
    "y_pred_gradient = model_gradient.predict(X_test)"
   ]
  },
  {
   "cell_type": "markdown",
   "id": "e1d5e8d1",
   "metadata": {},
   "source": [
    "### MAPE"
   ]
  },
  {
   "cell_type": "code",
   "execution_count": 454,
   "id": "c497ecc4",
   "metadata": {},
   "outputs": [
    {
     "data": {
      "image/png": "[encoded data removed]",
      "text/plain": [
       "<Figure size 640x480 with 1 Axes>"
      ]
     },
     "metadata": {},
     "output_type": "display_data"
    }
   ],
   "source": [
    "map_decision = mape(y_test, y_pred)\n",
    "map_gradient = mape(y_test, y_pred_gradient)\n",
    "\n",
    "# Generate the bar plot\n",
    "fig, ax = plt.subplots()\n",
    "x = ['Decision Tree', 'Gradient Boosting']\n",
    "y = [map_decision, map_gradient]\n",
    "ax.bar(x, y, width=0.4)\n",
    "ax.set_xlabel('Regressor models')\n",
    "ax.set_ylabel('MAPE (%)')\n",
    "ax.set_ylim(0, 300)\n",
    "\n",
    "for index, value in enumerate(y):\n",
    "    plt.text(x=index, y=value + 0.05, s=str(value), ha='center')\n",
    "    \n",
    "plt.tight_layout()"
   ]
  },
  {
   "cell_type": "markdown",
   "id": "51729c09",
   "metadata": {},
   "source": [
    "### Accurency Between Decision Tree and Gradient Boosting From Test Data"
   ]
  },
  {
   "cell_type": "code",
   "execution_count": 455,
   "id": "38028713",
   "metadata": {},
   "outputs": [
    {
     "name": "stdout",
     "output_type": "stream",
     "text": [
      "Accuracy Decision Tree: 91.90%\n",
      "Accurency Gradient Boosting : 83.46%\n"
     ]
    }
   ],
   "source": [
    "print(\"Accuracy Decision Tree: {:.2f}%\".format(model_decision.score(X_test, y_test) * 100))\n",
    "print(\"Accurency Gradient Boosting : {:.2f}%\".format(model_gradient.score(X_test, y_test)  * 100))"
   ]
  },
  {
   "cell_type": "markdown",
   "id": "419d9015",
   "metadata": {},
   "source": [
    "### Graph Bar of Decision Tree and Gradient Boosting From Test Data "
   ]
  },
  {
   "cell_type": "code",
   "execution_count": 456,
   "id": "51ef0403",
   "metadata": {},
   "outputs": [
    {
     "data": {
      "image/png": "[encoded data removed]",
      "text/plain": [
       "<Figure size 1600x1100 with 1 Axes>"
      ]
     },
     "metadata": {},
     "output_type": "display_data"
    }
   ],
   "source": [
    "\n",
    "X_test['Date'] = pd.to_datetime(X_test['Date'].apply(dt.datetime.fromordinal))\n",
    "\n",
    "\n",
    "fig, ax = plt.subplots(figsize=(16, 11))\n",
    "\n",
    "bar_width = 12\n",
    "ax.set_xlabel('Date')\n",
    "ax.set_ylabel('Envi')\n",
    "ax.bar(X_test['Date'], y_test, color='blue', label='Actual', width=8)\n",
    "ax.bar(X_test['Date'] + pd.DateOffset(days=bar_width), y_pred, color='red', label='Decision Tree', width=8)\n",
    "ax.bar(X_test['Date'] + 2*pd.DateOffset(days=bar_width), y_pred_gradient, color='green', label='Gradient Boosting', width=8)\n",
    "\n",
    "\n",
    "plt.legend(loc=2)\n",
    "fig.autofmt_xdate()\n",
    "plt.tight_layout()\n",
    "\n",
    "\n",
    "\n"
   ]
  },
  {
   "cell_type": "markdown",
   "id": "838a7a15",
   "metadata": {},
   "source": [
    "### Prediction Demo Envi Apple"
   ]
  },
  {
   "cell_type": "markdown",
   "id": "44a882cb",
   "metadata": {},
   "source": [
    "#### Model Decision Tree  Predict Demo"
   ]
  },
  {
   "cell_type": "code",
   "execution_count": 457,
   "id": "cc1158b1",
   "metadata": {},
   "outputs": [
    {
     "name": "stdout",
     "output_type": "stream",
     "text": [
      "1579.0\n"
     ]
    },
    {
     "name": "stderr",
     "output_type": "stream",
     "text": [
      "c:\\Users\\VICTUS\\AppData\\Local\\Programs\\Python\\Python312\\Lib\\site-packages\\sklearn\\base.py:493: UserWarning: X does not have valid feature names, but DecisionTreeRegressor was fitted with feature names\n",
      "  warnings.warn(\n"
     ]
    }
   ],
   "source": [
    "inputDate = input(\"Enter the date in the format 'YYYY-MM-DD' (ex: 2024-01-01): \")\n",
    "\n",
    "# Input the date\n",
    "input_date = pd.to_datetime(inputDate, format='%Y-%m-%d')  # Replace '2024-01-01' with the desired date\n",
    "#27/12/2015\n",
    "# Convert the input date to the ordinal format\n",
    "input_date_ordinal = input_date.toordinal()\n",
    "\n",
    "# Predict the Envi value for the input date\n",
    "predicted_envi = model_decision.predict([[input_date_ordinal]])\n",
    "\n",
    "print(predicted_envi[0])"
   ]
  },
  {
   "cell_type": "markdown",
   "id": "df5c73fc",
   "metadata": {},
   "source": [
    "#### Model Gradient Boosting Predict Demo"
   ]
  },
  {
   "cell_type": "code",
   "execution_count": 458,
   "id": "22c9a935",
   "metadata": {},
   "outputs": [
    {
     "name": "stdout",
     "output_type": "stream",
     "text": [
      "2434.9254727236867\n"
     ]
    },
    {
     "name": "stderr",
     "output_type": "stream",
     "text": [
      "c:\\Users\\VICTUS\\AppData\\Local\\Programs\\Python\\Python312\\Lib\\site-packages\\sklearn\\base.py:493: UserWarning: X does not have valid feature names, but GradientBoostingRegressor was fitted with feature names\n",
      "  warnings.warn(\n"
     ]
    }
   ],
   "source": [
    "inputDate = input(\"Enter the date in the format 'YYYY-MM-DD' (ex: 2024-01-01): \")\n",
    "\n",
    "# Input the date\n",
    "input_date = pd.to_datetime(inputDate, format='%Y-%m-%d')  # Replace '2024-01-01' with the desired date\n",
    "#27/12/2015\n",
    "# Convert the input date to the ordinal format\n",
    "input_date_ordinal = input_date.toordinal()\n",
    "\n",
    "# Predict the Envi value for the input date\n",
    "predicted_envi = model_gradient.predict([[input_date_ordinal]])\n",
    "\n",
    "print(predicted_envi[0])"
   ]
  },
  {
   "cell_type": "markdown",
   "id": "120c73c0",
   "metadata": {},
   "source": [
    "## Fuji Model train"
   ]
  },
  {
   "cell_type": "markdown",
   "id": "a9ef251d",
   "metadata": {},
   "source": [
    "fuji เป็น dataset ที่มีการแยกข้อมูลของผลผลิตแอปเปิ้ลสายพันธุ์ Fuji ออกจากข้อมูลทั้งหมด โดยที่ข้อมูลจะประกอบด้วย วันที่ และผลผลิตของแอปเปิ้ลสายพันธุ์ Fuji ที่ได้ในวันที่แต่ละวัน"
   ]
  },
  {
   "cell_type": "code",
   "execution_count": 459,
   "id": "01df5afa",
   "metadata": {},
   "outputs": [
    {
     "data": {
      "text/html": [
       "<div>\n",
       "<style scoped>\n",
       "    .dataframe tbody tr th:only-of-type {\n",
       "        vertical-align: middle;\n",
       "    }\n",
       "\n",
       "    .dataframe tbody tr th {\n",
       "        vertical-align: top;\n",
       "    }\n",
       "\n",
       "    .dataframe thead th {\n",
       "        text-align: right;\n",
       "    }\n",
       "</style>\n",
       "<table border=\"1\" class=\"dataframe\">\n",
       "  <thead>\n",
       "    <tr style=\"text-align: right;\">\n",
       "      <th></th>\n",
       "      <th>Date</th>\n",
       "      <th>Fuji</th>\n",
       "    </tr>\n",
       "  </thead>\n",
       "  <tbody>\n",
       "    <tr>\n",
       "      <th>0</th>\n",
       "      <td>2015-12-27</td>\n",
       "      <td>54455.0</td>\n",
       "    </tr>\n",
       "    <tr>\n",
       "      <th>1</th>\n",
       "      <td>2015-12-20</td>\n",
       "      <td>44639.0</td>\n",
       "    </tr>\n",
       "    <tr>\n",
       "      <th>2</th>\n",
       "      <td>2015-12-13</td>\n",
       "      <td>109150.0</td>\n",
       "    </tr>\n",
       "    <tr>\n",
       "      <th>3</th>\n",
       "      <td>2015-12-06</td>\n",
       "      <td>71976.0</td>\n",
       "    </tr>\n",
       "    <tr>\n",
       "      <th>4</th>\n",
       "      <td>2015-11-29</td>\n",
       "      <td>43838.0</td>\n",
       "    </tr>\n",
       "    <tr>\n",
       "      <th>...</th>\n",
       "      <td>...</td>\n",
       "      <td>...</td>\n",
       "    </tr>\n",
       "    <tr>\n",
       "      <th>164</th>\n",
       "      <td>2018-02-04</td>\n",
       "      <td>195725.0</td>\n",
       "    </tr>\n",
       "    <tr>\n",
       "      <th>165</th>\n",
       "      <td>2018-01-28</td>\n",
       "      <td>74627.0</td>\n",
       "    </tr>\n",
       "    <tr>\n",
       "      <th>166</th>\n",
       "      <td>2018-01-21</td>\n",
       "      <td>116521.0</td>\n",
       "    </tr>\n",
       "    <tr>\n",
       "      <th>167</th>\n",
       "      <td>2018-01-14</td>\n",
       "      <td>76571.0</td>\n",
       "    </tr>\n",
       "    <tr>\n",
       "      <th>168</th>\n",
       "      <td>2018-01-07</td>\n",
       "      <td>76193.0</td>\n",
       "    </tr>\n",
       "  </tbody>\n",
       "</table>\n",
       "<p>169 rows × 2 columns</p>\n",
       "</div>"
      ],
      "text/plain": [
       "          Date      Fuji\n",
       "0   2015-12-27   54455.0\n",
       "1   2015-12-20   44639.0\n",
       "2   2015-12-13  109150.0\n",
       "3   2015-12-06   71976.0\n",
       "4   2015-11-29   43838.0\n",
       "..         ...       ...\n",
       "164 2018-02-04  195725.0\n",
       "165 2018-01-28   74627.0\n",
       "166 2018-01-21  116521.0\n",
       "167 2018-01-14   76571.0\n",
       "168 2018-01-07   76193.0\n",
       "\n",
       "[169 rows x 2 columns]"
      ]
     },
     "execution_count": 459,
     "metadata": {},
     "output_type": "execute_result"
    }
   ],
   "source": [
    "# Fuji data\n",
    "fuji"
   ]
  },
  {
   "cell_type": "markdown",
   "id": "3439fb01",
   "metadata": {},
   "source": [
    "### Visualize"
   ]
  },
  {
   "cell_type": "markdown",
   "id": "4e226fb2",
   "metadata": {},
   "source": [
    "กราฟแสดงผลผลิตของแอปเปิ้ลสายพันธุ์ Fuji โดยแกน Y แสดงค่าของผลผลิตแอปเปิ้ล ส่วนแกน X แสดงวันที่ของการเก็บผลิต"
   ]
  },
  {
   "cell_type": "code",
   "execution_count": 460,
   "id": "e4812421",
   "metadata": {},
   "outputs": [
    {
     "data": {
      "text/plain": [
       "<Axes: xlabel='Date', ylabel='Fuji'>"
      ]
     },
     "execution_count": 460,
     "metadata": {},
     "output_type": "execute_result"
    },
    {
     "data": {
      "image/png": "[encoded data removed]",
      "text/plain": [
       "<Figure size 1000x500 with 1 Axes>"
      ]
     },
     "metadata": {},
     "output_type": "display_data"
    }
   ],
   "source": [
    "plt.figure(figsize=(10, 5))\n",
    "sns.lineplot(data=fuji, x='Date', y='Fuji')"
   ]
  },
  {
   "cell_type": "markdown",
   "id": "4718f8e2",
   "metadata": {},
   "source": [
    "### Change Date to toordinal and Sort Date"
   ]
  },
  {
   "cell_type": "markdown",
   "id": "fcc93903",
   "metadata": {},
   "source": [
    "function นี้จะทำการ soft index โดยใช้วันที่เป็นตัวกำหนดในการ soft"
   ]
  },
  {
   "cell_type": "code",
   "execution_count": 461,
   "id": "a95746ce",
   "metadata": {},
   "outputs": [
    {
     "data": {
      "text/html": [
       "<div>\n",
       "<style scoped>\n",
       "    .dataframe tbody tr th:only-of-type {\n",
       "        vertical-align: middle;\n",
       "    }\n",
       "\n",
       "    .dataframe tbody tr th {\n",
       "        vertical-align: top;\n",
       "    }\n",
       "\n",
       "    .dataframe thead th {\n",
       "        text-align: right;\n",
       "    }\n",
       "</style>\n",
       "<table border=\"1\" class=\"dataframe\">\n",
       "  <thead>\n",
       "    <tr style=\"text-align: right;\">\n",
       "      <th></th>\n",
       "      <th>Fuji</th>\n",
       "    </tr>\n",
       "    <tr>\n",
       "      <th>Date</th>\n",
       "      <th></th>\n",
       "    </tr>\n",
       "  </thead>\n",
       "  <tbody>\n",
       "    <tr>\n",
       "      <th>2015-12-27</th>\n",
       "      <td>54455.0</td>\n",
       "    </tr>\n",
       "    <tr>\n",
       "      <th>2015-12-20</th>\n",
       "      <td>44639.0</td>\n",
       "    </tr>\n",
       "    <tr>\n",
       "      <th>2015-12-13</th>\n",
       "      <td>109150.0</td>\n",
       "    </tr>\n",
       "    <tr>\n",
       "      <th>2015-12-06</th>\n",
       "      <td>71976.0</td>\n",
       "    </tr>\n",
       "    <tr>\n",
       "      <th>2015-11-29</th>\n",
       "      <td>43838.0</td>\n",
       "    </tr>\n",
       "    <tr>\n",
       "      <th>...</th>\n",
       "      <td>...</td>\n",
       "    </tr>\n",
       "    <tr>\n",
       "      <th>2018-02-04</th>\n",
       "      <td>195725.0</td>\n",
       "    </tr>\n",
       "    <tr>\n",
       "      <th>2018-01-28</th>\n",
       "      <td>74627.0</td>\n",
       "    </tr>\n",
       "    <tr>\n",
       "      <th>2018-01-21</th>\n",
       "      <td>116521.0</td>\n",
       "    </tr>\n",
       "    <tr>\n",
       "      <th>2018-01-14</th>\n",
       "      <td>76571.0</td>\n",
       "    </tr>\n",
       "    <tr>\n",
       "      <th>2018-01-07</th>\n",
       "      <td>76193.0</td>\n",
       "    </tr>\n",
       "  </tbody>\n",
       "</table>\n",
       "<p>169 rows × 1 columns</p>\n",
       "</div>"
      ],
      "text/plain": [
       "                Fuji\n",
       "Date                \n",
       "2015-12-27   54455.0\n",
       "2015-12-20   44639.0\n",
       "2015-12-13  109150.0\n",
       "2015-12-06   71976.0\n",
       "2015-11-29   43838.0\n",
       "...              ...\n",
       "2018-02-04  195725.0\n",
       "2018-01-28   74627.0\n",
       "2018-01-21  116521.0\n",
       "2018-01-14   76571.0\n",
       "2018-01-07   76193.0\n",
       "\n",
       "[169 rows x 1 columns]"
      ]
     },
     "execution_count": 461,
     "metadata": {},
     "output_type": "execute_result"
    }
   ],
   "source": [
    "fuji.set_index('Date', inplace=True)\n",
    "fuji.sort_index(ascending=True)\n",
    "fuji"
   ]
  },
  {
   "cell_type": "code",
   "execution_count": 462,
   "id": "bcdf46fd",
   "metadata": {},
   "outputs": [
    {
     "data": {
      "text/html": [
       "<div>\n",
       "<style scoped>\n",
       "    .dataframe tbody tr th:only-of-type {\n",
       "        vertical-align: middle;\n",
       "    }\n",
       "\n",
       "    .dataframe tbody tr th {\n",
       "        vertical-align: top;\n",
       "    }\n",
       "\n",
       "    .dataframe thead th {\n",
       "        text-align: right;\n",
       "    }\n",
       "</style>\n",
       "<table border=\"1\" class=\"dataframe\">\n",
       "  <thead>\n",
       "    <tr style=\"text-align: right;\">\n",
       "      <th></th>\n",
       "      <th>Date</th>\n",
       "      <th>Fuji</th>\n",
       "    </tr>\n",
       "  </thead>\n",
       "  <tbody>\n",
       "    <tr>\n",
       "      <th>0</th>\n",
       "      <td>735959</td>\n",
       "      <td>54455.0</td>\n",
       "    </tr>\n",
       "    <tr>\n",
       "      <th>1</th>\n",
       "      <td>735952</td>\n",
       "      <td>44639.0</td>\n",
       "    </tr>\n",
       "    <tr>\n",
       "      <th>2</th>\n",
       "      <td>735945</td>\n",
       "      <td>109150.0</td>\n",
       "    </tr>\n",
       "    <tr>\n",
       "      <th>3</th>\n",
       "      <td>735938</td>\n",
       "      <td>71976.0</td>\n",
       "    </tr>\n",
       "    <tr>\n",
       "      <th>4</th>\n",
       "      <td>735931</td>\n",
       "      <td>43838.0</td>\n",
       "    </tr>\n",
       "    <tr>\n",
       "      <th>...</th>\n",
       "      <td>...</td>\n",
       "      <td>...</td>\n",
       "    </tr>\n",
       "    <tr>\n",
       "      <th>164</th>\n",
       "      <td>736729</td>\n",
       "      <td>195725.0</td>\n",
       "    </tr>\n",
       "    <tr>\n",
       "      <th>165</th>\n",
       "      <td>736722</td>\n",
       "      <td>74627.0</td>\n",
       "    </tr>\n",
       "    <tr>\n",
       "      <th>166</th>\n",
       "      <td>736715</td>\n",
       "      <td>116521.0</td>\n",
       "    </tr>\n",
       "    <tr>\n",
       "      <th>167</th>\n",
       "      <td>736708</td>\n",
       "      <td>76571.0</td>\n",
       "    </tr>\n",
       "    <tr>\n",
       "      <th>168</th>\n",
       "      <td>736701</td>\n",
       "      <td>76193.0</td>\n",
       "    </tr>\n",
       "  </tbody>\n",
       "</table>\n",
       "<p>169 rows × 2 columns</p>\n",
       "</div>"
      ],
      "text/plain": [
       "       Date      Fuji\n",
       "0    735959   54455.0\n",
       "1    735952   44639.0\n",
       "2    735945  109150.0\n",
       "3    735938   71976.0\n",
       "4    735931   43838.0\n",
       "..      ...       ...\n",
       "164  736729  195725.0\n",
       "165  736722   74627.0\n",
       "166  736715  116521.0\n",
       "167  736708   76571.0\n",
       "168  736701   76193.0\n",
       "\n",
       "[169 rows x 2 columns]"
      ]
     },
     "execution_count": 462,
     "metadata": {},
     "output_type": "execute_result"
    }
   ],
   "source": [
    "fuji.index = fuji.index.map(dt.datetime.toordinal)\n",
    "fuji.reset_index(inplace=True)\n",
    "fuji.rename(columns={'index': 'Date'}, inplace=True)\n",
    "fuji"
   ]
  },
  {
   "cell_type": "markdown",
   "id": "19de85eb",
   "metadata": {},
   "source": [
    "### Prepare Train and Test Data"
   ]
  },
  {
   "cell_type": "markdown",
   "id": "373ceafb",
   "metadata": {},
   "source": [
    "เราทำการแยกข้อมูล X, y ซึ่งกำหนดให้ข้อมูลแกน X ( ข้อมูลที่ใช้ในการคาดการณ์ค่าที่ต้องการทำนาย )"
   ]
  },
  {
   "cell_type": "code",
   "execution_count": 463,
   "id": "7bbf0dc9",
   "metadata": {},
   "outputs": [],
   "source": [
    "# Split the data into features (X) and target variable (y)\n",
    "\n",
    "fuji['x_1'] = fuji['Date'].shift(1)\n",
    "fuji['x_1'] = fuji['x_1'].bfill()\n",
    "\n",
    "\n",
    "fuji['x_2'] = fuji['Date'].shift(2)\n",
    "fuji['x_2'] = fuji['x_2'].bfill()\n",
    "\n",
    "fuji['x_3'] = fuji['Date'].shift(3)\n",
    "fuji['x_3'] = fuji['x_3'].bfill()\n",
    "\n",
    "fuji['x_1'] = fuji['x_1'].interpolate()\n",
    "fuji['x_2'] = fuji['x_2'].interpolate()\n",
    "fuji['x_3'] = fuji['x_3'].interpolate()\n",
    "\n",
    "\n",
    "\n",
    "X = fuji[['Date', 'x_1', 'x_2']]  # Replace 'feature1', 'feature2', ... with actual feature names\n",
    "y = fuji['Fuji']  # Replace 'Fuji' with actual target variable name\n",
    "\n",
    "# Split the data into training and testing sets\n",
    "X_train, X_test, y_train, y_test = train_test_split(X, y, test_size=0.3, random_state=320)"
   ]
  },
  {
   "cell_type": "markdown",
   "id": "d2bc0c93",
   "metadata": {},
   "source": [
    "### Decision Tree Regressor"
   ]
  },
  {
   "cell_type": "code",
   "execution_count": 464,
   "id": "cc264c8f",
   "metadata": {},
   "outputs": [],
   "source": [
    "# Create the Decision Tree Regressor model\n",
    "# model_decision = DecisionTreeRegressor(max_depth = 6, min_samples_split= 5, min_samples_leaf= 9)\n",
    "model_decision = DecisionTreeRegressor(max_depth=3, min_samples_leaf= 9, min_samples_split= 5)\n",
    "\n",
    "# Fit the model to the training data\n",
    "\n",
    "model_decision.fit(X_train, y_train)\n",
    "\n",
    "# Make predictions on the test data\n",
    "y_pred = model_decision.predict(X_test)"
   ]
  },
  {
   "cell_type": "markdown",
   "id": "38d53004",
   "metadata": {},
   "source": [
    "### Gradient Boosting"
   ]
  },
  {
   "cell_type": "code",
   "execution_count": 465,
   "id": "8b447eb5",
   "metadata": {},
   "outputs": [],
   "source": [
    "model_gradient = GradientBoostingRegressor(n_estimators=90, max_depth=1, subsample= 0.6)\n",
    "model_gradient.fit(X_train, y_train)\n",
    "\n",
    "y_pred_gradient = model_gradient.predict(X_test)"
   ]
  },
  {
   "cell_type": "markdown",
   "id": "12f76e1c",
   "metadata": {},
   "source": [
    "### MAPE"
   ]
  },
  {
   "cell_type": "code",
   "execution_count": 466,
   "id": "4d40bec5",
   "metadata": {},
   "outputs": [
    {
     "data": {
      "image/png": "[encoded data removed]",
      "text/plain": [
       "<Figure size 640x480 with 1 Axes>"
      ]
     },
     "metadata": {},
     "output_type": "display_data"
    }
   ],
   "source": [
    "map_decision = mape(y_test, y_pred)\n",
    "map_gradient = mape(y_test, y_pred_gradient)\n",
    "\n",
    "# Generate the bar plot\n",
    "fig, ax = plt.subplots()\n",
    "x = ['Decision Tree', 'Gradient Boosting']\n",
    "y = [map_decision, map_gradient]\n",
    "ax.bar(x, y, width=0.4)\n",
    "ax.set_xlabel('Regressor models')\n",
    "ax.set_ylabel('MAPE (%)')\n",
    "ax.set_ylim(0, 1000)\n",
    "\n",
    "for index, value in enumerate(y):\n",
    "    plt.text(x=index, y=value + 0.1, s=str(value), ha='center')\n",
    "    \n",
    "plt.tight_layout()"
   ]
  },
  {
   "cell_type": "markdown",
   "id": "ee7581fc",
   "metadata": {},
   "source": [
    "### Accurency Between Decision Tree and Gradient Boosting From Test Data"
   ]
  },
  {
   "cell_type": "code",
   "execution_count": 467,
   "id": "f8e41b50",
   "metadata": {},
   "outputs": [
    {
     "name": "stdout",
     "output_type": "stream",
     "text": [
      "Accuracy Decision Tree: 23.31%\n",
      "Accurency Gradient Boosting : 13.00%\n"
     ]
    }
   ],
   "source": [
    "print(\"Accuracy Decision Tree: {:.2f}%\".format(model_decision.score(X_test, y_test) * 100))\n",
    "print(\"Accurency Gradient Boosting : {:.2f}%\".format(model_gradient.score(X_test, y_test)  * 100))"
   ]
  },
  {
   "cell_type": "code",
   "execution_count": 468,
   "id": "41ecfab5",
   "metadata": {},
   "outputs": [
    {
     "data": {
      "image/png": "[encoded data removed]",
      "text/plain": [
       "<Figure size 1600x1100 with 1 Axes>"
      ]
     },
     "metadata": {},
     "output_type": "display_data"
    }
   ],
   "source": [
    "\n",
    "X_test['Date'] = pd.to_datetime(X_test['Date'].apply(dt.datetime.fromordinal))\n",
    "\n",
    "\n",
    "fig, ax = plt.subplots(figsize=(16, 11))\n",
    "\n",
    "bar_width = 12\n",
    "ax.set_xlabel('Date')\n",
    "ax.set_ylabel('Fuji')\n",
    "ax.bar(X_test['Date'], y_test, color='blue', label='Actual', width=8)\n",
    "ax.bar(X_test['Date'] + pd.DateOffset(days=bar_width), y_pred, color='red', label='Decision Tree', width=8)\n",
    "ax.bar(X_test['Date'] + 2*pd.DateOffset(days=bar_width), y_pred_gradient, color='green', label='Gradient Boosting', width=8)\n",
    "\n",
    "\n",
    "plt.legend(loc=2)\n",
    "fig.autofmt_xdate()\n",
    "plt.tight_layout()\n"
   ]
  },
  {
   "cell_type": "markdown",
   "id": "17d39481",
   "metadata": {},
   "source": [
    "The graph illustrates the production of Fuji apple varieties and the output obtained from the predictions of both models.\n",
    "\n",
    "- The blue bar represents the actual production of Fuji apple varieties\n",
    "\n",
    "- The red bar represents the production of Fuji apples predicted by the Decision Tree model\n",
    "\n",
    "- The green bar represents the production of Fuji apples predicted by the Gradient Boosting model\n",
    "\n",
    "From the graph, it can be observed that, starting from January 2015, the Decision Tree model predicts production closely aligned with the actual production, while the Gradient Boosting model tends to have a lower level of proximity in its predictions. Therefore, it is likely that the Decision Tree model provides predictions that are closer to the actual production compared to the Gradient Boosting model."
   ]
  },
  {
   "cell_type": "code",
   "execution_count": 469,
   "id": "eabf3993",
   "metadata": {},
   "outputs": [],
   "source": [
    "# inputDate = input(\"Enter the date in the format 'YYYY-MM-DD' (ex: 2024-01-01): \")\n",
    "\n",
    "# # Input the date\n",
    "# input_date = pd.to_datetime(inputDate, format='%Y-%m-%d')  # Replace '2024-01-01' with the desired date\n",
    "# #27/12/2015\n",
    "# # Convert the input date to the ordinal format\n",
    "# input_date_ordinal = input_date.toordinal()\n",
    "\n",
    "# # Predict the Fuji value for the input date\n",
    "# predicted_fuji = model_decision.predict([[input_date_ordinal]])\n",
    "\n",
    "# print(predicted_fuji[0])"
   ]
  },
  {
   "cell_type": "code",
   "execution_count": 470,
   "id": "7d5516fd",
   "metadata": {},
   "outputs": [],
   "source": [
    "# inputDate = input(\"Enter the date in the format 'YYYY-MM-DD' (ex: 2024-01-01): \")\n",
    "\n",
    "# # Input the date\n",
    "# input_date = pd.to_datetime(inputDate, format='%Y-%m-%d')  # Replace '2024-01-01' with the desired date\n",
    "# #27/12/2015\n",
    "# # Convert the input date to the ordinal format\n",
    "# input_date_ordinal = input_date.toordinal()\n",
    "\n",
    "# # Predict the Envi value for the input date\n",
    "# predicted_fuji = model_gradient.predict([[input_date_ordinal]])\n",
    "\n",
    "# print(predicted_fuji[0])"
   ]
  },
  {
   "cell_type": "code",
   "execution_count": 471,
   "id": "4031b176",
   "metadata": {},
   "outputs": [
    {
     "name": "stdout",
     "output_type": "stream",
     "text": [
      "Decision Tree MSE: 451970601.08\n",
      "Decision Tree RMSE: 21259.60\n",
      "Decision Tree R2: 0.23\n",
      "Decision Tree MAE: 15148.51\n",
      "Gradient Boosting MSE: 512765971.05\n",
      "Gradient Boosting RMSE: 22644.34\n",
      "Gradient Boosting R2: 0.13\n",
      "Gradient Boosting MAE: 16435.14\n"
     ]
    }
   ],
   "source": [
    "from sklearn.metrics import mean_squared_error, r2_score, mean_absolute_error\n",
    "\n",
    "decision_mse = mean_squared_error(y_test, y_pred)\n",
    "decision_rmse = np.sqrt(decision_mse)\n",
    "decision_r2 = r2_score(y_test, y_pred)\n",
    "decision_mae = mean_absolute_error(y_test, y_pred)\n",
    "\n",
    "gradient_mse = mean_squared_error(y_test, y_pred_gradient)\n",
    "gradient_rmse = np.sqrt(gradient_mse)\n",
    "gradient_r2 = r2_score(y_test, y_pred_gradient)\n",
    "gradient_mae = mean_absolute_error(y_test, y_pred_gradient)\n",
    "\n",
    "print(\"Decision Tree MSE: {:.2f}\".format(decision_mse))\n",
    "print(\"Decision Tree RMSE: {:.2f}\".format(decision_rmse))\n",
    "print(\"Decision Tree R2: {:.2f}\".format(decision_r2))\n",
    "print(\"Decision Tree MAE: {:.2f}\".format(decision_mae))\n",
    "\n",
    "\n",
    "print(\"Gradient Boosting MSE: {:.2f}\".format(gradient_mse))\n",
    "print(\"Gradient Boosting RMSE: {:.2f}\".format(gradient_rmse))\n",
    "print(\"Gradient Boosting R2: {:.2f}\".format(gradient_r2))\n",
    "print(\"Gradient Boosting MAE: {:.2f}\".format(gradient_mae))"
   ]
  },
  {
   "cell_type": "code",
   "execution_count": 472,
   "id": "6601407b",
   "metadata": {},
   "outputs": [
    {
     "name": "stderr",
     "output_type": "stream",
     "text": [
      "No artists with labels found to put in legend.  Note that artists whose label start with an underscore are ignored when legend() is called with no argument.\n"
     ]
    },
    {
     "data": {
      "image/png": "[encoded data removed]",
      "text/plain": [
       "<Figure size 640x480 with 1 Axes>"
      ]
     },
     "metadata": {},
     "output_type": "display_data"
    }
   ],
   "source": [
    "x = np.array(['Decision Tree', 'Gradient Boosting'])\n",
    "y = np.array([decision_r2, gradient_r2])\n",
    "\n",
    "plt.bar(x, y)\n",
    "plt.title('R2 Score')\n",
    "plt.legend()\n",
    "    \n",
    "for index, value in enumerate(y):\n",
    "    plt.text(x=index, y=value + 0.001, s=str(value), ha='center')\n",
    "\n",
    "plt.show()"
   ]
  },
  {
   "cell_type": "code",
   "execution_count": 473,
   "id": "3f38bd01",
   "metadata": {},
   "outputs": [
    {
     "name": "stderr",
     "output_type": "stream",
     "text": [
      "No artists with labels found to put in legend.  Note that artists whose label start with an underscore are ignored when legend() is called with no argument.\n"
     ]
    },
    {
     "data": {
      "image/png": "[encoded data removed]",
      "text/plain": [
       "<Figure size 640x480 with 1 Axes>"
      ]
     },
     "metadata": {},
     "output_type": "display_data"
    }
   ],
   "source": [
    "x = np.array(['Decision Tree', 'Gradient Boosting'])\n",
    "y = np.array([decision_mae, gradient_mae])\n",
    "\n",
    "plt.bar(x, y)\n",
    "plt.title('Mean Absolute Error')\n",
    "plt.legend()\n",
    "\n",
    "for index, value in enumerate(y):\n",
    "    plt.text(x=index, y=value + 100, s=str(value), ha='center')\n",
    "\n",
    "plt.show()"
   ]
  },
  {
   "cell_type": "code",
   "execution_count": 474,
   "id": "2a5907a7",
   "metadata": {},
   "outputs": [
    {
     "name": "stderr",
     "output_type": "stream",
     "text": [
      "No artists with labels found to put in legend.  Note that artists whose label start with an underscore are ignored when legend() is called with no argument.\n"
     ]
    },
    {
     "data": {
      "image/png": "[encoded data removed]",
      "text/plain": [
       "<Figure size 640x480 with 1 Axes>"
      ]
     },
     "metadata": {},
     "output_type": "display_data"
    }
   ],
   "source": [
    "x = np.array(['Decision Tree', 'Gradient Boosting'])\n",
    "y = np.array([decision_mae, gradient_mae])\n",
    "\n",
    "plt.bar(x, y)\n",
    "plt.title('Mean Absolute Error')\n",
    "plt.legend()\n",
    "\n",
    "for index, value in enumerate(y):\n",
    "    plt.text(x=index, y=value + 100, s=str(value), ha='center')\n",
    "\n",
    "plt.show()"
   ]
  },
  {
   "cell_type": "code",
   "execution_count": 475,
   "id": "161d68af",
   "metadata": {},
   "outputs": [
    {
     "name": "stderr",
     "output_type": "stream",
     "text": [
      "No artists with labels found to put in legend.  Note that artists whose label start with an underscore are ignored when legend() is called with no argument.\n"
     ]
    },
    {
     "data": {
      "image/png": "[encoded data removed]",
      "text/plain": [
       "<Figure size 640x480 with 1 Axes>"
      ]
     },
     "metadata": {},
     "output_type": "display_data"
    }
   ],
   "source": [
    "x = np.array(['Decision Tree', 'Gradient Boosting'])\n",
    "y = np.array([decision_rmse, gradient_rmse])\n",
    "\n",
    "plt.bar(x, y)\n",
    "plt.title('Root Mean Squared Error')\n",
    "plt.legend()\n",
    "\n",
    "for index, value in enumerate(y):\n",
    "    plt.text(x=index, y=value + 100, s=str(value), ha='center')\n",
    "\n",
    "plt.show()"
   ]
  },
  {
   "cell_type": "code",
   "execution_count": 476,
   "id": "421030a4",
   "metadata": {},
   "outputs": [],
   "source": [
    "# fuji['x'] = fuji['Date'].shift(1)\n",
    "# fuji['x'] = pd.to_numeric(fuji['x'], errors='coerce')\n",
    "# fuji['x'].interpolate()\n"
   ]
  }
 ],
 "metadata": {
  "kernelspec": {
   "display_name": "Python 3 (ipykernel)",
   "language": "python",
   "name": "python3"
  },
  "language_info": {
   "codemirror_mode": {
    "name": "ipython",
    "version": 3
   },
   "file_extension": ".py",
   "mimetype": "text/x-python",
   "name": "python",
   "nbconvert_exporter": "python",
   "pygments_lexer": "ipython3",
   "version": "3.12.2"
  }
 },
 "nbformat": 4,
 "nbformat_minor": 5
}
