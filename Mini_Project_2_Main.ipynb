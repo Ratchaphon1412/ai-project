{
 "cells": [
  {
   "cell_type": "markdown",
   "id": "333eab63",
   "metadata": {},
   "source": [
    " # **01418462 Artificial Intelligence Mini Project 2**"
   ]
  },
  {
   "cell_type": "markdown",
   "id": "e77fdef2",
   "metadata": {},
   "source": [
    "#### **สมาชิก**\n",
    "\n",
    "นางสาวปรริณ คงเจริญเขตร์ รหัสนิสิต 6410451156\n",
    "\n",
    "นางสาวธนพร แซ่ลิ้ม รหัสนิสิต 6410450991\n",
    "\n",
    "นายรัชพล หินซุย รหัสนิสิต 6410450257\n",
    "\n",
    "**ประเทศที่เลือก** : สเปน"
   ]
  },
  {
   "cell_type": "markdown",
   "id": "ce2509fb",
   "metadata": {},
   "source": [
    "##### **import library**\n",
    "- **pandas** *for data manipulation and analysis*\n",
    "- **seaborn** *for plot for creating statistical data visualizations*\n",
    "- **matplotlib.pyplot** *for creating statistical data visualizations*\n",
    "    "
   ]
  },
  {
   "cell_type": "code",
   "execution_count": 14,
   "id": "43ce784e",
   "metadata": {},
   "outputs": [],
   "source": [
    "import pandas as pd\n",
    "import numpy as np\n",
    "import seaborn as sns\n",
    "import matplotlib.pyplot as plt\n",
    "\n",
    "from sklearn.model_selection import train_test_split\n",
    "from sklearn.tree import DecisionTreeRegressor\n",
    "from sklearn.ensemble import GradientBoostingRegressor\n",
    "import datetime as dt"
   ]
  },
  {
   "cell_type": "code",
   "execution_count": 15,
   "id": "d8bf3954",
   "metadata": {},
   "outputs": [],
   "source": [
    "df = pd.read_csv('Apple462.csv')"
   ]
  },
  {
   "cell_type": "code",
   "execution_count": 16,
   "id": "e77a57aa",
   "metadata": {
    "scrolled": true
   },
   "outputs": [
    {
     "data": {
      "text/html": [
       "<div>\n",
       "<style scoped>\n",
       "    .dataframe tbody tr th:only-of-type {\n",
       "        vertical-align: middle;\n",
       "    }\n",
       "\n",
       "    .dataframe tbody tr th {\n",
       "        vertical-align: top;\n",
       "    }\n",
       "\n",
       "    .dataframe thead th {\n",
       "        text-align: right;\n",
       "    }\n",
       "</style>\n",
       "<table border=\"1\" class=\"dataframe\">\n",
       "  <thead>\n",
       "    <tr style=\"text-align: right;\">\n",
       "      <th></th>\n",
       "      <th>Unnamed: 0</th>\n",
       "      <th>Date</th>\n",
       "      <th>Envi</th>\n",
       "      <th>Fuji</th>\n",
       "      <th>Gala</th>\n",
       "      <th>region</th>\n",
       "    </tr>\n",
       "  </thead>\n",
       "  <tbody>\n",
       "    <tr>\n",
       "      <th>0</th>\n",
       "      <td>0</td>\n",
       "      <td>27/12/2015</td>\n",
       "      <td>1037</td>\n",
       "      <td>54455</td>\n",
       "      <td>48</td>\n",
       "      <td>Spain</td>\n",
       "    </tr>\n",
       "    <tr>\n",
       "      <th>1</th>\n",
       "      <td>1</td>\n",
       "      <td>20/12/2015</td>\n",
       "      <td>674</td>\n",
       "      <td>44639</td>\n",
       "      <td>58</td>\n",
       "      <td>Spain</td>\n",
       "    </tr>\n",
       "    <tr>\n",
       "      <th>2</th>\n",
       "      <td>2</td>\n",
       "      <td>13/12/2015</td>\n",
       "      <td>795</td>\n",
       "      <td>109150</td>\n",
       "      <td>131</td>\n",
       "      <td>Spain</td>\n",
       "    </tr>\n",
       "    <tr>\n",
       "      <th>3</th>\n",
       "      <td>3</td>\n",
       "      <td>6/12/2015</td>\n",
       "      <td>1132</td>\n",
       "      <td>71976</td>\n",
       "      <td>73</td>\n",
       "      <td>Spain</td>\n",
       "    </tr>\n",
       "    <tr>\n",
       "      <th>4</th>\n",
       "      <td>4</td>\n",
       "      <td>29/11/2015</td>\n",
       "      <td>941</td>\n",
       "      <td>43838</td>\n",
       "      <td>76</td>\n",
       "      <td>Spain</td>\n",
       "    </tr>\n",
       "    <tr>\n",
       "      <th>...</th>\n",
       "      <td>...</td>\n",
       "      <td>...</td>\n",
       "      <td>...</td>\n",
       "      <td>...</td>\n",
       "      <td>...</td>\n",
       "      <td>...</td>\n",
       "    </tr>\n",
       "    <tr>\n",
       "      <th>3544</th>\n",
       "      <td>7</td>\n",
       "      <td>4/2/2018</td>\n",
       "      <td>96085</td>\n",
       "      <td>2250967</td>\n",
       "      <td>3253</td>\n",
       "      <td>Portugal</td>\n",
       "    </tr>\n",
       "    <tr>\n",
       "      <th>3545</th>\n",
       "      <td>8</td>\n",
       "      <td>28/1/2018</td>\n",
       "      <td>82653</td>\n",
       "      <td>1501055</td>\n",
       "      <td>746</td>\n",
       "      <td>Portugal</td>\n",
       "    </tr>\n",
       "    <tr>\n",
       "      <th>3546</th>\n",
       "      <td>9</td>\n",
       "      <td>21/1/2018</td>\n",
       "      <td>46444</td>\n",
       "      <td>1642533</td>\n",
       "      <td>1165</td>\n",
       "      <td>Portugal</td>\n",
       "    </tr>\n",
       "    <tr>\n",
       "      <th>3547</th>\n",
       "      <td>10</td>\n",
       "      <td>14/1/2018</td>\n",
       "      <td>39682</td>\n",
       "      <td>818052</td>\n",
       "      <td>1338</td>\n",
       "      <td>Portugal</td>\n",
       "    </tr>\n",
       "    <tr>\n",
       "      <th>3548</th>\n",
       "      <td>11</td>\n",
       "      <td>7/1/2018</td>\n",
       "      <td>39884</td>\n",
       "      <td>866953</td>\n",
       "      <td>574</td>\n",
       "      <td>Portugal</td>\n",
       "    </tr>\n",
       "  </tbody>\n",
       "</table>\n",
       "<p>3549 rows × 6 columns</p>\n",
       "</div>"
      ],
      "text/plain": [
       "      Unnamed: 0        Date   Envi     Fuji  Gala    region\n",
       "0              0  27/12/2015   1037    54455    48     Spain\n",
       "1              1  20/12/2015    674    44639    58     Spain\n",
       "2              2  13/12/2015    795   109150   131     Spain\n",
       "3              3   6/12/2015   1132    71976    73     Spain\n",
       "4              4  29/11/2015    941    43838    76     Spain\n",
       "...          ...         ...    ...      ...   ...       ...\n",
       "3544           7    4/2/2018  96085  2250967  3253  Portugal\n",
       "3545           8   28/1/2018  82653  1501055   746  Portugal\n",
       "3546           9   21/1/2018  46444  1642533  1165  Portugal\n",
       "3547          10   14/1/2018  39682   818052  1338  Portugal\n",
       "3548          11    7/1/2018  39884   866953   574  Portugal\n",
       "\n",
       "[3549 rows x 6 columns]"
      ]
     },
     "execution_count": 16,
     "metadata": {},
     "output_type": "execute_result"
    }
   ],
   "source": [
    "df"
   ]
  },
  {
   "cell_type": "markdown",
   "id": "57cb70c0",
   "metadata": {},
   "source": [
    "##### ตัดประเทศให้เหลือแค่สเปน"
   ]
  },
  {
   "cell_type": "code",
   "execution_count": 17,
   "id": "a54e253e",
   "metadata": {},
   "outputs": [
    {
     "data": {
      "text/html": [
       "<div>\n",
       "<style scoped>\n",
       "    .dataframe tbody tr th:only-of-type {\n",
       "        vertical-align: middle;\n",
       "    }\n",
       "\n",
       "    .dataframe tbody tr th {\n",
       "        vertical-align: top;\n",
       "    }\n",
       "\n",
       "    .dataframe thead th {\n",
       "        text-align: right;\n",
       "    }\n",
       "</style>\n",
       "<table border=\"1\" class=\"dataframe\">\n",
       "  <thead>\n",
       "    <tr style=\"text-align: right;\">\n",
       "      <th></th>\n",
       "      <th>Unnamed: 0</th>\n",
       "      <th>Date</th>\n",
       "      <th>Envi</th>\n",
       "      <th>Fuji</th>\n",
       "      <th>Gala</th>\n",
       "      <th>region</th>\n",
       "    </tr>\n",
       "  </thead>\n",
       "  <tbody>\n",
       "    <tr>\n",
       "      <th>0</th>\n",
       "      <td>0</td>\n",
       "      <td>27/12/2015</td>\n",
       "      <td>1037</td>\n",
       "      <td>54455</td>\n",
       "      <td>48</td>\n",
       "      <td>Spain</td>\n",
       "    </tr>\n",
       "    <tr>\n",
       "      <th>1</th>\n",
       "      <td>1</td>\n",
       "      <td>20/12/2015</td>\n",
       "      <td>674</td>\n",
       "      <td>44639</td>\n",
       "      <td>58</td>\n",
       "      <td>Spain</td>\n",
       "    </tr>\n",
       "    <tr>\n",
       "      <th>2</th>\n",
       "      <td>2</td>\n",
       "      <td>13/12/2015</td>\n",
       "      <td>795</td>\n",
       "      <td>109150</td>\n",
       "      <td>131</td>\n",
       "      <td>Spain</td>\n",
       "    </tr>\n",
       "    <tr>\n",
       "      <th>3</th>\n",
       "      <td>3</td>\n",
       "      <td>6/12/2015</td>\n",
       "      <td>1132</td>\n",
       "      <td>71976</td>\n",
       "      <td>73</td>\n",
       "      <td>Spain</td>\n",
       "    </tr>\n",
       "    <tr>\n",
       "      <th>4</th>\n",
       "      <td>4</td>\n",
       "      <td>29/11/2015</td>\n",
       "      <td>941</td>\n",
       "      <td>43838</td>\n",
       "      <td>76</td>\n",
       "      <td>Spain</td>\n",
       "    </tr>\n",
       "    <tr>\n",
       "      <th>...</th>\n",
       "      <td>...</td>\n",
       "      <td>...</td>\n",
       "      <td>...</td>\n",
       "      <td>...</td>\n",
       "      <td>...</td>\n",
       "      <td>...</td>\n",
       "    </tr>\n",
       "    <tr>\n",
       "      <th>3304</th>\n",
       "      <td>7</td>\n",
       "      <td>4/2/2018</td>\n",
       "      <td>7626</td>\n",
       "      <td>195725</td>\n",
       "      <td>144</td>\n",
       "      <td>Spain</td>\n",
       "    </tr>\n",
       "    <tr>\n",
       "      <th>3305</th>\n",
       "      <td>8</td>\n",
       "      <td>28/1/2018</td>\n",
       "      <td>3101</td>\n",
       "      <td>74627</td>\n",
       "      <td>56</td>\n",
       "      <td>Spain</td>\n",
       "    </tr>\n",
       "    <tr>\n",
       "      <th>3306</th>\n",
       "      <td>9</td>\n",
       "      <td>21/1/2018</td>\n",
       "      <td>3133</td>\n",
       "      <td>116521</td>\n",
       "      <td>89</td>\n",
       "      <td>Spain</td>\n",
       "    </tr>\n",
       "    <tr>\n",
       "      <th>3307</th>\n",
       "      <td>10</td>\n",
       "      <td>14/1/2018</td>\n",
       "      <td>2897</td>\n",
       "      <td>76571</td>\n",
       "      <td>44</td>\n",
       "      <td>Spain</td>\n",
       "    </tr>\n",
       "    <tr>\n",
       "      <th>3308</th>\n",
       "      <td>11</td>\n",
       "      <td>7/1/2018</td>\n",
       "      <td>2941</td>\n",
       "      <td>76193</td>\n",
       "      <td>43</td>\n",
       "      <td>Spain</td>\n",
       "    </tr>\n",
       "  </tbody>\n",
       "</table>\n",
       "<p>169 rows × 6 columns</p>\n",
       "</div>"
      ],
      "text/plain": [
       "      Unnamed: 0        Date  Envi    Fuji Gala region\n",
       "0              0  27/12/2015  1037   54455   48  Spain\n",
       "1              1  20/12/2015   674   44639   58  Spain\n",
       "2              2  13/12/2015   795  109150  131  Spain\n",
       "3              3   6/12/2015  1132   71976   73  Spain\n",
       "4              4  29/11/2015   941   43838   76  Spain\n",
       "...          ...         ...   ...     ...  ...    ...\n",
       "3304           7    4/2/2018  7626  195725  144  Spain\n",
       "3305           8   28/1/2018  3101   74627   56  Spain\n",
       "3306           9   21/1/2018  3133  116521   89  Spain\n",
       "3307          10   14/1/2018  2897   76571   44  Spain\n",
       "3308          11    7/1/2018  2941   76193   43  Spain\n",
       "\n",
       "[169 rows x 6 columns]"
      ]
     },
     "execution_count": 17,
     "metadata": {},
     "output_type": "execute_result"
    }
   ],
   "source": [
    "df = df[df.region == \"Spain\"]\n",
    "df"
   ]
  },
  {
   "cell_type": "markdown",
   "id": "85ef2132",
   "metadata": {},
   "source": [
    "## Clean Data"
   ]
  },
  {
   "cell_type": "markdown",
   "id": "88267bca",
   "metadata": {},
   "source": [
    "##### Drop column \"Unnamed: 0\", Reset Index, Change Date column to date type"
   ]
  },
  {
   "cell_type": "code",
   "execution_count": 18,
   "id": "bce8dfb9",
   "metadata": {
    "scrolled": true
   },
   "outputs": [
    {
     "data": {
      "text/html": [
       "<div>\n",
       "<style scoped>\n",
       "    .dataframe tbody tr th:only-of-type {\n",
       "        vertical-align: middle;\n",
       "    }\n",
       "\n",
       "    .dataframe tbody tr th {\n",
       "        vertical-align: top;\n",
       "    }\n",
       "\n",
       "    .dataframe thead th {\n",
       "        text-align: right;\n",
       "    }\n",
       "</style>\n",
       "<table border=\"1\" class=\"dataframe\">\n",
       "  <thead>\n",
       "    <tr style=\"text-align: right;\">\n",
       "      <th></th>\n",
       "      <th>Date</th>\n",
       "      <th>Envi</th>\n",
       "      <th>Fuji</th>\n",
       "      <th>Gala</th>\n",
       "    </tr>\n",
       "  </thead>\n",
       "  <tbody>\n",
       "    <tr>\n",
       "      <th>0</th>\n",
       "      <td>2015-12-27</td>\n",
       "      <td>1037</td>\n",
       "      <td>54455</td>\n",
       "      <td>48</td>\n",
       "    </tr>\n",
       "    <tr>\n",
       "      <th>1</th>\n",
       "      <td>2015-12-20</td>\n",
       "      <td>674</td>\n",
       "      <td>44639</td>\n",
       "      <td>58</td>\n",
       "    </tr>\n",
       "    <tr>\n",
       "      <th>2</th>\n",
       "      <td>2015-12-13</td>\n",
       "      <td>795</td>\n",
       "      <td>109150</td>\n",
       "      <td>131</td>\n",
       "    </tr>\n",
       "    <tr>\n",
       "      <th>3</th>\n",
       "      <td>2015-12-06</td>\n",
       "      <td>1132</td>\n",
       "      <td>71976</td>\n",
       "      <td>73</td>\n",
       "    </tr>\n",
       "    <tr>\n",
       "      <th>4</th>\n",
       "      <td>2015-11-29</td>\n",
       "      <td>941</td>\n",
       "      <td>43838</td>\n",
       "      <td>76</td>\n",
       "    </tr>\n",
       "    <tr>\n",
       "      <th>...</th>\n",
       "      <td>...</td>\n",
       "      <td>...</td>\n",
       "      <td>...</td>\n",
       "      <td>...</td>\n",
       "    </tr>\n",
       "    <tr>\n",
       "      <th>164</th>\n",
       "      <td>2018-02-04</td>\n",
       "      <td>7626</td>\n",
       "      <td>195725</td>\n",
       "      <td>144</td>\n",
       "    </tr>\n",
       "    <tr>\n",
       "      <th>165</th>\n",
       "      <td>2018-01-28</td>\n",
       "      <td>3101</td>\n",
       "      <td>74627</td>\n",
       "      <td>56</td>\n",
       "    </tr>\n",
       "    <tr>\n",
       "      <th>166</th>\n",
       "      <td>2018-01-21</td>\n",
       "      <td>3133</td>\n",
       "      <td>116521</td>\n",
       "      <td>89</td>\n",
       "    </tr>\n",
       "    <tr>\n",
       "      <th>167</th>\n",
       "      <td>2018-01-14</td>\n",
       "      <td>2897</td>\n",
       "      <td>76571</td>\n",
       "      <td>44</td>\n",
       "    </tr>\n",
       "    <tr>\n",
       "      <th>168</th>\n",
       "      <td>2018-01-07</td>\n",
       "      <td>2941</td>\n",
       "      <td>76193</td>\n",
       "      <td>43</td>\n",
       "    </tr>\n",
       "  </tbody>\n",
       "</table>\n",
       "<p>169 rows × 4 columns</p>\n",
       "</div>"
      ],
      "text/plain": [
       "          Date  Envi    Fuji Gala\n",
       "0   2015-12-27  1037   54455   48\n",
       "1   2015-12-20   674   44639   58\n",
       "2   2015-12-13   795  109150  131\n",
       "3   2015-12-06  1132   71976   73\n",
       "4   2015-11-29   941   43838   76\n",
       "..         ...   ...     ...  ...\n",
       "164 2018-02-04  7626  195725  144\n",
       "165 2018-01-28  3101   74627   56\n",
       "166 2018-01-21  3133  116521   89\n",
       "167 2018-01-14  2897   76571   44\n",
       "168 2018-01-07  2941   76193   43\n",
       "\n",
       "[169 rows x 4 columns]"
      ]
     },
     "execution_count": 18,
     "metadata": {},
     "output_type": "execute_result"
    }
   ],
   "source": [
    "df = df.drop(['Unnamed: 0','region'], axis=1)\n",
    "df = df.reset_index().drop('index',axis=1)\n",
    "df['Date'] = pd.to_datetime(df['Date'], format='%d/%m/%Y')\n",
    "df"
   ]
  },
  {
   "cell_type": "code",
   "execution_count": 19,
   "id": "25d61e1c",
   "metadata": {},
   "outputs": [],
   "source": [
    "df['Gala'] = pd.to_numeric(df['Gala'], errors='coerce')\n",
    "df['Envi'] = pd.to_numeric(df['Envi'], errors='coerce')\n",
    "df['Fuji'] = pd.to_numeric(df['Fuji'], errors='coerce')"
   ]
  },
  {
   "cell_type": "code",
   "execution_count": 20,
   "id": "5348c502",
   "metadata": {},
   "outputs": [],
   "source": [
    "df['Gala'].replace(' ', np.nan, inplace=True)\n",
    "df['Fuji'].replace(' ', np.nan, inplace=True)\n",
    "df['Envi'].replace(' ', np.nan, inplace=True)"
   ]
  },
  {
   "cell_type": "code",
   "execution_count": 21,
   "id": "7719596d",
   "metadata": {},
   "outputs": [],
   "source": [
    "df.Gala = df['Gala'].interpolate()\n",
    "df.Fuji = df['Fuji'].interpolate()\n",
    "df.Envi = df['Envi'].interpolate()"
   ]
  },
  {
   "cell_type": "markdown",
   "id": "c7e876c7",
   "metadata": {},
   "source": [
    "##### แยกสายพันธุ์"
   ]
  },
  {
   "cell_type": "code",
   "execution_count": 22,
   "id": "c1b53bb7",
   "metadata": {},
   "outputs": [],
   "source": [
    "envi = df.drop(['Fuji', 'Gala'], axis=1)\n",
    "fuji = df.drop(['Envi','Gala'],axis=1)\n",
    "gala = df.drop(['Envi','Fuji'],axis=1)"
   ]
  },
  {
   "cell_type": "markdown",
   "id": "44fa23fa-0817-4612-91a9-eea5780a14cf",
   "metadata": {},
   "source": [
    "# Gala"
   ]
  },
  {
   "cell_type": "code",
   "execution_count": 23,
   "id": "f57afeae-1df5-41a9-b43d-045bfbac6f51",
   "metadata": {},
   "outputs": [
    {
     "data": {
      "text/html": [
       "<div>\n",
       "<style scoped>\n",
       "    .dataframe tbody tr th:only-of-type {\n",
       "        vertical-align: middle;\n",
       "    }\n",
       "\n",
       "    .dataframe tbody tr th {\n",
       "        vertical-align: top;\n",
       "    }\n",
       "\n",
       "    .dataframe thead th {\n",
       "        text-align: right;\n",
       "    }\n",
       "</style>\n",
       "<table border=\"1\" class=\"dataframe\">\n",
       "  <thead>\n",
       "    <tr style=\"text-align: right;\">\n",
       "      <th></th>\n",
       "      <th>Date</th>\n",
       "      <th>Gala</th>\n",
       "    </tr>\n",
       "  </thead>\n",
       "  <tbody>\n",
       "    <tr>\n",
       "      <th>0</th>\n",
       "      <td>2015-12-27</td>\n",
       "      <td>48.0</td>\n",
       "    </tr>\n",
       "    <tr>\n",
       "      <th>1</th>\n",
       "      <td>2015-12-20</td>\n",
       "      <td>58.0</td>\n",
       "    </tr>\n",
       "    <tr>\n",
       "      <th>2</th>\n",
       "      <td>2015-12-13</td>\n",
       "      <td>131.0</td>\n",
       "    </tr>\n",
       "    <tr>\n",
       "      <th>3</th>\n",
       "      <td>2015-12-06</td>\n",
       "      <td>73.0</td>\n",
       "    </tr>\n",
       "    <tr>\n",
       "      <th>4</th>\n",
       "      <td>2015-11-29</td>\n",
       "      <td>76.0</td>\n",
       "    </tr>\n",
       "    <tr>\n",
       "      <th>...</th>\n",
       "      <td>...</td>\n",
       "      <td>...</td>\n",
       "    </tr>\n",
       "    <tr>\n",
       "      <th>164</th>\n",
       "      <td>2018-02-04</td>\n",
       "      <td>144.0</td>\n",
       "    </tr>\n",
       "    <tr>\n",
       "      <th>165</th>\n",
       "      <td>2018-01-28</td>\n",
       "      <td>56.0</td>\n",
       "    </tr>\n",
       "    <tr>\n",
       "      <th>166</th>\n",
       "      <td>2018-01-21</td>\n",
       "      <td>89.0</td>\n",
       "    </tr>\n",
       "    <tr>\n",
       "      <th>167</th>\n",
       "      <td>2018-01-14</td>\n",
       "      <td>44.0</td>\n",
       "    </tr>\n",
       "    <tr>\n",
       "      <th>168</th>\n",
       "      <td>2018-01-07</td>\n",
       "      <td>43.0</td>\n",
       "    </tr>\n",
       "  </tbody>\n",
       "</table>\n",
       "<p>169 rows × 2 columns</p>\n",
       "</div>"
      ],
      "text/plain": [
       "          Date   Gala\n",
       "0   2015-12-27   48.0\n",
       "1   2015-12-20   58.0\n",
       "2   2015-12-13  131.0\n",
       "3   2015-12-06   73.0\n",
       "4   2015-11-29   76.0\n",
       "..         ...    ...\n",
       "164 2018-02-04  144.0\n",
       "165 2018-01-28   56.0\n",
       "166 2018-01-21   89.0\n",
       "167 2018-01-14   44.0\n",
       "168 2018-01-07   43.0\n",
       "\n",
       "[169 rows x 2 columns]"
      ]
     },
     "execution_count": 23,
     "metadata": {},
     "output_type": "execute_result"
    }
   ],
   "source": [
    "#pd.set_option('display.max_rows', None)\n",
    "gala"
   ]
  },
  {
   "cell_type": "code",
   "execution_count": 24,
   "id": "b4d7d483-5d1d-41b9-a31b-8b50c2f49d18",
   "metadata": {
    "scrolled": true
   },
   "outputs": [
    {
     "data": {
      "text/html": [
       "<div>\n",
       "<style scoped>\n",
       "    .dataframe tbody tr th:only-of-type {\n",
       "        vertical-align: middle;\n",
       "    }\n",
       "\n",
       "    .dataframe tbody tr th {\n",
       "        vertical-align: top;\n",
       "    }\n",
       "\n",
       "    .dataframe thead th {\n",
       "        text-align: right;\n",
       "    }\n",
       "</style>\n",
       "<table border=\"1\" class=\"dataframe\">\n",
       "  <thead>\n",
       "    <tr style=\"text-align: right;\">\n",
       "      <th></th>\n",
       "      <th>Gala</th>\n",
       "    </tr>\n",
       "    <tr>\n",
       "      <th>Date</th>\n",
       "      <th></th>\n",
       "    </tr>\n",
       "  </thead>\n",
       "  <tbody>\n",
       "    <tr>\n",
       "      <th>2015-01-04</th>\n",
       "      <td>50.0</td>\n",
       "    </tr>\n",
       "    <tr>\n",
       "      <th>2015-01-11</th>\n",
       "      <td>127.0</td>\n",
       "    </tr>\n",
       "    <tr>\n",
       "      <th>2015-01-18</th>\n",
       "      <td>136.0</td>\n",
       "    </tr>\n",
       "    <tr>\n",
       "      <th>2015-01-25</th>\n",
       "      <td>164.0</td>\n",
       "    </tr>\n",
       "    <tr>\n",
       "      <th>2015-02-01</th>\n",
       "      <td>179.0</td>\n",
       "    </tr>\n",
       "    <tr>\n",
       "      <th>...</th>\n",
       "      <td>...</td>\n",
       "    </tr>\n",
       "    <tr>\n",
       "      <th>2018-02-25</th>\n",
       "      <td>48.0</td>\n",
       "    </tr>\n",
       "    <tr>\n",
       "      <th>2018-03-04</th>\n",
       "      <td>96.0</td>\n",
       "    </tr>\n",
       "    <tr>\n",
       "      <th>2018-03-11</th>\n",
       "      <td>70.0</td>\n",
       "    </tr>\n",
       "    <tr>\n",
       "      <th>2018-03-18</th>\n",
       "      <td>55.0</td>\n",
       "    </tr>\n",
       "    <tr>\n",
       "      <th>2018-03-25</th>\n",
       "      <td>65.0</td>\n",
       "    </tr>\n",
       "  </tbody>\n",
       "</table>\n",
       "<p>169 rows × 1 columns</p>\n",
       "</div>"
      ],
      "text/plain": [
       "             Gala\n",
       "Date             \n",
       "2015-01-04   50.0\n",
       "2015-01-11  127.0\n",
       "2015-01-18  136.0\n",
       "2015-01-25  164.0\n",
       "2015-02-01  179.0\n",
       "...           ...\n",
       "2018-02-25   48.0\n",
       "2018-03-04   96.0\n",
       "2018-03-11   70.0\n",
       "2018-03-18   55.0\n",
       "2018-03-25   65.0\n",
       "\n",
       "[169 rows x 1 columns]"
      ]
     },
     "execution_count": 24,
     "metadata": {},
     "output_type": "execute_result"
    }
   ],
   "source": [
    "gala = gala.set_index('Date')\n",
    "gala.sort_index(ascending=True)"
   ]
  },
  {
   "cell_type": "markdown",
   "id": "714ce3bc",
   "metadata": {},
   "source": [
    "#### Visualize"
   ]
  },
  {
   "cell_type": "code",
   "execution_count": 25,
   "id": "ab099e6e",
   "metadata": {
    "scrolled": true
   },
   "outputs": [
    {
     "name": "stderr",
     "output_type": "stream",
     "text": [
      "/usr/local/anaconda3/envs/datascience/lib/python3.11/site-packages/seaborn/_oldcore.py:1119: FutureWarning: use_inf_as_na option is deprecated and will be removed in a future version. Convert inf values to NaN before operating instead.\n",
      "  with pd.option_context('mode.use_inf_as_na', True):\n",
      "/usr/local/anaconda3/envs/datascience/lib/python3.11/site-packages/seaborn/_oldcore.py:1119: FutureWarning: use_inf_as_na option is deprecated and will be removed in a future version. Convert inf values to NaN before operating instead.\n",
      "  with pd.option_context('mode.use_inf_as_na', True):\n"
     ]
    },
    {
     "data": {
      "text/plain": [
       "<Axes: xlabel='Date', ylabel='Gala'>"
      ]
     },
     "execution_count": 25,
     "metadata": {},
     "output_type": "execute_result"
    },
    {
     "data": {
      "image/png": "[encoded data removed]",
      "text/plain": [
       "<Figure size 1000x500 with 1 Axes>"
      ]
     },
     "metadata": {},
     "output_type": "display_data"
    }
   ],
   "source": [
    "plt.figure(figsize=(10, 5))\n",
    "sns.lineplot(data=gala, x='Date', y='Gala')"
   ]
  },
  {
   "cell_type": "code",
   "execution_count": 26,
   "id": "123118d4",
   "metadata": {},
   "outputs": [
    {
     "data": {
      "text/html": [
       "<div>\n",
       "<style scoped>\n",
       "    .dataframe tbody tr th:only-of-type {\n",
       "        vertical-align: middle;\n",
       "    }\n",
       "\n",
       "    .dataframe tbody tr th {\n",
       "        vertical-align: top;\n",
       "    }\n",
       "\n",
       "    .dataframe thead th {\n",
       "        text-align: right;\n",
       "    }\n",
       "</style>\n",
       "<table border=\"1\" class=\"dataframe\">\n",
       "  <thead>\n",
       "    <tr style=\"text-align: right;\">\n",
       "      <th></th>\n",
       "      <th>Date</th>\n",
       "      <th>Gala</th>\n",
       "    </tr>\n",
       "  </thead>\n",
       "  <tbody>\n",
       "    <tr>\n",
       "      <th>0</th>\n",
       "      <td>735959</td>\n",
       "      <td>48.0</td>\n",
       "    </tr>\n",
       "    <tr>\n",
       "      <th>1</th>\n",
       "      <td>735952</td>\n",
       "      <td>58.0</td>\n",
       "    </tr>\n",
       "    <tr>\n",
       "      <th>2</th>\n",
       "      <td>735945</td>\n",
       "      <td>131.0</td>\n",
       "    </tr>\n",
       "    <tr>\n",
       "      <th>3</th>\n",
       "      <td>735938</td>\n",
       "      <td>73.0</td>\n",
       "    </tr>\n",
       "    <tr>\n",
       "      <th>4</th>\n",
       "      <td>735931</td>\n",
       "      <td>76.0</td>\n",
       "    </tr>\n",
       "    <tr>\n",
       "      <th>...</th>\n",
       "      <td>...</td>\n",
       "      <td>...</td>\n",
       "    </tr>\n",
       "    <tr>\n",
       "      <th>164</th>\n",
       "      <td>736729</td>\n",
       "      <td>144.0</td>\n",
       "    </tr>\n",
       "    <tr>\n",
       "      <th>165</th>\n",
       "      <td>736722</td>\n",
       "      <td>56.0</td>\n",
       "    </tr>\n",
       "    <tr>\n",
       "      <th>166</th>\n",
       "      <td>736715</td>\n",
       "      <td>89.0</td>\n",
       "    </tr>\n",
       "    <tr>\n",
       "      <th>167</th>\n",
       "      <td>736708</td>\n",
       "      <td>44.0</td>\n",
       "    </tr>\n",
       "    <tr>\n",
       "      <th>168</th>\n",
       "      <td>736701</td>\n",
       "      <td>43.0</td>\n",
       "    </tr>\n",
       "  </tbody>\n",
       "</table>\n",
       "<p>169 rows × 2 columns</p>\n",
       "</div>"
      ],
      "text/plain": [
       "       Date   Gala\n",
       "0    735959   48.0\n",
       "1    735952   58.0\n",
       "2    735945  131.0\n",
       "3    735938   73.0\n",
       "4    735931   76.0\n",
       "..      ...    ...\n",
       "164  736729  144.0\n",
       "165  736722   56.0\n",
       "166  736715   89.0\n",
       "167  736708   44.0\n",
       "168  736701   43.0\n",
       "\n",
       "[169 rows x 2 columns]"
      ]
     },
     "execution_count": 26,
     "metadata": {},
     "output_type": "execute_result"
    }
   ],
   "source": [
    "gala.index = gala.index.map(dt.datetime.toordinal)\n",
    "gala.reset_index(inplace=True)\n",
    "gala.rename(columns={'index': 'Date'}, inplace=True)\n",
    "gala"
   ]
  },
  {
   "cell_type": "code",
   "execution_count": 27,
   "id": "1de28672",
   "metadata": {},
   "outputs": [],
   "source": [
    "# Split the data into features (X) and target variable (y)\n",
    "X = gala[['Date']] \n",
    "y = gala['Gala']  \n",
    "# Split the data into training and testing sets\n",
    "X_train, X_test, y_train, y_test = train_test_split(X, y, test_size=0.3, random_state=320)"
   ]
  },
  {
   "cell_type": "markdown",
   "id": "db8c0672",
   "metadata": {},
   "source": [
    "#### Decision Tree Regressor\n"
   ]
  },
  {
   "cell_type": "code",
   "execution_count": 28,
   "id": "1d439dc1",
   "metadata": {},
   "outputs": [],
   "source": [
    "# Create the Decision Tree Regressor model\n",
    "model_decision = DecisionTreeRegressor(max_depth=7,min_samples_split=2,min_samples_leaf=3)\n",
    "\n",
    "# Fit the model to the training data\n",
    "model_decision.fit(X_train, y_train)\n",
    "\n",
    "# Make predictions on the test data\n",
    "y_pred = model_decision.predict(X_test)"
   ]
  },
  {
   "cell_type": "markdown",
   "id": "6e114644",
   "metadata": {},
   "source": [
    "#### Gradient Boosting"
   ]
  },
  {
   "cell_type": "code",
   "execution_count": 29,
   "id": "735c24fa",
   "metadata": {},
   "outputs": [],
   "source": [
    "model_gradient = GradientBoostingRegressor(n_estimators=100, learning_rate=0.8, max_depth=10, random_state=320)\n",
    "model_gradient.fit(X_train, y_train)\n",
    "\n",
    "y_pred_gradient = model_gradient.predict(X_test)"
   ]
  },
  {
   "cell_type": "code",
   "execution_count": 30,
   "id": "3653cdd8",
   "metadata": {},
   "outputs": [],
   "source": [
    "#gala.sort_index(ascending=True)"
   ]
  },
  {
   "cell_type": "markdown",
   "id": "cd70c482",
   "metadata": {},
   "source": [
    "### MAPE "
   ]
  },
  {
   "cell_type": "code",
   "execution_count": 31,
   "id": "4de6ffdf",
   "metadata": {},
   "outputs": [],
   "source": [
    "def mape(y_true, y_pred):\n",
    "    y_true, y_pred = np.array(y_true), np.array(y_pred)\n",
    "    \n",
    "    # Calculate the absolute percentage error for each data point\n",
    "    absolute_percentage_error = np.abs((y_true - y_pred) / y_true)\n",
    "    \n",
    "    # Compute the mean of the absolute percentage errors\n",
    "    mean_absolute_percentage_error = np.mean(absolute_percentage_error)\n",
    "    \n",
    "    # Convert the mean absolute percentage error to percentage and round to 2 decimal places\n",
    "    return round(mean_absolute_percentage_error *100, 2)\n"
   ]
  },
  {
   "cell_type": "code",
   "execution_count": 32,
   "id": "8fe92304",
   "metadata": {},
   "outputs": [
    {
     "data": {
      "image/png": "[encoded data removed]",
      "text/plain": [
       "<Figure size 1000x500 with 1 Axes>"
      ]
     },
     "metadata": {},
     "output_type": "display_data"
    }
   ],
   "source": [
    "dt_mape = mape(y_test, y_pred) \n",
    "gbr_mape = mape(y_test, y_pred_gradient) \n",
    "\n",
    "x = ['Decision Tree', 'Gradient Boosting']\n",
    "\n",
    "y = [dt_mape, gbr_mape]\n",
    "\n",
    "# Create a bar plot\n",
    "fig, ax = plt.subplots(figsize=(10, 5))\n",
    "\n",
    "ax.bar(x, y, width=0.4)\n",
    "ax.set_xlabel('Regressor models')\n",
    "ax.set_ylabel('MAPE (%)')\n",
    "ax.set_ylim(0, 100)\n",
    "\n",
    "# Adding text labels to each bar\n",
    "for index, value in enumerate(y):\n",
    "    plt.text(x=index, y=value + 0.02, s=str(value), ha='center')\n",
    "\n",
    "# Adjust layout\n",
    "plt.tight_layout()\n",
    "\n",
    "# Show the plot\n",
    "plt.show()\n"
   ]
  },
  {
   "cell_type": "markdown",
   "id": "32161882",
   "metadata": {},
   "source": [
    "#### Predict the next time step using a sequence of past observations"
   ]
  },
  {
   "cell_type": "code",
   "execution_count": 33,
   "id": "72167b49",
   "metadata": {},
   "outputs": [],
   "source": [
    "def window_input(window_length: int, data: pd.DataFrame) ->pd.DataFrame:\n",
    "    df= data.copy()\n",
    "    i = 1\n",
    "    while i < window_length:\n",
    "        df[f'x_{i}'] = df['Date'].shift(-i)\n",
    "        i = i + 1\n",
    "    if i == window_length:\n",
    "        df['y'] = df['Date'].shift(-i)\n",
    "# Drop rows where there is a NaN \n",
    "    df= df.dropna(axis=0)\n",
    "    return df"
   ]
  },
  {
   "cell_type": "code",
   "execution_count": 34,
   "id": "551eb242",
   "metadata": {},
   "outputs": [
    {
     "data": {
      "text/html": [
       "<div>\n",
       "<style scoped>\n",
       "    .dataframe tbody tr th:only-of-type {\n",
       "        vertical-align: middle;\n",
       "    }\n",
       "\n",
       "    .dataframe tbody tr th {\n",
       "        vertical-align: top;\n",
       "    }\n",
       "\n",
       "    .dataframe thead th {\n",
       "        text-align: right;\n",
       "    }\n",
       "</style>\n",
       "<table border=\"1\" class=\"dataframe\">\n",
       "  <thead>\n",
       "    <tr style=\"text-align: right;\">\n",
       "      <th></th>\n",
       "      <th>Date</th>\n",
       "      <th>Gala</th>\n",
       "      <th>x_1</th>\n",
       "      <th>x_2</th>\n",
       "      <th>x_3</th>\n",
       "      <th>x_4</th>\n",
       "      <th>y</th>\n",
       "    </tr>\n",
       "  </thead>\n",
       "  <tbody>\n",
       "    <tr>\n",
       "      <th>0</th>\n",
       "      <td>735959</td>\n",
       "      <td>48.0</td>\n",
       "      <td>735952.0</td>\n",
       "      <td>735945.0</td>\n",
       "      <td>735938.0</td>\n",
       "      <td>735931.0</td>\n",
       "      <td>735924.0</td>\n",
       "    </tr>\n",
       "    <tr>\n",
       "      <th>1</th>\n",
       "      <td>735952</td>\n",
       "      <td>58.0</td>\n",
       "      <td>735945.0</td>\n",
       "      <td>735938.0</td>\n",
       "      <td>735931.0</td>\n",
       "      <td>735924.0</td>\n",
       "      <td>735917.0</td>\n",
       "    </tr>\n",
       "    <tr>\n",
       "      <th>2</th>\n",
       "      <td>735945</td>\n",
       "      <td>131.0</td>\n",
       "      <td>735938.0</td>\n",
       "      <td>735931.0</td>\n",
       "      <td>735924.0</td>\n",
       "      <td>735917.0</td>\n",
       "      <td>735910.0</td>\n",
       "    </tr>\n",
       "    <tr>\n",
       "      <th>3</th>\n",
       "      <td>735938</td>\n",
       "      <td>73.0</td>\n",
       "      <td>735931.0</td>\n",
       "      <td>735924.0</td>\n",
       "      <td>735917.0</td>\n",
       "      <td>735910.0</td>\n",
       "      <td>735903.0</td>\n",
       "    </tr>\n",
       "    <tr>\n",
       "      <th>4</th>\n",
       "      <td>735931</td>\n",
       "      <td>76.0</td>\n",
       "      <td>735924.0</td>\n",
       "      <td>735917.0</td>\n",
       "      <td>735910.0</td>\n",
       "      <td>735903.0</td>\n",
       "      <td>735896.0</td>\n",
       "    </tr>\n",
       "    <tr>\n",
       "      <th>...</th>\n",
       "      <td>...</td>\n",
       "      <td>...</td>\n",
       "      <td>...</td>\n",
       "      <td>...</td>\n",
       "      <td>...</td>\n",
       "      <td>...</td>\n",
       "      <td>...</td>\n",
       "    </tr>\n",
       "    <tr>\n",
       "      <th>159</th>\n",
       "      <td>736764</td>\n",
       "      <td>70.0</td>\n",
       "      <td>736757.0</td>\n",
       "      <td>736750.0</td>\n",
       "      <td>736743.0</td>\n",
       "      <td>736736.0</td>\n",
       "      <td>736729.0</td>\n",
       "    </tr>\n",
       "    <tr>\n",
       "      <th>160</th>\n",
       "      <td>736757</td>\n",
       "      <td>96.0</td>\n",
       "      <td>736750.0</td>\n",
       "      <td>736743.0</td>\n",
       "      <td>736736.0</td>\n",
       "      <td>736729.0</td>\n",
       "      <td>736722.0</td>\n",
       "    </tr>\n",
       "    <tr>\n",
       "      <th>161</th>\n",
       "      <td>736750</td>\n",
       "      <td>48.0</td>\n",
       "      <td>736743.0</td>\n",
       "      <td>736736.0</td>\n",
       "      <td>736729.0</td>\n",
       "      <td>736722.0</td>\n",
       "      <td>736715.0</td>\n",
       "    </tr>\n",
       "    <tr>\n",
       "      <th>162</th>\n",
       "      <td>736743</td>\n",
       "      <td>75.0</td>\n",
       "      <td>736736.0</td>\n",
       "      <td>736729.0</td>\n",
       "      <td>736722.0</td>\n",
       "      <td>736715.0</td>\n",
       "      <td>736708.0</td>\n",
       "    </tr>\n",
       "    <tr>\n",
       "      <th>163</th>\n",
       "      <td>736736</td>\n",
       "      <td>61.0</td>\n",
       "      <td>736729.0</td>\n",
       "      <td>736722.0</td>\n",
       "      <td>736715.0</td>\n",
       "      <td>736708.0</td>\n",
       "      <td>736701.0</td>\n",
       "    </tr>\n",
       "  </tbody>\n",
       "</table>\n",
       "<p>164 rows × 7 columns</p>\n",
       "</div>"
      ],
      "text/plain": [
       "       Date   Gala       x_1       x_2       x_3       x_4         y\n",
       "0    735959   48.0  735952.0  735945.0  735938.0  735931.0  735924.0\n",
       "1    735952   58.0  735945.0  735938.0  735931.0  735924.0  735917.0\n",
       "2    735945  131.0  735938.0  735931.0  735924.0  735917.0  735910.0\n",
       "3    735938   73.0  735931.0  735924.0  735917.0  735910.0  735903.0\n",
       "4    735931   76.0  735924.0  735917.0  735910.0  735903.0  735896.0\n",
       "..      ...    ...       ...       ...       ...       ...       ...\n",
       "159  736764   70.0  736757.0  736750.0  736743.0  736736.0  736729.0\n",
       "160  736757   96.0  736750.0  736743.0  736736.0  736729.0  736722.0\n",
       "161  736750   48.0  736743.0  736736.0  736729.0  736722.0  736715.0\n",
       "162  736743   75.0  736736.0  736729.0  736722.0  736715.0  736708.0\n",
       "163  736736   61.0  736729.0  736722.0  736715.0  736708.0  736701.0\n",
       "\n",
       "[164 rows x 7 columns]"
      ]
     },
     "execution_count": 34,
     "metadata": {},
     "output_type": "execute_result"
    }
   ],
   "source": [
    "new_gala = window_input(5, gala)\n",
    "new_gala"
   ]
  },
  {
   "cell_type": "markdown",
   "id": "00aab38d",
   "metadata": {},
   "source": [
    "##### Spilt the data into a traininig and a test set"
   ]
  },
  {
   "cell_type": "code",
   "execution_count": 35,
   "id": "e0306727",
   "metadata": {},
   "outputs": [],
   "source": [
    "X = new_gala[['Gala', 'x_1', 'x_2', 'x_3', 'x_4']].values\n",
    "y = new_gala['Gala'].values\n",
    "\n",
    "X_train,  X_test, y_train, y_test = train_test_split(X, y, test_size=0.3, random_state=320, shuffle=False)"
   ]
  },
  {
   "cell_type": "markdown",
   "id": "4d82b1f5",
   "metadata": {},
   "source": [
    "Decision Tree Regressor"
   ]
  },
  {
   "cell_type": "code",
   "execution_count": 36,
   "id": "9d168184",
   "metadata": {},
   "outputs": [],
   "source": [
    "dt_reg_5 = DecisionTreeRegressor(random_state=320)\n",
    "dt_reg_5.fit(X_train, y_train)\n",
    "dt_reg_5_pred = dt_reg_5.predict(X_test)"
   ]
  },
  {
   "cell_type": "markdown",
   "id": "847c5c96",
   "metadata": {},
   "source": [
    "Gredient Boosting"
   ]
  },
  {
   "cell_type": "code",
   "execution_count": 37,
   "id": "ede495ce",
   "metadata": {},
   "outputs": [],
   "source": [
    "gbr_5 = GradientBoostingRegressor(random_state=320)\n",
    "gbr_5.fit(X_train, y_train.ravel())\n",
    "gbr_5_pred = gbr_5.predict(X_test)\n"
   ]
  },
  {
   "cell_type": "markdown",
   "id": "44ccabf2",
   "metadata": {},
   "source": [
    "Evaluation"
   ]
  },
  {
   "cell_type": "code",
   "execution_count": 38,
   "id": "fa2c10cb",
   "metadata": {},
   "outputs": [
    {
     "data": {
      "image/png": "[encoded data removed]",
      "text/plain": [
       "<Figure size 1000x500 with 1 Axes>"
      ]
     },
     "metadata": {},
     "output_type": "display_data"
    }
   ],
   "source": [
    "dt_5_mape = mape(y_test, dt_reg_5_pred) \n",
    "gbr_5_mape = mape(y_test, gbr_5_pred)\n",
    "\n",
    "x = [ 'Decision Tree', 'Gradient Boosting']\n",
    "y = [ dt_5_mape, gbr_5_mape]\n",
    "\n",
    "\n",
    "fig, ax = plt.subplots(figsize=(10, 5))\n",
    "\n",
    "ax.bar(x, y, width=0.8)\n",
    "ax.set_xlabel('Regressor models')\n",
    "ax.set_ylabel('MAPE (%)')\n",
    "ax.set_ylim(0, 100)\n",
    "\n",
    "for index, value in enumerate(y):\n",
    "    plt.text(x=index, y=value + 0.1, s=str(value), ha='center')\n",
    "\n",
    "plt.tight_layout()\n",
    "\n",
    "plt.show()"
   ]
  },
  {
   "cell_type": "markdown",
   "id": "3d05472a",
   "metadata": {},
   "source": [
    "# Mean Squared Error, R2 Score, Mean Absolute Error"
   ]
  },
  {
   "cell_type": "code",
   "execution_count": 39,
   "id": "c0b2a94b",
   "metadata": {},
   "outputs": [
    {
     "name": "stdout",
     "output_type": "stream",
     "text": [
      "Decision Tree MSE: 3507.00\n",
      "Decision Tree RMSE: 59.22\n",
      "Decision Tree R2: 0.99\n",
      "Decision Tree MAE: 21.44\n",
      "Gradient Boosting MSE: 42835.25\n",
      "Gradient Boosting RMSE: 206.97\n",
      "Gradient Boosting R2: 0.85\n",
      "Gradient Boosting MAE: 56.65\n"
     ]
    }
   ],
   "source": [
    "from sklearn.metrics import mean_squared_error, r2_score, mean_absolute_error\n",
    "\n",
    "decision_mse = mean_squared_error(y_test, dt_reg_5_pred)\n",
    "decision_rmse = np.sqrt(decision_mse)\n",
    "decision_r2 = r2_score(y_test, dt_reg_5_pred)\n",
    "decision_mae = mean_absolute_error(y_test, dt_reg_5_pred)\n",
    "\n",
    "gradient_mse = mean_squared_error(y_test, gbr_5_pred)\n",
    "gradient_rmse = np.sqrt(gradient_mse)\n",
    "gradient_r2 = r2_score(y_test, gbr_5_pred)\n",
    "gradient_mae = mean_absolute_error(y_test, gbr_5_pred)\n",
    "\n",
    "print(\"Decision Tree MSE: {:.2f}\".format(decision_mse))\n",
    "print(\"Decision Tree RMSE: {:.2f}\".format(decision_rmse))\n",
    "print(\"Decision Tree R2: {:.2f}\".format(decision_r2))\n",
    "print(\"Decision Tree MAE: {:.2f}\".format(decision_mae))\n",
    "\n",
    "\n",
    "print(\"Gradient Boosting MSE: {:.2f}\".format(gradient_mse))\n",
    "print(\"Gradient Boosting RMSE: {:.2f}\".format(gradient_rmse))\n",
    "print(\"Gradient Boosting R2: {:.2f}\".format(gradient_r2))\n",
    "print(\"Gradient Boosting MAE: {:.2f}\".format(gradient_mae))"
   ]
  },
  {
   "cell_type": "markdown",
   "id": "af0102b6",
   "metadata": {},
   "source": [
    "# Prediction Modal Envi Apple"
   ]
  },
  {
   "cell_type": "code",
   "execution_count": 40,
   "id": "f2677e57",
   "metadata": {},
   "outputs": [
    {
     "data": {
      "text/html": [
       "<div>\n",
       "<style scoped>\n",
       "    .dataframe tbody tr th:only-of-type {\n",
       "        vertical-align: middle;\n",
       "    }\n",
       "\n",
       "    .dataframe tbody tr th {\n",
       "        vertical-align: top;\n",
       "    }\n",
       "\n",
       "    .dataframe thead th {\n",
       "        text-align: right;\n",
       "    }\n",
       "</style>\n",
       "<table border=\"1\" class=\"dataframe\">\n",
       "  <thead>\n",
       "    <tr style=\"text-align: right;\">\n",
       "      <th></th>\n",
       "      <th>Date</th>\n",
       "      <th>Envi</th>\n",
       "    </tr>\n",
       "  </thead>\n",
       "  <tbody>\n",
       "    <tr>\n",
       "      <th>0</th>\n",
       "      <td>2015-12-27</td>\n",
       "      <td>1037.0</td>\n",
       "    </tr>\n",
       "    <tr>\n",
       "      <th>1</th>\n",
       "      <td>2015-12-20</td>\n",
       "      <td>674.0</td>\n",
       "    </tr>\n",
       "    <tr>\n",
       "      <th>2</th>\n",
       "      <td>2015-12-13</td>\n",
       "      <td>795.0</td>\n",
       "    </tr>\n",
       "    <tr>\n",
       "      <th>3</th>\n",
       "      <td>2015-12-06</td>\n",
       "      <td>1132.0</td>\n",
       "    </tr>\n",
       "    <tr>\n",
       "      <th>4</th>\n",
       "      <td>2015-11-29</td>\n",
       "      <td>941.0</td>\n",
       "    </tr>\n",
       "    <tr>\n",
       "      <th>...</th>\n",
       "      <td>...</td>\n",
       "      <td>...</td>\n",
       "    </tr>\n",
       "    <tr>\n",
       "      <th>164</th>\n",
       "      <td>2018-02-04</td>\n",
       "      <td>7626.0</td>\n",
       "    </tr>\n",
       "    <tr>\n",
       "      <th>165</th>\n",
       "      <td>2018-01-28</td>\n",
       "      <td>3101.0</td>\n",
       "    </tr>\n",
       "    <tr>\n",
       "      <th>166</th>\n",
       "      <td>2018-01-21</td>\n",
       "      <td>3133.0</td>\n",
       "    </tr>\n",
       "    <tr>\n",
       "      <th>167</th>\n",
       "      <td>2018-01-14</td>\n",
       "      <td>2897.0</td>\n",
       "    </tr>\n",
       "    <tr>\n",
       "      <th>168</th>\n",
       "      <td>2018-01-07</td>\n",
       "      <td>2941.0</td>\n",
       "    </tr>\n",
       "  </tbody>\n",
       "</table>\n",
       "<p>169 rows × 2 columns</p>\n",
       "</div>"
      ],
      "text/plain": [
       "          Date    Envi\n",
       "0   2015-12-27  1037.0\n",
       "1   2015-12-20   674.0\n",
       "2   2015-12-13   795.0\n",
       "3   2015-12-06  1132.0\n",
       "4   2015-11-29   941.0\n",
       "..         ...     ...\n",
       "164 2018-02-04  7626.0\n",
       "165 2018-01-28  3101.0\n",
       "166 2018-01-21  3133.0\n",
       "167 2018-01-14  2897.0\n",
       "168 2018-01-07  2941.0\n",
       "\n",
       "[169 rows x 2 columns]"
      ]
     },
     "execution_count": 40,
     "metadata": {},
     "output_type": "execute_result"
    }
   ],
   "source": [
    "envi"
   ]
  },
  {
   "cell_type": "markdown",
   "id": "c60a6345",
   "metadata": {},
   "source": [
    "### Visualize"
   ]
  },
  {
   "cell_type": "code",
   "execution_count": 41,
   "id": "0d6469db",
   "metadata": {},
   "outputs": [
    {
     "name": "stderr",
     "output_type": "stream",
     "text": [
      "/usr/local/anaconda3/envs/datascience/lib/python3.11/site-packages/seaborn/_oldcore.py:1119: FutureWarning: use_inf_as_na option is deprecated and will be removed in a future version. Convert inf values to NaN before operating instead.\n",
      "  with pd.option_context('mode.use_inf_as_na', True):\n",
      "/usr/local/anaconda3/envs/datascience/lib/python3.11/site-packages/seaborn/_oldcore.py:1119: FutureWarning: use_inf_as_na option is deprecated and will be removed in a future version. Convert inf values to NaN before operating instead.\n",
      "  with pd.option_context('mode.use_inf_as_na', True):\n"
     ]
    },
    {
     "data": {
      "text/plain": [
       "<Axes: xlabel='Date', ylabel='Envi'>"
      ]
     },
     "execution_count": 41,
     "metadata": {},
     "output_type": "execute_result"
    },
    {
     "data": {
      "image/png": "[encoded data removed]",
      "text/plain": [
       "<Figure size 1000x500 with 1 Axes>"
      ]
     },
     "metadata": {},
     "output_type": "display_data"
    }
   ],
   "source": [
    "plt.figure(figsize=(10, 5))\n",
    "sns.lineplot(data=envi, x='Date', y='Envi')"
   ]
  },
  {
   "cell_type": "markdown",
   "id": "395687e8",
   "metadata": {},
   "source": [
    "### Change Date to toordinal and Sort Date\n"
   ]
  },
  {
   "cell_type": "code",
   "execution_count": 42,
   "id": "35ae154d",
   "metadata": {},
   "outputs": [
    {
     "data": {
      "text/html": [
       "<div>\n",
       "<style scoped>\n",
       "    .dataframe tbody tr th:only-of-type {\n",
       "        vertical-align: middle;\n",
       "    }\n",
       "\n",
       "    .dataframe tbody tr th {\n",
       "        vertical-align: top;\n",
       "    }\n",
       "\n",
       "    .dataframe thead th {\n",
       "        text-align: right;\n",
       "    }\n",
       "</style>\n",
       "<table border=\"1\" class=\"dataframe\">\n",
       "  <thead>\n",
       "    <tr style=\"text-align: right;\">\n",
       "      <th></th>\n",
       "      <th>Envi</th>\n",
       "    </tr>\n",
       "    <tr>\n",
       "      <th>Date</th>\n",
       "      <th></th>\n",
       "    </tr>\n",
       "  </thead>\n",
       "  <tbody>\n",
       "    <tr>\n",
       "      <th>2015-12-27</th>\n",
       "      <td>1037.0</td>\n",
       "    </tr>\n",
       "    <tr>\n",
       "      <th>2015-12-20</th>\n",
       "      <td>674.0</td>\n",
       "    </tr>\n",
       "    <tr>\n",
       "      <th>2015-12-13</th>\n",
       "      <td>795.0</td>\n",
       "    </tr>\n",
       "    <tr>\n",
       "      <th>2015-12-06</th>\n",
       "      <td>1132.0</td>\n",
       "    </tr>\n",
       "    <tr>\n",
       "      <th>2015-11-29</th>\n",
       "      <td>941.0</td>\n",
       "    </tr>\n",
       "    <tr>\n",
       "      <th>...</th>\n",
       "      <td>...</td>\n",
       "    </tr>\n",
       "    <tr>\n",
       "      <th>2018-02-04</th>\n",
       "      <td>7626.0</td>\n",
       "    </tr>\n",
       "    <tr>\n",
       "      <th>2018-01-28</th>\n",
       "      <td>3101.0</td>\n",
       "    </tr>\n",
       "    <tr>\n",
       "      <th>2018-01-21</th>\n",
       "      <td>3133.0</td>\n",
       "    </tr>\n",
       "    <tr>\n",
       "      <th>2018-01-14</th>\n",
       "      <td>2897.0</td>\n",
       "    </tr>\n",
       "    <tr>\n",
       "      <th>2018-01-07</th>\n",
       "      <td>2941.0</td>\n",
       "    </tr>\n",
       "  </tbody>\n",
       "</table>\n",
       "<p>169 rows × 1 columns</p>\n",
       "</div>"
      ],
      "text/plain": [
       "              Envi\n",
       "Date              \n",
       "2015-12-27  1037.0\n",
       "2015-12-20   674.0\n",
       "2015-12-13   795.0\n",
       "2015-12-06  1132.0\n",
       "2015-11-29   941.0\n",
       "...            ...\n",
       "2018-02-04  7626.0\n",
       "2018-01-28  3101.0\n",
       "2018-01-21  3133.0\n",
       "2018-01-14  2897.0\n",
       "2018-01-07  2941.0\n",
       "\n",
       "[169 rows x 1 columns]"
      ]
     },
     "execution_count": 42,
     "metadata": {},
     "output_type": "execute_result"
    }
   ],
   "source": [
    "\n",
    "\n",
    "# envi['Date'] = envi['Date'].map(dt.datetime.toordinal)\n",
    "\n",
    "# envi\n",
    "\n",
    "envi.set_index('Date', inplace=True)\n",
    "envi.sort_index(ascending=True)\n",
    "envi"
   ]
  },
  {
   "cell_type": "code",
   "execution_count": 43,
   "id": "911d9b92",
   "metadata": {},
   "outputs": [
    {
     "data": {
      "text/html": [
       "<div>\n",
       "<style scoped>\n",
       "    .dataframe tbody tr th:only-of-type {\n",
       "        vertical-align: middle;\n",
       "    }\n",
       "\n",
       "    .dataframe tbody tr th {\n",
       "        vertical-align: top;\n",
       "    }\n",
       "\n",
       "    .dataframe thead th {\n",
       "        text-align: right;\n",
       "    }\n",
       "</style>\n",
       "<table border=\"1\" class=\"dataframe\">\n",
       "  <thead>\n",
       "    <tr style=\"text-align: right;\">\n",
       "      <th></th>\n",
       "      <th>Date</th>\n",
       "      <th>Envi</th>\n",
       "    </tr>\n",
       "  </thead>\n",
       "  <tbody>\n",
       "    <tr>\n",
       "      <th>0</th>\n",
       "      <td>735959</td>\n",
       "      <td>1037.0</td>\n",
       "    </tr>\n",
       "    <tr>\n",
       "      <th>1</th>\n",
       "      <td>735952</td>\n",
       "      <td>674.0</td>\n",
       "    </tr>\n",
       "    <tr>\n",
       "      <th>2</th>\n",
       "      <td>735945</td>\n",
       "      <td>795.0</td>\n",
       "    </tr>\n",
       "    <tr>\n",
       "      <th>3</th>\n",
       "      <td>735938</td>\n",
       "      <td>1132.0</td>\n",
       "    </tr>\n",
       "    <tr>\n",
       "      <th>4</th>\n",
       "      <td>735931</td>\n",
       "      <td>941.0</td>\n",
       "    </tr>\n",
       "    <tr>\n",
       "      <th>...</th>\n",
       "      <td>...</td>\n",
       "      <td>...</td>\n",
       "    </tr>\n",
       "    <tr>\n",
       "      <th>164</th>\n",
       "      <td>736729</td>\n",
       "      <td>7626.0</td>\n",
       "    </tr>\n",
       "    <tr>\n",
       "      <th>165</th>\n",
       "      <td>736722</td>\n",
       "      <td>3101.0</td>\n",
       "    </tr>\n",
       "    <tr>\n",
       "      <th>166</th>\n",
       "      <td>736715</td>\n",
       "      <td>3133.0</td>\n",
       "    </tr>\n",
       "    <tr>\n",
       "      <th>167</th>\n",
       "      <td>736708</td>\n",
       "      <td>2897.0</td>\n",
       "    </tr>\n",
       "    <tr>\n",
       "      <th>168</th>\n",
       "      <td>736701</td>\n",
       "      <td>2941.0</td>\n",
       "    </tr>\n",
       "  </tbody>\n",
       "</table>\n",
       "<p>169 rows × 2 columns</p>\n",
       "</div>"
      ],
      "text/plain": [
       "       Date    Envi\n",
       "0    735959  1037.0\n",
       "1    735952   674.0\n",
       "2    735945   795.0\n",
       "3    735938  1132.0\n",
       "4    735931   941.0\n",
       "..      ...     ...\n",
       "164  736729  7626.0\n",
       "165  736722  3101.0\n",
       "166  736715  3133.0\n",
       "167  736708  2897.0\n",
       "168  736701  2941.0\n",
       "\n",
       "[169 rows x 2 columns]"
      ]
     },
     "execution_count": 43,
     "metadata": {},
     "output_type": "execute_result"
    }
   ],
   "source": [
    "import datetime as dt\n",
    "\n",
    "envi.index = envi.index.map(dt.datetime.toordinal)\n",
    "envi.reset_index(inplace=True)\n",
    "envi.rename(columns={'index': 'Date'}, inplace=True)\n",
    "envi\n"
   ]
  },
  {
   "cell_type": "markdown",
   "id": "f72664e4",
   "metadata": {},
   "source": [
    "### Prepare Train and Test Data"
   ]
  },
  {
   "cell_type": "code",
   "execution_count": 44,
   "id": "960529b0",
   "metadata": {},
   "outputs": [],
   "source": [
    "# Split the data into features (X) and target variable (y)\n",
    "\n",
    "\n",
    "X = envi[['Date']]  # Replace 'feature1', 'feature2', ... with actual feature names\n",
    "y = envi['Envi']  # Replace 'Envi' with actual target variable name\n",
    "\n",
    "# Split the data into training and testing sets\n",
    "X_train, X_test, y_train, y_test = train_test_split(X, y, test_size=0.3, random_state=320)"
   ]
  },
  {
   "cell_type": "markdown",
   "id": "79a93839",
   "metadata": {},
   "source": [
    "### Decision Tree Regressor\n"
   ]
  },
  {
   "cell_type": "code",
   "execution_count": 45,
   "id": "17fed5ad",
   "metadata": {},
   "outputs": [],
   "source": [
    "# Create the Decision Tree Regressor model\n",
    "model_decision = DecisionTreeRegressor(max_depth=7,min_samples_split=3,min_samples_leaf=3)\n",
    "\n",
    "# Fit the model to the training data\n",
    "model_decision.fit(X_train, y_train)\n",
    "# Make predictions on the test data\n",
    "y_pred = model_decision.predict(X_test)\n"
   ]
  },
  {
   "cell_type": "markdown",
   "id": "5a8bb703",
   "metadata": {},
   "source": [
    "### Gradient Boosting"
   ]
  },
  {
   "cell_type": "code",
   "execution_count": 46,
   "id": "ba511217",
   "metadata": {},
   "outputs": [],
   "source": [
    "model_gradient = GradientBoostingRegressor(n_estimators=100, learning_rate=0.8, max_depth=1, random_state=320)\n",
    "model_gradient.fit(X_train, y_train)\n",
    "\n",
    "y_pred_gradient = model_gradient.predict(X_test)"
   ]
  },
  {
   "cell_type": "markdown",
   "id": "6019a304",
   "metadata": {},
   "source": [
    "### Metrics"
   ]
  },
  {
   "cell_type": "code",
   "execution_count": 47,
   "id": "e3c10701",
   "metadata": {},
   "outputs": [],
   "source": [
    "from sklearn.metrics import mean_squared_error, r2_score, mean_absolute_error"
   ]
  },
  {
   "cell_type": "markdown",
   "id": "e1d5e8d1",
   "metadata": {},
   "source": [
    "#### MAPE"
   ]
  },
  {
   "cell_type": "code",
   "execution_count": 48,
   "id": "c497ecc4",
   "metadata": {},
   "outputs": [
    {
     "data": {
      "image/png": "[encoded data removed]",
      "text/plain": [
       "<Figure size 640x480 with 1 Axes>"
      ]
     },
     "metadata": {},
     "output_type": "display_data"
    }
   ],
   "source": [
    "map_decision = mape(y_test, y_pred)\n",
    "map_gradient = mape(y_test, y_pred_gradient)\n",
    "\n",
    "# Generate the bar plot\n",
    "fig, ax = plt.subplots()\n",
    "x = ['Decision Tree', 'Gradient Boosting']\n",
    "y = [map_decision, map_gradient]\n",
    "ax.bar(x, y, width=0.4)\n",
    "ax.set_xlabel('Regressor models')\n",
    "ax.set_ylabel('MAPE (%)')\n",
    "ax.set_ylim(0, 300)\n",
    "\n",
    "for index, value in enumerate(y):\n",
    "    plt.text(x=index, y=value + 0.05, s=str(value), ha='center')\n",
    "    \n",
    "plt.tight_layout()"
   ]
  },
  {
   "cell_type": "markdown",
   "id": "51729c09",
   "metadata": {},
   "source": [
    "### Accurency Between Decision Tree and Gradient Boosting From Test Data"
   ]
  },
  {
   "cell_type": "code",
   "execution_count": 49,
   "id": "38028713",
   "metadata": {},
   "outputs": [
    {
     "name": "stdout",
     "output_type": "stream",
     "text": [
      "Accuracy Decision Tree: 91.90%\n",
      "Accurency Gradient Boosting : 83.46%\n"
     ]
    }
   ],
   "source": [
    "print(\"Accuracy Decision Tree: {:.2f}%\".format(model_decision.score(X_test, y_test) * 100))\n",
    "print(\"Accurency Gradient Boosting : {:.2f}%\".format(model_gradient.score(X_test, y_test)  * 100))"
   ]
  },
  {
   "cell_type": "code",
   "execution_count": 50,
   "id": "510b72ed",
   "metadata": {},
   "outputs": [
    {
     "name": "stdout",
     "output_type": "stream",
     "text": [
      "Decision Tree MSE: 1618606.33\n",
      "Decision Tree RMSE: 1272.24\n",
      "Decision Tree R2: 0.92\n",
      "Decision Tree MAE: 790.32\n",
      "Gradient Boosting MSE: 3306138.00\n",
      "Gradient Boosting RMSE: 1818.28\n",
      "Gradient Boosting R2: 0.83\n",
      "Gradient Boosting MAE: 876.76\n"
     ]
    }
   ],
   "source": [
    "from sklearn.metrics import mean_squared_error, r2_score, mean_absolute_error\n",
    "\n",
    "decision_mse = mean_squared_error(y_test, y_pred)\n",
    "decision_rmse = np.sqrt(decision_mse)\n",
    "decision_r2 = r2_score(y_test, y_pred)\n",
    "decision_mae = mean_absolute_error(y_test, y_pred)\n",
    "\n",
    "gradient_mse = mean_squared_error(y_test, y_pred_gradient)\n",
    "gradient_rmse = np.sqrt(gradient_mse)\n",
    "gradient_r2 = r2_score(y_test, y_pred_gradient)\n",
    "gradient_mae = mean_absolute_error(y_test, y_pred_gradient)\n",
    "\n",
    "print(\"Decision Tree MSE: {:.2f}\".format(decision_mse))\n",
    "print(\"Decision Tree RMSE: {:.2f}\".format(decision_rmse))\n",
    "print(\"Decision Tree R2: {:.2f}\".format(decision_r2))\n",
    "print(\"Decision Tree MAE: {:.2f}\".format(decision_mae))\n",
    "\n",
    "\n",
    "print(\"Gradient Boosting MSE: {:.2f}\".format(gradient_mse))\n",
    "print(\"Gradient Boosting RMSE: {:.2f}\".format(gradient_rmse))\n",
    "print(\"Gradient Boosting R2: {:.2f}\".format(gradient_r2))\n",
    "print(\"Gradient Boosting MAE: {:.2f}\".format(gradient_mae))\n",
    "\n"
   ]
  },
  {
   "cell_type": "markdown",
   "id": "5155064c",
   "metadata": {},
   "source": [
    "### R2 Score Visualization"
   ]
  },
  {
   "cell_type": "code",
   "execution_count": 51,
   "id": "967be2e4",
   "metadata": {},
   "outputs": [
    {
     "name": "stderr",
     "output_type": "stream",
     "text": [
      "No artists with labels found to put in legend.  Note that artists whose label start with an underscore are ignored when legend() is called with no argument.\n"
     ]
    },
    {
     "data": {
      "image/png": "[encoded data removed]",
      "text/plain": [
       "<Figure size 640x480 with 1 Axes>"
      ]
     },
     "metadata": {},
     "output_type": "display_data"
    }
   ],
   "source": [
    "\n",
    "x = np.array(['Decision Tree', 'Gradient Boosting'])\n",
    "y = np.array([decision_r2, gradient_r2])\n",
    "\n",
    "plt.bar(x, y)\n",
    "plt.title('R2 Score')\n",
    "plt.legend()\n",
    "plt.show()\n"
   ]
  },
  {
   "cell_type": "markdown",
   "id": "92f2ccde",
   "metadata": {},
   "source": [
    "#### MEAN Absolute Error Visualization"
   ]
  },
  {
   "cell_type": "code",
   "execution_count": 52,
   "id": "2b1e3d06",
   "metadata": {},
   "outputs": [
    {
     "name": "stderr",
     "output_type": "stream",
     "text": [
      "No artists with labels found to put in legend.  Note that artists whose label start with an underscore are ignored when legend() is called with no argument.\n"
     ]
    },
    {
     "data": {
      "image/png": "[encoded data removed]",
      "text/plain": [
       "<Figure size 640x480 with 1 Axes>"
      ]
     },
     "metadata": {},
     "output_type": "display_data"
    }
   ],
   "source": [
    "x = np.array(['Decision Tree', 'Gradient Boosting'])\n",
    "y = np.array([decision_mae, gradient_mae])\n",
    "\n",
    "plt.bar(x, y)\n",
    "plt.title('Mean Absolute Error')\n",
    "plt.legend()\n",
    "plt.show()\n"
   ]
  },
  {
   "cell_type": "markdown",
   "id": "64091231",
   "metadata": {},
   "source": [
    "### MSE Visualization"
   ]
  },
  {
   "cell_type": "code",
   "execution_count": 53,
   "id": "a36786e6",
   "metadata": {},
   "outputs": [
    {
     "name": "stderr",
     "output_type": "stream",
     "text": [
      "No artists with labels found to put in legend.  Note that artists whose label start with an underscore are ignored when legend() is called with no argument.\n"
     ]
    },
    {
     "data": {
      "image/png": "[encoded data removed]",
      "text/plain": [
       "<Figure size 640x480 with 1 Axes>"
      ]
     },
     "metadata": {},
     "output_type": "display_data"
    }
   ],
   "source": [
    "x = np.array(['Decision Tree', 'Gradient Boosting'])\n",
    "y = np.array([decision_rmse, gradient_rmse])\n",
    "\n",
    "plt.bar(x, y)\n",
    "plt.title('Root Mean Squared Error')\n",
    "plt.legend()\n",
    "plt.show()\n"
   ]
  },
  {
   "cell_type": "markdown",
   "id": "af825da6",
   "metadata": {},
   "source": [
    "# Train with Previous Data"
   ]
  },
  {
   "cell_type": "code",
   "execution_count": 54,
   "id": "bd63e103",
   "metadata": {},
   "outputs": [
    {
     "name": "stderr",
     "output_type": "stream",
     "text": [
      "/var/folders/l6/zmy7plp52p12kjh1v3yn2p7h0000gn/T/ipykernel_2152/1723499799.py:3: FutureWarning: Series.fillna with 'method' is deprecated and will raise in a future version. Use obj.ffill() or obj.bfill() instead.\n",
      "  envi['date_previous'] = envi['date_previous'].fillna(method='bfill')\n"
     ]
    },
    {
     "data": {
      "image/png": "[encoded data removed]",
      "text/plain": [
       "<Figure size 640x480 with 1 Axes>"
      ]
     },
     "metadata": {},
     "output_type": "display_data"
    }
   ],
   "source": [
    "import numpy as np\n",
    "envi['date_previous'] = envi['Date'].shift(1)\n",
    "envi['date_previous'] = envi['date_previous'].fillna(method='bfill')\n",
    "\n",
    "envi['date_previous'] = envi['date_previous'].interpolate()\n",
    "\n",
    "\n",
    "# envi = envi.dropna()\n",
    "\n",
    "X = envi[['Date', 'date_previous']]\n",
    "y = envi['Envi']\n",
    "\n",
    "X_train, X_test, y_train, y_test = train_test_split(X, y, test_size=0.3, random_state=320)\n",
    "\n",
    "model_decision = DecisionTreeRegressor(max_depth=7,min_samples_split=3,min_samples_leaf=3)\n",
    "model_decision.fit(X_train, y_train)\n",
    "y_pred = model_decision.predict(X_test)\n",
    "\n",
    "model_gradient = GradientBoostingRegressor(n_estimators=100, learning_rate=0.8, max_depth=1, random_state=320)\n",
    "model_gradient.fit(X_train, y_train)\n",
    "y_pred_gradient = model_gradient.predict(X_test)\n",
    "\n",
    "map_decision = mape(y_test, y_pred)\n",
    "map_gradient = mape(y_test, y_pred_gradient)\n",
    "\n",
    "fig, ax = plt.subplots()\n",
    "x = ['Decision Tree', 'Gradient Boosting']\n",
    "y = [map_decision, map_gradient]\n",
    "ax.bar(x, y, width=0.4)\n",
    "ax.set_xlabel('Regressor models')\n",
    "ax.set_ylabel('MAPE (%)')\n",
    "ax.set_ylim(0, 300)\n",
    "\n",
    "for index, value in enumerate(y):\n",
    "    plt.text(x=index, y=value + 0.05, s=str(value), ha='center')\n",
    "    \n",
    "plt.tight_layout()"
   ]
  },
  {
   "cell_type": "code",
   "execution_count": 55,
   "id": "d3a682ea",
   "metadata": {},
   "outputs": [
    {
     "name": "stderr",
     "output_type": "stream",
     "text": [
      "No artists with labels found to put in legend.  Note that artists whose label start with an underscore are ignored when legend() is called with no argument.\n"
     ]
    },
    {
     "name": "stdout",
     "output_type": "stream",
     "text": [
      "Decision Tree MSE: 1584198.14\n",
      "Decision Tree RMSE: 1258.65\n",
      "Decision Tree R2: 0.92\n",
      "Decision Tree MAE: 744.98\n",
      "Gradient Boosting MSE: 3533402.62\n",
      "Gradient Boosting RMSE: 1879.73\n",
      "Gradient Boosting R2: 0.82\n",
      "Gradient Boosting MAE: 923.16\n"
     ]
    },
    {
     "data": {
      "image/png": "[encoded data removed]",
      "text/plain": [
       "<Figure size 640x480 with 1 Axes>"
      ]
     },
     "metadata": {},
     "output_type": "display_data"
    }
   ],
   "source": [
    "mse_decision = mean_squared_error(y_test, y_pred)\n",
    "rmse_decision = np.sqrt(mse_decision)\n",
    "r2_decision = r2_score(y_test, y_pred)\n",
    "mae_decision = mean_absolute_error(y_test, y_pred)\n",
    "\n",
    "mse_gradient = mean_squared_error(y_test, y_pred_gradient)\n",
    "\n",
    "rmse_gradient = np.sqrt(mse_gradient)\n",
    "r2_gradient = r2_score(y_test, y_pred_gradient)\n",
    "mae_gradient = mean_absolute_error(y_test, y_pred_gradient)\n",
    "\n",
    "print(\"Decision Tree MSE: {:.2f}\".format(mse_decision))\n",
    "\n",
    "print(\"Decision Tree RMSE: {:.2f}\".format(rmse_decision))\n",
    "\n",
    "print(\"Decision Tree R2: {:.2f}\".format(r2_decision))\n",
    "\n",
    "print(\"Decision Tree MAE: {:.2f}\".format(mae_decision))\n",
    "\n",
    "print(\"Gradient Boosting MSE: {:.2f}\".format(mse_gradient))\n",
    "\n",
    "print(\"Gradient Boosting RMSE: {:.2f}\".format(rmse_gradient))\n",
    "\n",
    "print(\"Gradient Boosting R2: {:.2f}\".format(r2_gradient))\n",
    "\n",
    "print(\"Gradient Boosting MAE: {:.2f}\".format(mae_gradient))\n",
    "\n",
    "x = np.array(['Decision Tree', 'Gradient Boosting'])\n",
    "\n",
    "y = np.array([r2_decision, r2_gradient])\n",
    "\n",
    "plt.bar(x, y)\n",
    "\n",
    "plt.title('R2 Score')\n",
    "\n",
    "plt.legend()\n",
    "\n",
    "plt.show()\n"
   ]
  },
  {
   "cell_type": "markdown",
   "id": "419d9015",
   "metadata": {},
   "source": [
    "### Graph Bar of Decision Tree and Gradient Boosting From Test Data "
   ]
  },
  {
   "cell_type": "code",
   "execution_count": 56,
   "id": "51ef0403",
   "metadata": {},
   "outputs": [
    {
     "data": {
      "image/png": "[encoded data removed]",
      "text/plain": [
       "<Figure size 1600x1100 with 1 Axes>"
      ]
     },
     "metadata": {},
     "output_type": "display_data"
    }
   ],
   "source": [
    "\n",
    "X_test['Date'] = pd.to_datetime(X_test['Date'].apply(dt.datetime.fromordinal))\n",
    "\n",
    "\n",
    "fig, ax = plt.subplots(figsize=(16, 11))\n",
    "\n",
    "bar_width = 12\n",
    "ax.set_xlabel('Date')\n",
    "ax.set_ylabel('Envi')\n",
    "ax.bar(X_test['Date'], y_test, color='blue', label='Actual', width=8)\n",
    "ax.bar(X_test['Date'] + pd.DateOffset(days=bar_width), y_pred, color='red', label='Decision Tree', width=8)\n",
    "ax.bar(X_test['Date'] + 2*pd.DateOffset(days=bar_width), y_pred_gradient, color='green', label='Gradient Boosting', width=8)\n",
    "\n",
    "\n",
    "plt.legend(loc=2)\n",
    "fig.autofmt_xdate()\n",
    "plt.tight_layout()\n",
    "\n",
    "\n",
    "\n"
   ]
  },
  {
   "cell_type": "markdown",
   "id": "838a7a15",
   "metadata": {},
   "source": [
    "### Prediction Demo Envi Apple"
   ]
  },
  {
   "cell_type": "markdown",
   "id": "44a882cb",
   "metadata": {},
   "source": [
    "#### Model Decision Tree  Predict Demo"
   ]
  },
  {
   "cell_type": "code",
   "execution_count": 57,
   "id": "cc1158b1",
   "metadata": {},
   "outputs": [
    {
     "name": "stdout",
     "output_type": "stream",
     "text": [
      "21391.333333333332\n"
     ]
    },
    {
     "name": "stderr",
     "output_type": "stream",
     "text": [
      "/usr/local/anaconda3/envs/datascience/lib/python3.11/site-packages/sklearn/base.py:450: UserWarning: X does not have valid feature names, but DecisionTreeRegressor was fitted with feature names\n",
      "  warnings.warn(\n"
     ]
    }
   ],
   "source": [
    "from datetime import timedelta\n",
    "inputDate = input(\"Enter the date in the format 'YYYY-MM-DD' (ex: 2024-01-01): \")\n",
    "\n",
    "# Input the date\n",
    "input_date = pd.to_datetime(inputDate, format='%Y-%m-%d')  # Replace '2024-01-01' with the desired date\n",
    "#27/12/2015\n",
    "# Convert the input date to the ordinal format\n",
    "input_date_ordinal = input_date.toordinal()\n",
    "\n",
    "# Shift the input date by 1 days before\n",
    "input_shift = pd.to_datetime(inputDate, format='%Y-%m-%d') - timedelta(days=1)\n",
    "\n",
    "shifted_input_date_ordinal = input_date_ordinal + input_shift.toordinal()\n",
    "\n",
    "\n",
    "# Predict the Envi value for the input date\n",
    "predicted_envi = model_decision.predict([[input_date_ordinal, shifted_input_date_ordinal]])\n",
    "\n",
    "print(predicted_envi[0])"
   ]
  },
  {
   "cell_type": "markdown",
   "id": "df5c73fc",
   "metadata": {},
   "source": [
    "#### Model Gradient Boosting Predict Demo"
   ]
  },
  {
   "cell_type": "code",
   "execution_count": 58,
   "id": "22c9a935",
   "metadata": {},
   "outputs": [
    {
     "name": "stdout",
     "output_type": "stream",
     "text": [
      "24.176318346340878\n"
     ]
    },
    {
     "name": "stderr",
     "output_type": "stream",
     "text": [
      "/usr/local/anaconda3/envs/datascience/lib/python3.11/site-packages/sklearn/base.py:450: UserWarning: X does not have valid feature names, but GradientBoostingRegressor was fitted with feature names\n",
      "  warnings.warn(\n"
     ]
    }
   ],
   "source": [
    "inputDate = input(\"Enter the date in the format 'YYYY-MM-DD' (ex: 2024-01-01): \")\n",
    "\n",
    "# Input the date\n",
    "input_date = pd.to_datetime(inputDate, format='%Y-%m-%d')  # Replace '2024-01-01' with the desired date\n",
    "#27/12/2015\n",
    "# Convert the input date to the ordinal format\n",
    "input_date_ordinal = input_date.toordinal()\n",
    "\n",
    "# Shift the input date by 1 days before\n",
    "input_shift = pd.to_datetime(inputDate, format='%Y-%m-%d') - timedelta(days=1)\n",
    "\n",
    "shifted_input_date_ordinal = input_date_ordinal + input_shift.toordinal()\n",
    "\n",
    "# Predict the Envi value for the input date\n",
    "predicted_envi = model_gradient.predict([[input_date_ordinal, shifted_input_date_ordinal]])\n",
    "\n",
    "print(predicted_envi[0])"
   ]
  },
  {
   "cell_type": "markdown",
   "id": "634dea3e",
   "metadata": {},
   "source": [
    "## Fuji Model train\n"
   ]
  },
  {
   "cell_type": "markdown",
   "id": "840ae1e9",
   "metadata": {},
   "source": [
    "fuji เป็น dataset ที่มีการแยกข้อมูลของผลผลิตแอปเปิ้ลสายพันธุ์ Fuji ออกจากข้อมูลทั้งหมด โดยที่ข้อมูลจะประกอบด้วย วันที่ และผลผลิตของแอปเปิ้ลสายพันธุ์ Fuji ที่ได้ในวันที่แต่ละวัน"
   ]
  },
  {
   "cell_type": "code",
   "execution_count": 59,
   "id": "6150aeef",
   "metadata": {},
   "outputs": [
    {
     "data": {
      "text/html": [
       "<div>\n",
       "<style scoped>\n",
       "    .dataframe tbody tr th:only-of-type {\n",
       "        vertical-align: middle;\n",
       "    }\n",
       "\n",
       "    .dataframe tbody tr th {\n",
       "        vertical-align: top;\n",
       "    }\n",
       "\n",
       "    .dataframe thead th {\n",
       "        text-align: right;\n",
       "    }\n",
       "</style>\n",
       "<table border=\"1\" class=\"dataframe\">\n",
       "  <thead>\n",
       "    <tr style=\"text-align: right;\">\n",
       "      <th></th>\n",
       "      <th>Date</th>\n",
       "      <th>Fuji</th>\n",
       "    </tr>\n",
       "  </thead>\n",
       "  <tbody>\n",
       "    <tr>\n",
       "      <th>0</th>\n",
       "      <td>2015-12-27</td>\n",
       "      <td>54455.0</td>\n",
       "    </tr>\n",
       "    <tr>\n",
       "      <th>1</th>\n",
       "      <td>2015-12-20</td>\n",
       "      <td>44639.0</td>\n",
       "    </tr>\n",
       "    <tr>\n",
       "      <th>2</th>\n",
       "      <td>2015-12-13</td>\n",
       "      <td>109150.0</td>\n",
       "    </tr>\n",
       "    <tr>\n",
       "      <th>3</th>\n",
       "      <td>2015-12-06</td>\n",
       "      <td>71976.0</td>\n",
       "    </tr>\n",
       "    <tr>\n",
       "      <th>4</th>\n",
       "      <td>2015-11-29</td>\n",
       "      <td>43838.0</td>\n",
       "    </tr>\n",
       "    <tr>\n",
       "      <th>...</th>\n",
       "      <td>...</td>\n",
       "      <td>...</td>\n",
       "    </tr>\n",
       "    <tr>\n",
       "      <th>164</th>\n",
       "      <td>2018-02-04</td>\n",
       "      <td>195725.0</td>\n",
       "    </tr>\n",
       "    <tr>\n",
       "      <th>165</th>\n",
       "      <td>2018-01-28</td>\n",
       "      <td>74627.0</td>\n",
       "    </tr>\n",
       "    <tr>\n",
       "      <th>166</th>\n",
       "      <td>2018-01-21</td>\n",
       "      <td>116521.0</td>\n",
       "    </tr>\n",
       "    <tr>\n",
       "      <th>167</th>\n",
       "      <td>2018-01-14</td>\n",
       "      <td>76571.0</td>\n",
       "    </tr>\n",
       "    <tr>\n",
       "      <th>168</th>\n",
       "      <td>2018-01-07</td>\n",
       "      <td>76193.0</td>\n",
       "    </tr>\n",
       "  </tbody>\n",
       "</table>\n",
       "<p>169 rows × 2 columns</p>\n",
       "</div>"
      ],
      "text/plain": [
       "          Date      Fuji\n",
       "0   2015-12-27   54455.0\n",
       "1   2015-12-20   44639.0\n",
       "2   2015-12-13  109150.0\n",
       "3   2015-12-06   71976.0\n",
       "4   2015-11-29   43838.0\n",
       "..         ...       ...\n",
       "164 2018-02-04  195725.0\n",
       "165 2018-01-28   74627.0\n",
       "166 2018-01-21  116521.0\n",
       "167 2018-01-14   76571.0\n",
       "168 2018-01-07   76193.0\n",
       "\n",
       "[169 rows x 2 columns]"
      ]
     },
     "execution_count": 59,
     "metadata": {},
     "output_type": "execute_result"
    }
   ],
   "source": [
    "# Fuji data\n",
    "fuji"
   ]
  },
  {
   "cell_type": "markdown",
   "id": "1b95fcfc",
   "metadata": {},
   "source": [
    "### Visualize"
   ]
  },
  {
   "cell_type": "markdown",
   "id": "8fef3b73",
   "metadata": {},
   "source": [
    "กราฟแสดงผลผลิตของแอปเปิ้ลสายพันธุ์ Fuji โดยแกน Y แสดงค่าของผลผลิตแอปเปิ้ล ส่วนแกน X แสดงวันที่ของการเก็บผลิต"
   ]
  },
  {
   "cell_type": "code",
   "execution_count": 60,
   "id": "31b8e91b",
   "metadata": {},
   "outputs": [
    {
     "name": "stderr",
     "output_type": "stream",
     "text": [
      "/usr/local/anaconda3/envs/datascience/lib/python3.11/site-packages/seaborn/_oldcore.py:1119: FutureWarning: use_inf_as_na option is deprecated and will be removed in a future version. Convert inf values to NaN before operating instead.\n",
      "  with pd.option_context('mode.use_inf_as_na', True):\n",
      "/usr/local/anaconda3/envs/datascience/lib/python3.11/site-packages/seaborn/_oldcore.py:1119: FutureWarning: use_inf_as_na option is deprecated and will be removed in a future version. Convert inf values to NaN before operating instead.\n",
      "  with pd.option_context('mode.use_inf_as_na', True):\n"
     ]
    },
    {
     "data": {
      "text/plain": [
       "<Axes: xlabel='Date', ylabel='Fuji'>"
      ]
     },
     "execution_count": 60,
     "metadata": {},
     "output_type": "execute_result"
    },
    {
     "data": {
      "image/png": "[encoded data removed]",
      "text/plain": [
       "<Figure size 1000x500 with 1 Axes>"
      ]
     },
     "metadata": {},
     "output_type": "display_data"
    }
   ],
   "source": [
    "plt.figure(figsize=(10, 5))\n",
    "sns.lineplot(data=fuji, x='Date', y='Fuji')"
   ]
  },
  {
   "cell_type": "markdown",
   "id": "c1c2bce8",
   "metadata": {},
   "source": [
    "### Change Date to toordinal and Sort Date"
   ]
  },
  {
   "cell_type": "markdown",
   "id": "be81afaf",
   "metadata": {},
   "source": [
    "function นี้จะทำการ soft index โดยใช้วันที่เป็นตัวกำหนดในการ soft"
   ]
  },
  {
   "cell_type": "code",
   "execution_count": 61,
   "id": "2d0f5ff8",
   "metadata": {},
   "outputs": [
    {
     "data": {
      "text/html": [
       "<div>\n",
       "<style scoped>\n",
       "    .dataframe tbody tr th:only-of-type {\n",
       "        vertical-align: middle;\n",
       "    }\n",
       "\n",
       "    .dataframe tbody tr th {\n",
       "        vertical-align: top;\n",
       "    }\n",
       "\n",
       "    .dataframe thead th {\n",
       "        text-align: right;\n",
       "    }\n",
       "</style>\n",
       "<table border=\"1\" class=\"dataframe\">\n",
       "  <thead>\n",
       "    <tr style=\"text-align: right;\">\n",
       "      <th></th>\n",
       "      <th>Fuji</th>\n",
       "    </tr>\n",
       "    <tr>\n",
       "      <th>Date</th>\n",
       "      <th></th>\n",
       "    </tr>\n",
       "  </thead>\n",
       "  <tbody>\n",
       "    <tr>\n",
       "      <th>2015-12-27</th>\n",
       "      <td>54455.0</td>\n",
       "    </tr>\n",
       "    <tr>\n",
       "      <th>2015-12-20</th>\n",
       "      <td>44639.0</td>\n",
       "    </tr>\n",
       "    <tr>\n",
       "      <th>2015-12-13</th>\n",
       "      <td>109150.0</td>\n",
       "    </tr>\n",
       "    <tr>\n",
       "      <th>2015-12-06</th>\n",
       "      <td>71976.0</td>\n",
       "    </tr>\n",
       "    <tr>\n",
       "      <th>2015-11-29</th>\n",
       "      <td>43838.0</td>\n",
       "    </tr>\n",
       "    <tr>\n",
       "      <th>...</th>\n",
       "      <td>...</td>\n",
       "    </tr>\n",
       "    <tr>\n",
       "      <th>2018-02-04</th>\n",
       "      <td>195725.0</td>\n",
       "    </tr>\n",
       "    <tr>\n",
       "      <th>2018-01-28</th>\n",
       "      <td>74627.0</td>\n",
       "    </tr>\n",
       "    <tr>\n",
       "      <th>2018-01-21</th>\n",
       "      <td>116521.0</td>\n",
       "    </tr>\n",
       "    <tr>\n",
       "      <th>2018-01-14</th>\n",
       "      <td>76571.0</td>\n",
       "    </tr>\n",
       "    <tr>\n",
       "      <th>2018-01-07</th>\n",
       "      <td>76193.0</td>\n",
       "    </tr>\n",
       "  </tbody>\n",
       "</table>\n",
       "<p>169 rows × 1 columns</p>\n",
       "</div>"
      ],
      "text/plain": [
       "                Fuji\n",
       "Date                \n",
       "2015-12-27   54455.0\n",
       "2015-12-20   44639.0\n",
       "2015-12-13  109150.0\n",
       "2015-12-06   71976.0\n",
       "2015-11-29   43838.0\n",
       "...              ...\n",
       "2018-02-04  195725.0\n",
       "2018-01-28   74627.0\n",
       "2018-01-21  116521.0\n",
       "2018-01-14   76571.0\n",
       "2018-01-07   76193.0\n",
       "\n",
       "[169 rows x 1 columns]"
      ]
     },
     "execution_count": 61,
     "metadata": {},
     "output_type": "execute_result"
    }
   ],
   "source": [
    "fuji.set_index('Date', inplace=True)\n",
    "fuji.sort_index(ascending=True)\n",
    "fuji"
   ]
  },
  {
   "cell_type": "code",
   "execution_count": 62,
   "id": "89e49eb7",
   "metadata": {},
   "outputs": [
    {
     "data": {
      "text/html": [
       "<div>\n",
       "<style scoped>\n",
       "    .dataframe tbody tr th:only-of-type {\n",
       "        vertical-align: middle;\n",
       "    }\n",
       "\n",
       "    .dataframe tbody tr th {\n",
       "        vertical-align: top;\n",
       "    }\n",
       "\n",
       "    .dataframe thead th {\n",
       "        text-align: right;\n",
       "    }\n",
       "</style>\n",
       "<table border=\"1\" class=\"dataframe\">\n",
       "  <thead>\n",
       "    <tr style=\"text-align: right;\">\n",
       "      <th></th>\n",
       "      <th>Date</th>\n",
       "      <th>Fuji</th>\n",
       "    </tr>\n",
       "  </thead>\n",
       "  <tbody>\n",
       "    <tr>\n",
       "      <th>0</th>\n",
       "      <td>735959</td>\n",
       "      <td>54455.0</td>\n",
       "    </tr>\n",
       "    <tr>\n",
       "      <th>1</th>\n",
       "      <td>735952</td>\n",
       "      <td>44639.0</td>\n",
       "    </tr>\n",
       "    <tr>\n",
       "      <th>2</th>\n",
       "      <td>735945</td>\n",
       "      <td>109150.0</td>\n",
       "    </tr>\n",
       "    <tr>\n",
       "      <th>3</th>\n",
       "      <td>735938</td>\n",
       "      <td>71976.0</td>\n",
       "    </tr>\n",
       "    <tr>\n",
       "      <th>4</th>\n",
       "      <td>735931</td>\n",
       "      <td>43838.0</td>\n",
       "    </tr>\n",
       "    <tr>\n",
       "      <th>...</th>\n",
       "      <td>...</td>\n",
       "      <td>...</td>\n",
       "    </tr>\n",
       "    <tr>\n",
       "      <th>164</th>\n",
       "      <td>736729</td>\n",
       "      <td>195725.0</td>\n",
       "    </tr>\n",
       "    <tr>\n",
       "      <th>165</th>\n",
       "      <td>736722</td>\n",
       "      <td>74627.0</td>\n",
       "    </tr>\n",
       "    <tr>\n",
       "      <th>166</th>\n",
       "      <td>736715</td>\n",
       "      <td>116521.0</td>\n",
       "    </tr>\n",
       "    <tr>\n",
       "      <th>167</th>\n",
       "      <td>736708</td>\n",
       "      <td>76571.0</td>\n",
       "    </tr>\n",
       "    <tr>\n",
       "      <th>168</th>\n",
       "      <td>736701</td>\n",
       "      <td>76193.0</td>\n",
       "    </tr>\n",
       "  </tbody>\n",
       "</table>\n",
       "<p>169 rows × 2 columns</p>\n",
       "</div>"
      ],
      "text/plain": [
       "       Date      Fuji\n",
       "0    735959   54455.0\n",
       "1    735952   44639.0\n",
       "2    735945  109150.0\n",
       "3    735938   71976.0\n",
       "4    735931   43838.0\n",
       "..      ...       ...\n",
       "164  736729  195725.0\n",
       "165  736722   74627.0\n",
       "166  736715  116521.0\n",
       "167  736708   76571.0\n",
       "168  736701   76193.0\n",
       "\n",
       "[169 rows x 2 columns]"
      ]
     },
     "execution_count": 62,
     "metadata": {},
     "output_type": "execute_result"
    }
   ],
   "source": [
    "fuji.index = fuji.index.map(dt.datetime.toordinal)\n",
    "fuji.reset_index(inplace=True)\n",
    "fuji.rename(columns={'index': 'Date'}, inplace=True)\n",
    "fuji"
   ]
  },
  {
   "cell_type": "markdown",
   "id": "7230ea64",
   "metadata": {},
   "source": [
    "### Prepare Train and Test Data"
   ]
  },
  {
   "cell_type": "markdown",
   "id": "c81cf7bd",
   "metadata": {},
   "source": [
    "เราทำการแยกข้อมูล X, y ซึ่งกำหนดให้ข้อมูลแกน X ( ข้อมูลที่ใช้ในการคาดการณ์ค่าที่ต้องการทำนาย )"
   ]
  },
  {
   "cell_type": "code",
   "execution_count": 63,
   "id": "7fbc6f08",
   "metadata": {},
   "outputs": [],
   "source": [
    "# Split the data into features (X) and target variable (y)\n",
    "\n",
    "fuji['x_1'] = fuji['Date'].shift(1)\n",
    "fuji['x_1'] = fuji['x_1'].bfill()\n",
    "\n",
    "\n",
    "fuji['x_2'] = fuji['Date'].shift(2)\n",
    "fuji['x_2'] = fuji['x_2'].bfill()\n",
    "\n",
    "fuji['x_3'] = fuji['Date'].shift(3)\n",
    "fuji['x_3'] = fuji['x_3'].bfill()\n",
    "\n",
    "fuji['x_1'] = fuji['x_1'].interpolate()\n",
    "fuji['x_2'] = fuji['x_2'].interpolate()\n",
    "fuji['x_3'] = fuji['x_3'].interpolate()\n",
    "\n",
    "\n",
    "\n",
    "X = fuji[['Date', 'x_1', 'x_2']]  # Replace 'feature1', 'feature2', ... with actual feature names\n",
    "y = fuji['Fuji']  # Replace 'Fuji' with actual target variable name\n",
    "\n",
    "# Split the data into training and testing sets\n",
    "X_train, X_test, y_train, y_test = train_test_split(X, y, test_size=0.3, random_state=320)"
   ]
  },
  {
   "cell_type": "markdown",
   "id": "24c47b9b",
   "metadata": {},
   "source": [
    "### Decision Tree Regressor"
   ]
  },
  {
   "cell_type": "code",
   "execution_count": 64,
   "id": "c36551b6",
   "metadata": {},
   "outputs": [],
   "source": [
    "# Create the Decision Tree Regressor model\n",
    "# model_decision = DecisionTreeRegressor(max_depth = 6, min_samples_split= 5, min_samples_leaf= 9)\n",
    "model_decision = DecisionTreeRegressor(max_depth=3, min_samples_leaf= 9, min_samples_split= 5)\n",
    "\n",
    "# Fit the model to the training data\n",
    "\n",
    "model_decision.fit(X_train, y_train)\n",
    "\n",
    "# Make predictions on the test data\n",
    "y_pred = model_decision.predict(X_test)"
   ]
  },
  {
   "cell_type": "markdown",
   "id": "7352180a",
   "metadata": {},
   "source": [
    "### Gradient Boosting"
   ]
  },
  {
   "cell_type": "code",
   "execution_count": 65,
   "id": "7e972b58",
   "metadata": {},
   "outputs": [],
   "source": [
    "model_gradient = GradientBoostingRegressor(n_estimators=90, max_depth=1, subsample= 0.6)\n",
    "model_gradient.fit(X_train, y_train)\n",
    "\n",
    "y_pred_gradient = model_gradient.predict(X_test)"
   ]
  },
  {
   "cell_type": "markdown",
   "id": "fb702a1c",
   "metadata": {},
   "source": [
    "### MAPE"
   ]
  },
  {
   "cell_type": "code",
   "execution_count": 66,
   "id": "70c2c7e0",
   "metadata": {},
   "outputs": [
    {
     "data": {
      "image/png": "[encoded data removed]",
      "text/plain": [
       "<Figure size 640x480 with 1 Axes>"
      ]
     },
     "metadata": {},
     "output_type": "display_data"
    }
   ],
   "source": [
    "map_decision = mape(y_test, y_pred)\n",
    "map_gradient = mape(y_test, y_pred_gradient)\n",
    "\n",
    "# Generate the bar plot\n",
    "fig, ax = plt.subplots()\n",
    "x = ['Decision Tree', 'Gradient Boosting']\n",
    "y = [map_decision, map_gradient]\n",
    "ax.bar(x, y, width=0.4)\n",
    "ax.set_xlabel('Regressor models')\n",
    "ax.set_ylabel('MAPE (%)')\n",
    "ax.set_ylim(0, 1000)\n",
    "\n",
    "for index, value in enumerate(y):\n",
    "    plt.text(x=index, y=value + 0.1, s=str(value), ha='center')\n",
    "    \n",
    "plt.tight_layout()"
   ]
  },
  {
   "cell_type": "markdown",
   "id": "25e76601",
   "metadata": {},
   "source": [
    "### Accurency Between Decision Tree and Gradient Boosting From Test Data"
   ]
  },
  {
   "cell_type": "code",
   "execution_count": 67,
   "id": "23a3544e",
   "metadata": {},
   "outputs": [
    {
     "name": "stdout",
     "output_type": "stream",
     "text": [
      "Accuracy Decision Tree: 22.50%\n",
      "Accurency Gradient Boosting : 14.49%\n"
     ]
    }
   ],
   "source": [
    "print(\"Accuracy Decision Tree: {:.2f}%\".format(model_decision.score(X_test, y_test) * 100))\n",
    "print(\"Accurency Gradient Boosting : {:.2f}%\".format(model_gradient.score(X_test, y_test)  * 100))"
   ]
  },
  {
   "cell_type": "code",
   "execution_count": 68,
   "id": "89f53fef",
   "metadata": {},
   "outputs": [
    {
     "data": {
      "image/png": "[encoded data removed]",
      "text/plain": [
       "<Figure size 1600x1100 with 1 Axes>"
      ]
     },
     "metadata": {},
     "output_type": "display_data"
    }
   ],
   "source": [
    "\n",
    "X_test['Date'] = pd.to_datetime(X_test['Date'].apply(dt.datetime.fromordinal))\n",
    "\n",
    "\n",
    "fig, ax = plt.subplots(figsize=(16, 11))\n",
    "\n",
    "bar_width = 12\n",
    "ax.set_xlabel('Date')\n",
    "ax.set_ylabel('Fuji')\n",
    "ax.bar(X_test['Date'], y_test, color='blue', label='Actual', width=8)\n",
    "ax.bar(X_test['Date'] + pd.DateOffset(days=bar_width), y_pred, color='red', label='Decision Tree', width=8)\n",
    "ax.bar(X_test['Date'] + 2*pd.DateOffset(days=bar_width), y_pred_gradient, color='green', label='Gradient Boosting', width=8)\n",
    "\n",
    "\n",
    "plt.legend(loc=2)\n",
    "fig.autofmt_xdate()\n",
    "plt.tight_layout()\n"
   ]
  },
  {
   "cell_type": "markdown",
   "id": "e1165444",
   "metadata": {},
   "source": [
    "The graph illustrates the production of Fuji apple varieties and the output obtained from the predictions of both models.\n",
    "\n",
    "- The blue bar represents the actual production of Fuji apple varieties\n",
    "\n",
    "- The red bar represents the production of Fuji apples predicted by the Decision Tree model\n",
    "\n",
    "- The green bar represents the production of Fuji apples predicted by the Gradient Boosting model\n",
    "\n",
    "From the graph, it can be observed that, starting from January 2015, the Decision Tree model predicts production closely aligned with the actual production, while the Gradient Boosting model tends to have a lower level of proximity in its predictions. Therefore, it is likely that the Decision Tree model provides predictions that are closer to the actual production compared to the Gradient Boosting model."
   ]
  },
  {
   "cell_type": "code",
   "execution_count": 69,
   "id": "b11520a0",
   "metadata": {},
   "outputs": [
    {
     "name": "stdout",
     "output_type": "stream",
     "text": [
      "Decision Tree MSE: 456773053.32\n",
      "Decision Tree RMSE: 21372.25\n",
      "Decision Tree R2: 0.22\n",
      "Decision Tree MAE: 15267.09\n",
      "Gradient Boosting MSE: 503976730.74\n",
      "Gradient Boosting RMSE: 22449.43\n",
      "Gradient Boosting R2: 0.14\n",
      "Gradient Boosting MAE: 16392.22\n"
     ]
    }
   ],
   "source": [
    "from sklearn.metrics import mean_squared_error, r2_score, mean_absolute_error\n",
    "\n",
    "decision_mse = mean_squared_error(y_test, y_pred)\n",
    "decision_rmse = np.sqrt(decision_mse)\n",
    "decision_r2 = r2_score(y_test, y_pred)\n",
    "decision_mae = mean_absolute_error(y_test, y_pred)\n",
    "\n",
    "gradient_mse = mean_squared_error(y_test, y_pred_gradient)\n",
    "gradient_rmse = np.sqrt(gradient_mse)\n",
    "gradient_r2 = r2_score(y_test, y_pred_gradient)\n",
    "gradient_mae = mean_absolute_error(y_test, y_pred_gradient)\n",
    "\n",
    "print(\"Decision Tree MSE: {:.2f}\".format(decision_mse))\n",
    "print(\"Decision Tree RMSE: {:.2f}\".format(decision_rmse))\n",
    "print(\"Decision Tree R2: {:.2f}\".format(decision_r2))\n",
    "print(\"Decision Tree MAE: {:.2f}\".format(decision_mae))\n",
    "\n",
    "\n",
    "print(\"Gradient Boosting MSE: {:.2f}\".format(gradient_mse))\n",
    "print(\"Gradient Boosting RMSE: {:.2f}\".format(gradient_rmse))\n",
    "print(\"Gradient Boosting R2: {:.2f}\".format(gradient_r2))\n",
    "print(\"Gradient Boosting MAE: {:.2f}\".format(gradient_mae))"
   ]
  },
  {
   "cell_type": "code",
   "execution_count": 70,
   "id": "765b5b86",
   "metadata": {},
   "outputs": [
    {
     "name": "stderr",
     "output_type": "stream",
     "text": [
      "No artists with labels found to put in legend.  Note that artists whose label start with an underscore are ignored when legend() is called with no argument.\n"
     ]
    },
    {
     "data": {
      "image/png": "[encoded data removed]",
      "text/plain": [
       "<Figure size 640x480 with 1 Axes>"
      ]
     },
     "metadata": {},
     "output_type": "display_data"
    }
   ],
   "source": [
    "x = np.array(['Decision Tree', 'Gradient Boosting'])\n",
    "y = np.array([decision_r2, gradient_r2])\n",
    "\n",
    "plt.bar(x, y)\n",
    "plt.title('R2 Score')\n",
    "plt.legend()\n",
    "    \n",
    "for index, value in enumerate(y):\n",
    "    plt.text(x=index, y=value + 0.001, s=str(value), ha='center')\n",
    "\n",
    "plt.show()"
   ]
  },
  {
   "cell_type": "code",
   "execution_count": 71,
   "id": "c23ea56f",
   "metadata": {},
   "outputs": [
    {
     "name": "stderr",
     "output_type": "stream",
     "text": [
      "No artists with labels found to put in legend.  Note that artists whose label start with an underscore are ignored when legend() is called with no argument.\n"
     ]
    },
    {
     "data": {
      "image/png": "[encoded data removed]",
      "text/plain": [
       "<Figure size 640x480 with 1 Axes>"
      ]
     },
     "metadata": {},
     "output_type": "display_data"
    }
   ],
   "source": [
    "x = np.array(['Decision Tree', 'Gradient Boosting'])\n",
    "y = np.array([decision_mae, gradient_mae])\n",
    "\n",
    "plt.bar(x, y)\n",
    "plt.title('Mean Absolute Error')\n",
    "plt.legend()\n",
    "\n",
    "for index, value in enumerate(y):\n",
    "    plt.text(x=index, y=value + 100, s=str(value), ha='center')\n",
    "\n",
    "plt.show()"
   ]
  },
  {
   "cell_type": "code",
   "execution_count": 72,
   "id": "0c4434d6",
   "metadata": {},
   "outputs": [
    {
     "name": "stderr",
     "output_type": "stream",
     "text": [
      "No artists with labels found to put in legend.  Note that artists whose label start with an underscore are ignored when legend() is called with no argument.\n"
     ]
    },
    {
     "data": {
      "image/png": "[encoded data removed]",
      "text/plain": [
       "<Figure size 640x480 with 1 Axes>"
      ]
     },
     "metadata": {},
     "output_type": "display_data"
    }
   ],
   "source": [
    "x = np.array(['Decision Tree', 'Gradient Boosting'])\n",
    "y = np.array([decision_mae, gradient_mae])\n",
    "\n",
    "plt.bar(x, y)\n",
    "plt.title('Mean Absolute Error')\n",
    "plt.legend()\n",
    "\n",
    "for index, value in enumerate(y):\n",
    "    plt.text(x=index, y=value + 100, s=str(value), ha='center')\n",
    "\n",
    "plt.show()"
   ]
  },
  {
   "cell_type": "code",
   "execution_count": 73,
   "id": "18cd7bca",
   "metadata": {},
   "outputs": [
    {
     "name": "stderr",
     "output_type": "stream",
     "text": [
      "No artists with labels found to put in legend.  Note that artists whose label start with an underscore are ignored when legend() is called with no argument.\n"
     ]
    },
    {
     "data": {
      "image/png": "[encoded data removed]",
      "text/plain": [
       "<Figure size 640x480 with 1 Axes>"
      ]
     },
     "metadata": {},
     "output_type": "display_data"
    }
   ],
   "source": [
    "x = np.array(['Decision Tree', 'Gradient Boosting'])\n",
    "y = np.array([decision_rmse, gradient_rmse])\n",
    "\n",
    "plt.bar(x, y)\n",
    "plt.title('Root Mean Squared Error')\n",
    "plt.legend()\n",
    "\n",
    "for index, value in enumerate(y):\n",
    "    plt.text(x=index, y=value + 100, s=str(value), ha='center')\n",
    "\n",
    "plt.show()"
   ]
  }
 ],
 "metadata": {
  "kernelspec": {
   "display_name": "Python 3 (ipykernel)",
   "language": "python",
   "name": "python3"
  },
  "language_info": {
   "codemirror_mode": {
    "name": "ipython",
    "version": 3
   },
   "file_extension": ".py",
   "mimetype": "text/x-python",
   "name": "python",
   "nbconvert_exporter": "python",
   "pygments_lexer": "ipython3",
   "version": "3.11.7"
  }
 },
 "nbformat": 4,
 "nbformat_minor": 5
}
